{
 "cells": [
  {
   "cell_type": "code",
   "execution_count": 1,
   "metadata": {
    "execution": {
     "iopub.execute_input": "2021-03-24T14:24:05.363464Z",
     "iopub.status.busy": "2021-03-24T14:24:05.363222Z",
     "iopub.status.idle": "2021-03-24T14:24:05.583539Z",
     "shell.execute_reply": "2021-03-24T14:24:05.580464Z",
     "shell.execute_reply.started": "2021-03-24T14:24:05.363436Z"
    }
   },
   "outputs": [],
   "source": [
    "# set up behind the scenes\n",
    "%matplotlib inline\n",
    "import matplotlib.pyplot as plt\n",
    "from matplotlib.gridspec import GridSpec\n",
    "plt.style.use('./matplotlibrc_notebook')\n",
    "import numpy as np\n",
    "from scipy.stats import spearmanr\n",
    "import pandas as pd\n",
    "from fooof import FOOOF\n",
    "from neurodsp import sim, spectral\n",
    "from statsmodels.tsa.stattools import acf\n",
    "import nibabel as ni\n",
    "from surfer import Brain\n",
    "import altair as alt\n",
    "\n",
    "import warnings\n",
    "warnings.filterwarnings('ignore')"
   ]
  },
  {
   "cell_type": "markdown",
   "metadata": {},
   "source": [
    "# Introduction\n",
    "\n",
    "Human brain regions are broadly specialized for different aspects of behavior and cognition, and the temporal dynamics of neuronal populations across the cortex are thought to be an intrinsic property (i.e., neuronal timescale) that enables the representation of information over multiple durations in a hierarchically embedded environment (@bib57). For example, primary sensory neurons are tightly coupled to changes in the environment, firing rapidly to the onset and removal of a stimulus, and showing characteristically short intrinsic timescales (@bib70; @bib76). In contrast, neurons in cortical association (or transmodal) regions, such as the prefrontal cortex (PFC), can sustain their activity for many seconds when a person is engaged in working memory (@bib105), decision-making (@bib40), and hierarchical reasoning (@bib77). This persistent activity in the absence of immediate sensory stimuli reflects longer neuronal timescales, which is thought to result from neural attractor states (@bib94; @bib102) shaped by N-methyl-D-aspartate receptor (NMDA)-mediated recurrent excitation and fast feedback inhibition (@bib95; @bib93), with contributions from other synaptic and cell-intrinsic properties (@bib23; @bib37). How connectivity and various cellular properties combine to shape neuronal dynamics across the cortex remains an open question.\n",
    "\n",
    "Anatomical connectivity measures based on tract tracing data, such as laminar feedforward vs. feedback projection patterns, have classically defined a hierarchical organization of the cortex (@bib26; @bib46; @bib85). Recent studies have also shown that variations in many microarchitectural features follow continuous and coinciding gradients along a sensory-to-association axis across the cortex, including cortical thickness, cell density, and distribution of excitatory and inhibitory neurons (@bib49; @bib98). In particular, gray matter myelination (@bib39)—a noninvasive proxy of anatomical hierarchy consistent with laminar projection data—varies with the expression of genes related to microcircuit function in the human brain, such as NMDA receptor and inhibitory cell-type marker genes (@bib10). Functionally, specialization of the human cortex, as well as structural and functional connectivity (@bib64), also follow similar macroscopic gradients. Moreover, in addition to the broad differentiation between sensory and association cortices, there is evidence for an even finer hierarchical organization within the frontal cortex (@bib77). For example, the anterior-most parts of the PFC are responsible for long timescale goal-planning behavior (@bib2; @bib88), while healthy aging is associated with a shift in these gradients such that older adults become more reliant on higher-level association regions to compensate for altered lower-level cortical functioning (@bib17).\n",
    "\n",
    "Despite convergent observations of cortical gradients in structural features and cognitive specialization, there is no direct evidence for a similar gradient of neuronal timescales across the human cortex. Such a gradient of neuronal dynamics is predicted to be a natural consequence of macroscopic variations in synaptic connectivity and microarchitectural features (@bib13; @bib22; @bib48; @bib49; @bib98), and would be a primary candidate for how functional specialization emerges as a result of hierarchical temporal processing (@bib57). Single-unit recordings in rodents and non-human primates demonstrated a hierarchy of timescales that increase, or lengthen, progressively along a posterior-to-anterior axis (@bib21; @bib68; @bib76; @bib99), while intracranial recordings and functional neuroimaging data collected during perceptual and cognitive tasks suggest likewise in humans (@bib3; @bib47; @bib61; @bib100). However, these data are either sparsely sampled across the cortex or do not measure neuronal activity at the cellular and synaptic level directly, prohibiting the full construction of an electrophysiological timescale gradient across the human cortex. As a result, while whole-cortex data of transcriptomic and anatomical variations exist, we cannot take advantage of them to dissect the contributions of synaptic, cellular, and circuit connectivity in shaping fast neuronal timescales, nor ask whether regional timescales are dynamic and relevant for human cognition.\n",
    "\n",
    "Here we combine several publicly available datasets to infer neuronal timescales from invasive human electrocorticography (ECoG) recordings and relate them to whole-cortex transcriptomic and anatomical data, as well as probe their functional relevance during behavior ([Figure 1A](#fig1) for schematic of study; [Tables 1](#table1) and [2](#table2) for dataset information). Unless otherwise specified, (_neuronal_) _timescale_ in the following sections refers to ECoG-derived timescales, which are more reflective of fast synaptic and transmembrane current timescales than single-unit or population spiking timescales ([Figure 1A](#fig1), left box), though we demonstrate in macaques a close correspondence between the two. In humans, neuronal timescales increase along the principal sensorimotor-to-association axis across the cortex and align with macroscopic gradients of gray matter myelination (T1w/T2w ratio) and synaptic receptor and ion channel gene expression. Finally, we find that human PFC timescales expand during working memory maintenance and predict individual performance, while cortex-wide timescales compress with aging. Thus, neuronal timescales follow cytoarchitectonic gradients across the human cortex and are relevant for cognition in both short and long terms, bridging microcircuit physiology with macroscale dynamics and behavior.\n",
    "\n",
    "table: Table 1.\n",
    ":::\n",
    "## Summary of open-access datasets used.\n",
    "\n",
    "| Data                                                               | Ref.                           | Specific source/format used                                                              | Participant info                                                                | Relevant figures                                                    |\n",
    "| ------------------------------------------------------------------ | ------------------------------ | ---------------------------------------------------------------------------------------- | ------------------------------------------------------------------------------- | ------------------------------------------------------------------- |\n",
    "| MNI Open iEEG Atlas                                                | @bib29; @bib30                 |                                                                                          | N = 105 (48 females)  Ages: 13–65, 33.4 ± 10.6                                  | [Figure 2A–D](#fig2),  [Figure 3](#fig3),  [Figure 4E and F](#fig4) |\n",
    "| T1w/T2w and cortical thickness maps from  Human Connectome Project | @bib38; @bib39                 | Release S1200, March 1, 2017                                                             | N = 1096 (596 females)  Age: 22–36+ (details restricted due to identifiability) | [Figure 2C and D](#fig2),  [Figure 3D–F](#fig3)                     |\n",
    "| Neurotycho macaque ECoG                                            | @bib69; @bib103                | Eyes-open state from anesthesia datasets (propofol and ketamine)                         | Two animals (Chibi and George)  four sessions each                              | [Figure 2E–G](#fig2)                                                |\n",
    "| Macaque single-unit timescales                                     | @bib68                         | [Figure 1](#fig1) of reference                                                           |                                                                                 | [Figure 2E–G](#fig2)                                                |\n",
    "| Whole-cortex interpolated Allen Brain Atlas human gene expression  | @bib42; @bib43                 | Interpolated maps downloadable from <http://www.meduniwien.ac.at/neuroimaging/mRNA.html> | N = 6 (one female)  Age: 24, 31, 39, 49, 55, 57 (42.5 ± 12.2)                   | [Figure 3](#fig3)                                                   |\n",
    "| Single-cell timescale-related genes                                | @bib5; @bib81                  | Table S3 from @bib81, Online Table 1 from @bib5                                          | N = 170 (@bib81) and 4168 (@bib5) genes                                         | [Figure 3C and D](#fig3)                                            |\n",
    "| Human working memory ECoG                                          | @bib54; @bib53; @bib51, @bib52 | CRCNS fcx-2 and fcx-3                                                                    | N = 14 (five females)  Age: 22–50, 30.9 ± 7.8                                   | [Figure 4A–D](#fig4)                                                |\n",
    ":::\n",
    "{#table1}\n",
    "\n",
    "table: Table 2.\n",
    ":::\n",
    "## Reproducing figures from code repository.\n",
    "\n",
    "| All IPython notebooks (@bib35): <https://github.com/rdgao/field-echos/tree/master/notebooks> |                                                                                                                                                                                                                                                                                                                     |\n",
    "| -------------------------------------------------------------------------------------------- | ------------------------------------------------------------------------------------------------------------------------------------------------------------------------------------------------------------------------------------------------------------------------------------------------------------------- |\n",
    "| Notebook                                                                                     | Results                                                                                                                                                                                                                                                                                                             |\n",
    "| 1_sim_method_schematic.ipynb                                                                 | Simulations: [Figure 1B–E](#fig1)                                                                                                                                                                                                                                                                                   |\n",
    "| 2_viz_NeuroTycho-SU.ipynb                                                                    | Macaque timescales: [Figure 2E–G](#fig2), [Figure 2—figure supplement 4](#fig2s4)                                                                                                                                                                                                                                   |\n",
    "| 3_viz_human_structural.ipynb                                                                 | Human timescales vs. T1w/T2w and gene expression:   [Figure 2A–D](#fig2), [Figure 2—figure supplements 1](#fig2s1) and [3](#fig2s3), [Figure 3](#fig3), [Figure 3—figure supplements 1](#fig3s1) and [2](#fig3s2), [Supplementary file 1–](#supp1), [Supplementary file 2](#supp2), [Supplementary file 3](#supp3). |\n",
    "| 4b_viz_human_wm.ipynb                                                                        | Human working memory: [Figure 4A–D](#fig4), [Figure 4—figure supplement 1](#fig4s1)                                                                                                                                                                                                                                 |\n",
    "| 4a_viz_human_aging.ipynb                                                                     | Human aging: [Figure 4E and F](#fig4), [Figure 4—figure supplement 2](#fig4s2)                                                                                                                                                                                                                                      |\n",
    "|  supp_spatialautocorr.ipynb                                                                  | Spatial autocorrelation-preserving nulls:                                                                                                                                                                                                                                                                           |\n",
    "| supp_spatialautocorr.ipynb                                                                   | Spatial autocorrelation-preserving nulls: [Figure 2—figure supplement 2](#fig2s2)                                                                                                                                                                                                                                   |\n",
    ":::\n",
    "{#table2}"
   ]
  },
  {
   "cell_type": "markdown",
   "metadata": {},
   "source": [
    "figure: Figure 1.\n",
    ":::\n",
    "![](elife-61277.xml.media/fig1.jpg)\n",
    "\n",
    "## Schematic of study and timescale inference technique.\n",
    "\n",
    "(**A**) In this study, we infer neuronal timescales from intracranial field potential recordings, which reflect integrated synaptic and transmembrane current fluctuations over large neural populations (@bib12). Combining multiple open-access datasets ([Table 1](#table1)), we link timescales to known human anatomical hierarchy, dissect its cellular and physiological basis via transcriptomic analysis, and demonstrate its functional modulation during behavior and through aging. (**B**) Simulated time series and their (**C**) autocorrelation functions (ACFs), with increasing (longer) decay time constant, _τ_ (which neuronal timescale is defined to be). (**D**) Example human electrocorticography (ECoG) power spectral density (PSD) showing the aperiodic component fit (red dashed), and the ‘knee frequency’ at which power drops off (${f}_{k}$, red circle; insets: time series and ACF). (**E**) Estimation of timescale from PSDs of simulated time series in (**B**), where the knee frequency, ${f}_{k}$, is converted to timescale, _τ_, via the embedded equation (inset: correlation between ground truth and estimated timescale values).\n",
    ":::\n",
    "{#fig1}"
   ]
  },
  {
   "cell_type": "code",
   "execution_count": 30,
   "metadata": {},
   "outputs": [],
   "source": [
    "# defining the simulation, analysis, and plotting function\n",
    "def sim_timescale_schematic(tau_sim=0.025, osc_freq=10.5, rel_osc_amp=0.2):\n",
    "    \"\"\"\n",
    "    simulates the neural signal with a given decay timescale and oscillation\n",
    "    \n",
    "    \"\"\"    \n",
    "    # set fit frequency range\n",
    "    fit_range=[1,100]\n",
    "    plt_inds = np.arange(fit_range[0],fit_range[1]+1)\n",
    "    # simulation time and sampling frequency\n",
    "    T, fs = 120, 2000\n",
    "    # PSD parameters\n",
    "    nperseg = int(fs)\n",
    "    noverlap = int(0.5*nperseg)\n",
    "\n",
    "    # simulate signal with given timescale and oscillation\n",
    "    # Define the components of the combined signal to simulate\n",
    "    components = {'sim_synaptic_current' : {'tau_d' : tau_sim},\n",
    "              'sim_bursty_oscillation' : {'freq' : osc_freq}}\n",
    "    component_variances = [1, rel_osc_amp]\n",
    "    x = sim.sim_combined(T, fs, components, component_variances)\n",
    "    t = np.arange(0,T, 1/fs)\n",
    "\n",
    "    # compute autocorrelation function and PSD\n",
    "    autocor = acf(x, nlags=int(fs), fft=True)\n",
    "    f_axis, psd = spectral.compute_spectrum(x, fs, nperseg=nperseg, noverlap=noverlap)\n",
    "    \n",
    "    # fit with spectral parametrization and get fit values\n",
    "    # and compute timescale\n",
    "    ff = FOOOF(max_n_peaks=2, aperiodic_mode='knee', verbose=False)\n",
    "    ff.fit(f_axis, psd, fit_range)\n",
    "    offset, knee, exp = ff.get_params('aperiodic_params')\n",
    "    knee_freq = knee**(1./exp)\n",
    "    tau_fit = 1./(2*np.pi*knee_freq)\n",
    "    knee_power = 10**offset/(knee+f_axis**exp)[np.where(f_axis==np.round(knee_freq))[0]]\n",
    "    fit_spectrum = 10**offset/(knee+f_axis**exp)[plt_inds]\n",
    "\n",
    "    ### plotting ###\n",
    "    fig = plt.figure(figsize=(12,8))\n",
    "    gs = GridSpec(3,2, figure=fig)\n",
    "\n",
    "    # plot time series\n",
    "    ax1 = fig.add_subplot(gs[0,:])\n",
    "    ax1.plot(t[:1000],x[:1000])\n",
    "    ax1.set_xlabel('time (s)'); ax1.set_ylabel('voltage (au)');\n",
    "    ax1.set_xlim([0,t[1000]])\n",
    "    if tau_sim==0.042: print('you found easter egg! nice.')\n",
    "\n",
    "    # plot autocorrelation\n",
    "    ax2 = fig.add_subplot(gs[1:,0])\n",
    "    ax2.plot(t[:1001], autocor[:1001], label='data autocorrelation', lw=2, alpha=0.8)\n",
    "    ax2.axvline(tau_sim, ls='--', lw=2, label='true tau: %.2f ms'%(tau_sim*1000))\n",
    "    ax2.axvline(tau_fit, color='r', lw=4, alpha=0.5, label='fit tau: %.2f ms'%(tau_fit*1000))\n",
    "    ax2.set_xticks([0,tau_sim, 0.1,0.2]); ax2.set_xlim([0,0.2])\n",
    "    ax2.set_ylim([autocor.min(),1])\n",
    "    ax2.set_xlabel('lag time (s)'); ax2.set_ylabel('acf');\n",
    "    ax2.legend()\n",
    "\n",
    "    # plot spectrum\n",
    "    ax3 = fig.add_subplot(gs[1:,1])\n",
    "    ax3.loglog(f_axis[plt_inds], psd[plt_inds], lw=2, label='data PSD')\n",
    "    ax3.loglog(f_axis[plt_inds], 10**ff.fooofed_spectrum_, 'r-', alpha=0.4, lw=5, label='fit')\n",
    "    ax3.plot(knee_freq, knee_power, 'ro', ms=20, mec='k', alpha=0.8, label='knee frequency')\n",
    "    ax3.set_xlim([1,None])\n",
    "    ax3.set_xlabel('frequency (Hz)'); ax3.set_ylabel('power (V^2/Hz)');\n",
    "    ax3.legend()\n",
    "\n",
    "    plt.tight_layout()"
   ]
  },
  {
   "cell_type": "code",
   "execution_count": 41,
   "metadata": {},
   "outputs": [
    {
     "data": {
      "image/png": "[encoded data removed]",
      "text/plain": [
       "<Figure size 864x576 with 3 Axes>"
      ]
     },
     "metadata": {
      "needs_background": "light"
     },
     "output_type": "display_data"
    }
   ],
   "source": [
    "# compute and plotting function is defined in the cell above\n",
    "# here, try different timescale values for the simulation by changing `tau_sim`\n",
    "# there is stochasticity in the simulation so run it multiple times\n",
    "# try to stay within 0.005 to 0.15 seconds\n",
    "\n",
    "# you can also change the frequency and relative power of the bursty oscillation\n",
    "# to see how the autocorrelation is corrupted by the oscillatory component\n",
    "sim_timescale_schematic(tau_sim = 0.02, osc_freq=22.5, rel_osc_amp=0.1)\n",
    "\n",
    "# also see here for great autocorrelation gif: https://twitter.com/saydnay/status/1355228493089361921"
   ]
  },
  {
   "cell_type": "markdown",
   "metadata": {},
   "source": [
    "# Results\n",
    "\n",
    "## Neuronal timescale can be inferred from the frequency domain\n",
    "\n",
    "Neural time series often exhibit time-lagged correlation (i.e., autocorrelation), where future values are partially predictable from past values, and predictability decreases with increasing time lags. For demonstration, we simulate the aperiodic (non-rhythmic) component of ECoG recordings by convolving Poisson population spikes with exponentially decaying synaptic kernels with varying decay constant ([Figure 1B](#fig1)). Empirically, the degree of self-similarity is characterized by the autocorrelation function (ACF), and ‘timescale’ is defined as the time constant (_τ_) of an exponential decay function (${e}^{-\\frac{t}{\\tau }}$) fit to the ACF, i.e., the time it takes for the autocorrelation to decrease by a factor of _e_ ([Figure 1C](#fig1)).\n",
    "\n",
    "Equivalently, we can estimate timescale in the frequency domain from the power spectral density (PSD). PSDs of neural time series often follow a Lorentzian function of the form $\\frac{1}{{f}_{k}{}^{2}+{f}^{2}}$, where power is approximately constant until the ‘knee frequency’ (_f~k~_, [Figure 1D](#fig1)), then decays following a power law. This approach is similar to the one presented in @bib14, but here we further allow the power law exponent (fixed at two in the equation above) to be a free parameter representing variable scale-free activity (@bib45; @bib65; @bib75; @bib89). We also simultaneously parameterize oscillatory components as Gaussians peaks, allowing us to remove their effect on the power spectrum, providing more accurate estimates of the knee frequency. From the knee frequency of the aperiodic component, neural timescale (decay constant) can then be computed exactly as $\\tau =\\frac{1}{2\\pi {f}_{k}}$.\n",
    "\n",
    "Compared to fitting exponential decay functions in the time domain (e.g., @bib68)—which can be biased even without the presence of additional components (@bib104)—the frequency domain approach is advantageous when a variable power law exponent and strong oscillatory components are present, as is often the case for neural signals (example of real data in [Figure 1D](#fig1)). While the oscillatory component can corrupt naive measurement of _τ_ as time for the ACF to reach 1/e ([Figure 1D](#fig1), inset), it can be more easily accounted for and removed in the frequency domain as Gaussian-like peaks. This is especially important considering neural oscillations with non-stationary frequencies. For example, a broad peak in the power spectrum (e.g., ~10 Hz in bandwidth in [Figure 1D](#fig1)) represents drifts in the oscillation frequency over time, which is easily accounted for with a single Gaussian, but requires multiple cosine terms to capture well in the autocorrelation. Therefore, in this study, we apply spectral parameterization to extract timescales from intracranial recordings (@bib20). We validate this approach on PSDs computed from simulated neural time series and show that the extracted timescales closely match their ground-truth values ([Figure 1E](#fig1)).\n",
    "\n",
    "## Timescales follow anatomical hierarchy and are ~10 times faster than spiking timescales\n",
    "\n",
    "Applying this technique, we infer a continuous gradient of neuronal timescales across the human cortex by analyzing a large dataset of human intracranial (ECoG) recordings of task-free brain activity (@bib29). The MNI-iEEG dataset contains 1 min of resting state data across 1772 channels from 106 patients (13–62 years old, 48 females) with variable coverages, recorded using either surface strip/grid or stereoEEG electrodes, and cleaned of visible artifacts. [Figure 2A](#fig2) shows example data traces along the cortical hierarchy with increasing timescales estimated from their PSDs ([Figure 2B](#fig2); circles denote fitted knee frequency). Timescales from individual channels were extracted and projected from MNI coordinates onto the left hemisphere of HCP-MMP1.0 surface parcellation (@bib38) for each patient using a Gaussian-weighted mask centered on each electrode. While coverage is sparse and idiosyncratic in individual patients, it does not vary as a function of age, and when pooling across the entire population, 178 of 180 parcels have at least one patient with an electrode within 4 mm ([Figure 2—figure supplement 1A–F](#fig2s1))."
   ]
  },
  {
   "cell_type": "markdown",
   "metadata": {},
   "source": [
    "figure: Figure 2.\n",
    ":::\n",
    "![](elife-61277.xml.media/fig2.jpg)\n",
    "\n",
    "### Timescale increases along the anatomical hierarchy in humans and macaques.\n",
    "\n",
    "(**A**) Example time series from five electrodes along the human cortical hierarchy (M1: primary motor cortex; SMC: supplementary motor cortex; OFC: orbitofrontal cortex; ACC: anterior cingulate cortex; MTL: medial temporal lobe), and (**B**) their corresponding power spectral densities (PSDs) computed over 1 min. Circle and dashed line indicate the knee frequency for each PSD, derived from the aperiodic component fits (inset). Data: MNI-iEEG database, N = 106 participants. (**C**) Human cortical timescale gradient (left) falls predominantly along the rostrocaudal axis, similar to T1w/T2w ratio (right; z-scored, in units of standard deviation). Colored dots show electrode locations of example data. (**D**) Neuronal timescales are negatively correlated with cortical T1w/T2w, thus increasing along the anatomical hierarchy from sensory to association regions (Spearman correlation; p-value corrected for spatial autocorrelation, [Figure 2—figure supplement 2A–C](#fig2s2)). (**E**) Example PSDs from macaque ECoG recordings, similar to (**B**) (LIP: lateral intraparietal cortex; LPFC: lateral prefrontal cortex; S1 and S2: primary and secondary somatosensory cortex). PSDs are averaged over electrodes within each region (inset of **\\[F**]). Data: Neurotycho, N = 8 sessions from two animals. (**F**) Macaque ECoG timescales track published single-unit spiking timescales (@bib68) in corresponding regions (error bars represent mean ± s.e.m). Inset: ECoG electrode map of one animal and selected electrodes for comparison. (**G**) ECoG-derived timescales are consistently correlated with (left), and ~10 times faster than (right), single-unit timescales across individual sessions. Hollow markers: individual sessions; shapes: animals; solid circles: grand average from (**F**).\n",
    ":::\n",
    "{#fig2}"
   ]
  },
  {
   "cell_type": "code",
   "execution_count": 42,
   "metadata": {},
   "outputs": [],
   "source": [
    "# load data and helper funcs\n",
    "# helper function for plotting the parcellation results\n",
    "def plot_MMP(data, minmax=None, thresh=None, cmap='inferno', alpha=1, add_border=False, bp=0, title=None):\n",
    "    \"\"\"\n",
    "    Plots arbitrary array of data onto MMP parcellation\n",
    "    \"\"\"\n",
    "    from mpl_toolkits.axes_grid1.inset_locator import inset_axes\n",
    "    ## Following this tutorial\n",
    "    # https://github.com/nipy/PySurfer/blob/master/examples/plot_parc_values.py\n",
    "    mmp_labels, ctab, names = ni.freesurfer.read_annot('./data/lh.HCPMMP1.annot')\n",
    "    \n",
    "    if minmax is None:\n",
    "        minmax = [np.min(data), np.max(data)]\n",
    "    \n",
    "    if len(names)-len(data)==1:\n",
    "        # short one label cuz 0 is unassigned in the data, fill with big negative number\n",
    "        data_app = np.hstack((minmax[0],data))\n",
    "        vtx_data = data_app[mmp_labels]\n",
    "    else:\n",
    "        vtx_data = data[mmp_labels]\n",
    "        vtx_data[mmp_labels < 1] = minmax[0]\n",
    "\n",
    "    # plot brain\n",
    "    brain = Brain('fsaverage', 'lh', 'inflated', subjects_dir='./data/',\n",
    "                  cortex=None, alpha=1, background='white', size=800, show_toolbar=False, offscreen=True)\n",
    "    \n",
    "    if add_border:\n",
    "        brain.add_annotation((mmp_labels, np.array([[0,0,0, c[3], c[4]] for c in ctab])))\n",
    "\n",
    "\n",
    "    # add data\n",
    "    if thresh is None:\n",
    "        thresh = minmax[0] - abs(minmax[0]*0.05)\n",
    "    brain.add_data(vtx_data, minmax[0], minmax[1], colormap=cmap, alpha=alpha, colorbar=False, thresh=thresh)\n",
    "    \n",
    "    # plot brain views\n",
    "    brainviews = brain.save_imageset(None, ['lat', 'med'])\n",
    "\n",
    "    # merge brainviews and plot horizontally\n",
    "    plt.imshow(np.concatenate(brainviews, axis=1), cmap=cmap)\n",
    "    plt.gca().spines['bottom'].set_visible(False)\n",
    "    plt.gca().spines['left'].set_visible(False)\n",
    "    \n",
    "    plt.xticks([])\n",
    "    plt.yticks([])\n",
    "    cbaxes = inset_axes(plt.gca(), width=\"50%\", height=\"4%\", loc=8, borderpad=bp)\n",
    "    plt.colorbar(cax=cbaxes, orientation='horizontal')\n",
    "    plt.clim(minmax[0], minmax[1])\n",
    "    if title is not None:\n",
    "        plt.title(title)\n",
    "\n",
    "\n",
    "# load data\n",
    "data_path = './data/'\n",
    "# timescale data\n",
    "df_tau = pd.read_csv(data_path+'df_tau.csv', index_col=0)\n",
    "df_tau.columns=['timescale (ms)', 'log10 timescale (ms)']\n",
    "# structural data\n",
    "df_struct = pd.read_csv(data_path+'df_structural_avg.csv', index_col=0)\n",
    "df_struct.columns = df_struct.columns.str.upper()\n",
    "\n",
    "# load macroparcel data\n",
    "df_macro = pd.read_csv(data_path+'df_human_features_macro.csv')\n",
    "df_macro.columns = df_macro.columns.str.upper()\n",
    "df_macro.columns = ['index', 'timescale (ms)'] + list(df_macro.columns[2:])\n",
    "df_macro['timescale (ms)'] = df_macro['timescale (ms)']*1000\n"
   ]
  },
  {
   "cell_type": "code",
   "execution_count": 44,
   "metadata": {},
   "outputs": [
    {
     "name": "stdout",
     "output_type": "stream",
     "text": [
      "colormap sequential: [1.00e+00, 1.35e+00, 1.70e+00] (opaque)\n"
     ]
    },
    {
     "data": {
      "image/png": "[encoded data removed]",
      "text/plain": [
       "<Figure size 432x432 with 2 Axes>"
      ]
     },
     "metadata": {
      "needs_background": "light"
     },
     "output_type": "display_data"
    },
    {
     "name": "stdout",
     "output_type": "stream",
     "text": [
      "colormap sequential: [-3.93e+00, -1.09e+00, 1.75e+00] (opaque)\n"
     ]
    },
    {
     "data": {
      "image/png": "[encoded data removed]",
      "text/plain": [
       "<Figure size 432x432 with 2 Axes>"
      ]
     },
     "metadata": {
      "needs_background": "light"
     },
     "output_type": "display_data"
    }
   ],
   "source": [
    "brain_fig_size = (6,6)\n",
    "struct_query = 'PVALB' # try 'T1T2' or 'THICKNESS' or any of the genes in Fig 3. supplement 2\n",
    "# plot on brains\n",
    "plt.figure(figsize=brain_fig_size)\n",
    "plot_MMP(df_tau['log10 timescale (ms)'], minmax=[1,np.log10(50)], title='log10 timescale (ms)', cmap='inferno');\n",
    "plt.show();\n",
    "\n",
    "plt.figure(figsize=brain_fig_size)\n",
    "plot_MMP(df_struct[struct_query], title=struct_query, cmap='viridis');\n",
    "plt.show();"
   ]
  },
  {
   "cell_type": "code",
   "execution_count": 45,
   "metadata": {},
   "outputs": [
    {
     "name": "stdout",
     "output_type": "stream",
     "text": [
      "open to explore data!\n"
     ]
    },
    {
     "data": {
      "text/html": [
       "\n",
       "<div id=\"altair-viz-77078344eda6489fbd67f2b47f158ed8\"></div>\n",
       "<script type=\"text/javascript\">\n",
       "  (function(spec, embedOpt){\n",
       "    let outputDiv = document.currentScript.previousElementSibling;\n",
       "    if (outputDiv.id !== \"altair-viz-77078344eda6489fbd67f2b47f158ed8\") {\n",
       "      outputDiv = document.getElementById(\"altair-viz-77078344eda6489fbd67f2b47f158ed8\");\n",
       "    }\n",
       "    const paths = {\n",
       "      \"vega\": \"https://cdn.jsdelivr.net/npm//vega@5?noext\",\n",
       "      \"vega-lib\": \"https://cdn.jsdelivr.net/npm//vega-lib?noext\",\n",
       "      \"vega-lite\": \"https://cdn.jsdelivr.net/npm//vega-lite@4.8.1?noext\",\n",
       "      \"vega-embed\": \"https://cdn.jsdelivr.net/npm//vega-embed@6?noext\",\n",
       "    };\n",
       "\n",
       "    function loadScript(lib) {\n",
       "      return new Promise(function(resolve, reject) {\n",
       "        var s = document.createElement('script');\n",
       "        s.src = paths[lib];\n",
       "        s.async = true;\n",
       "        s.onload = () => resolve(paths[lib]);\n",
       "        s.onerror = () => reject(`Error loading script: ${paths[lib]}`);\n",
       "        document.getElementsByTagName(\"head\")[0].appendChild(s);\n",
       "      });\n",
       "    }\n",
       "\n",
       "    function showError(err) {\n",
       "      outputDiv.innerHTML = `<div class=\"error\" style=\"color:red;\">${err}</div>`;\n",
       "      throw err;\n",
       "    }\n",
       "\n",
       "    function displayChart(vegaEmbed) {\n",
       "      vegaEmbed(outputDiv, spec, embedOpt)\n",
       "        .catch(err => showError(`Javascript Error: ${err.message}<br>This usually means there's a typo in your chart specification. See the javascript console for the full traceback.`));\n",
       "    }\n",
       "\n",
       "    if(typeof define === \"function\" && define.amd) {\n",
       "      requirejs.config({paths});\n",
       "      require([\"vega-embed\"], displayChart, err => showError(`Error loading script: ${err.message}`));\n",
       "    } else if (typeof vegaEmbed === \"function\") {\n",
       "      displayChart(vegaEmbed);\n",
       "    } else {\n",
       "      loadScript(\"vega\")\n",
       "        .then(() => loadScript(\"vega-lite\"))\n",
       "        .then(() => loadScript(\"vega-embed\"))\n",
       "        .catch(showError)\n",
       "        .then(() => displayChart(vegaEmbed));\n",
       "    }\n",
       "  })({\"config\": {\"view\": {\"continuousWidth\": 400, \"continuousHeight\": 300}, \"axis\": {\"labelFontSize\": 20, \"titleFontSize\": 20}, \"title\": {\"fontSize\": 24}}, \"data\": {\"name\": \"data-32bd29dd0b77a0f7288eb2c0be510939\"}, \"mark\": {\"type\": \"circle\", \"size\": 200}, \"encoding\": {\"color\": {\"value\": \"black\"}, \"tooltip\": [{\"type\": \"nominal\", \"field\": \"index\"}], \"x\": {\"type\": \"quantitative\", \"field\": \"PVALB\", \"scale\": {\"zero\": false}}, \"y\": {\"type\": \"quantitative\", \"field\": \"timescale (ms)\", \"scale\": {\"base\": 2, \"domain\": [10, 64], \"type\": \"log\", \"zero\": false}}}, \"height\": 600, \"selection\": {\"selector001\": {\"type\": \"interval\", \"bind\": \"scales\", \"encodings\": [\"x\", \"y\"]}}, \"title\": \"Spearman correlation across MMP parcels: rho = -0.610\", \"width\": 600, \"$schema\": \"https://vega.github.io/schema/vega-lite/v4.8.1.json\", \"datasets\": {\"data-32bd29dd0b77a0f7288eb2c0be510939\": [{\"index\": \"V1\", \"timescale (ms)\": 17.369645197330232, \"PVALB\": 1.74555}, {\"index\": \"MST\", \"timescale (ms)\": 14.266526814492275, \"PVALB\": 0.70452}, {\"index\": \"V6\", \"timescale (ms)\": 14.733831442524712, \"PVALB\": 1.05001}, {\"index\": \"V2\", \"timescale (ms)\": 18.59916705337887, \"PVALB\": 1.42865}, {\"index\": \"V3\", \"timescale (ms)\": 17.063108965719778, \"PVALB\": 1.3603}, {\"index\": \"V4\", \"timescale (ms)\": 19.952829504997002, \"PVALB\": 1.12094}, {\"index\": \"V8\", \"timescale (ms)\": 13.004327249887927, \"PVALB\": 0.8499049999999999}, {\"index\": \"4\", \"timescale (ms)\": 15.108096307629303, \"PVALB\": 1.05531}, {\"index\": \"3b\", \"timescale (ms)\": 16.78209204561615, \"PVALB\": 1.089265}, {\"index\": \"FEF\", \"timescale (ms)\": 14.971312311671847, \"PVALB\": 0.87697}, {\"index\": \"PEF\", \"timescale (ms)\": 13.907011079454902, \"PVALB\": 0.948415}, {\"index\": \"55b\", \"timescale (ms)\": 19.63014391141553, \"PVALB\": 0.9519549999999999}, {\"index\": \"V3A\", \"timescale (ms)\": 15.018512150865321, \"PVALB\": 1.2152500000000002}, {\"index\": \"RSC\", \"timescale (ms)\": 23.721421748092645, \"PVALB\": -0.440705}, {\"index\": \"POS2\", \"timescale (ms)\": 15.315930132134225, \"PVALB\": 0.69284}, {\"index\": \"V7\", \"timescale (ms)\": 15.808026830072572, \"PVALB\": 0.8795799999999999}, {\"index\": \"IPS1\", \"timescale (ms)\": 16.204607788207127, \"PVALB\": 0.69066}, {\"index\": \"FFC\", \"timescale (ms)\": 18.851145624977093, \"PVALB\": 0.08042300000000001}, {\"index\": \"V3B\", \"timescale (ms)\": 20.71235201616543, \"PVALB\": 0.765935}, {\"index\": \"LO1\", \"timescale (ms)\": 22.70669874405537, \"PVALB\": 0.92906}, {\"index\": \"LO2\", \"timescale (ms)\": 15.950254025349315, \"PVALB\": 1.03819}, {\"index\": \"PIT\", \"timescale (ms)\": 13.522384127193108, \"PVALB\": 0.97762}, {\"index\": \"MT\", \"timescale (ms)\": 15.966244637656994, \"PVALB\": 0.76313}, {\"index\": \"A1\", \"timescale (ms)\": 19.598014974708647, \"PVALB\": 0.688655}, {\"index\": \"PSL\", \"timescale (ms)\": 19.16053162782886, \"PVALB\": 0.134465}, {\"index\": \"SFL\", \"timescale (ms)\": 23.74011786637879, \"PVALB\": 0.36884}, {\"index\": \"PCV\", \"timescale (ms)\": 24.53067758772748, \"PVALB\": 0.26263499999999995}, {\"index\": \"STV\", \"timescale (ms)\": 17.630757852568678, \"PVALB\": 0.16029000000000002}, {\"index\": \"7Pm\", \"timescale (ms)\": 17.198646518128957, \"PVALB\": 0.513495}, {\"index\": \"7m\", \"timescale (ms)\": 17.930646633369722, \"PVALB\": 0.25438}, {\"index\": \"POS1\", \"timescale (ms)\": 16.408086995248347, \"PVALB\": 0.266915}, {\"index\": \"23d\", \"timescale (ms)\": 9.701180551933223, \"PVALB\": -0.333125}, {\"index\": \"v23ab\", \"timescale (ms)\": 28.06459933522709, \"PVALB\": -0.048025}, {\"index\": \"d23ab\", \"timescale (ms)\": 25.35877491145511, \"PVALB\": 0.009770499999999998}, {\"index\": \"31pv\", \"timescale (ms)\": 23.812972464991844, \"PVALB\": 0.033044}, {\"index\": \"5m\", \"timescale (ms)\": 16.594407046464287, \"PVALB\": 1.003255}, {\"index\": \"5mv\", \"timescale (ms)\": 20.885501836189764, \"PVALB\": 0.460375}, {\"index\": \"23c\", \"timescale (ms)\": 17.294248356907197, \"PVALB\": 0.03095615}, {\"index\": \"5L\", \"timescale (ms)\": 16.144973382587224, \"PVALB\": 0.641945}, {\"index\": \"24dd\", \"timescale (ms)\": 12.201272954516284, \"PVALB\": 0.1389745}, {\"index\": \"24dv\", \"timescale (ms)\": 15.348798773310795, \"PVALB\": -0.412235}, {\"index\": \"7AL\", \"timescale (ms)\": 26.208802690950066, \"PVALB\": 0.5682499999999999}, {\"index\": \"SCEF\", \"timescale (ms)\": 15.259521612139439, \"PVALB\": 0.405805}, {\"index\": \"6ma\", \"timescale (ms)\": 17.096600909363627, \"PVALB\": 0.37292}, {\"index\": \"7Am\", \"timescale (ms)\": 27.824158814761482, \"PVALB\": 0.39041}, {\"index\": \"7PL\", \"timescale (ms)\": 16.120638533348714, \"PVALB\": 0.769215}, {\"index\": \"7PC\", \"timescale (ms)\": 18.177497229010747, \"PVALB\": 0.8547199999999999}, {\"index\": \"LIPv\", \"timescale (ms)\": 20.058532621445828, \"PVALB\": 0.8733350000000001}, {\"index\": \"VIP\", \"timescale (ms)\": 29.67702323095457, \"PVALB\": 0.7952950000000001}, {\"index\": \"MIP\", \"timescale (ms)\": 16.600766705472168, \"PVALB\": 0.75108}, {\"index\": \"1\", \"timescale (ms)\": 15.669999216651327, \"PVALB\": 1.11395}, {\"index\": \"2\", \"timescale (ms)\": 13.34665409494568, \"PVALB\": 0.7318600000000001}, {\"index\": \"3a\", \"timescale (ms)\": 15.695738720594163, \"PVALB\": 0.8277450000000001}, {\"index\": \"6d\", \"timescale (ms)\": 12.399054629508198, \"PVALB\": 1.01171}, {\"index\": \"6mp\", \"timescale (ms)\": 12.508001096913972, \"PVALB\": 0.716855}, {\"index\": \"6v\", \"timescale (ms)\": 19.35591477943218, \"PVALB\": 0.99168}, {\"index\": \"p24pr\", \"timescale (ms)\": 16.86243655576792, \"PVALB\": -0.8486}, {\"index\": \"33pr\", \"timescale (ms)\": 17.848615525237037, \"PVALB\": -1.41745}, {\"index\": \"a24pr\", \"timescale (ms)\": 22.103625197626048, \"PVALB\": -1.31245}, {\"index\": \"p32pr\", \"timescale (ms)\": 18.25734551948846, \"PVALB\": -0.52753}, {\"index\": \"a24\", \"timescale (ms)\": 24.706657121409364, \"PVALB\": -1.9333}, {\"index\": \"d32\", \"timescale (ms)\": 30.73027861759843, \"PVALB\": -0.98925}, {\"index\": \"8BM\", \"timescale (ms)\": 25.531718828918944, \"PVALB\": 0.19017}, {\"index\": \"p32\", \"timescale (ms)\": 22.67467970746696, \"PVALB\": -0.8187}, {\"index\": \"10r\", \"timescale (ms)\": 26.573868598010453, \"PVALB\": -0.478425}, {\"index\": \"47m\", \"timescale (ms)\": 25.38119794431084, \"PVALB\": 0.14109549999999998}, {\"index\": \"8Av\", \"timescale (ms)\": 20.88123313220635, \"PVALB\": 0.6704399999999999}, {\"index\": \"8Ad\", \"timescale (ms)\": 26.201647360767137, \"PVALB\": 0.17193150000000001}, {\"index\": \"9m\", \"timescale (ms)\": 26.331331771278506, \"PVALB\": -0.39506}, {\"index\": \"8BL\", \"timescale (ms)\": 26.408979602212163, \"PVALB\": 0.198675}, {\"index\": \"9p\", \"timescale (ms)\": 22.059942103810744, \"PVALB\": -0.1169595}, {\"index\": \"10d\", \"timescale (ms)\": 21.97081750529359, \"PVALB\": 0.08777}, {\"index\": \"8C\", \"timescale (ms)\": 17.208986249814185, \"PVALB\": 0.78998}, {\"index\": \"44\", \"timescale (ms)\": 18.86738201198205, \"PVALB\": 0.43826000000000004}, {\"index\": \"45\", \"timescale (ms)\": 24.782087643223857, \"PVALB\": 0.591445}, {\"index\": \"47l\", \"timescale (ms)\": 28.024033791199173, \"PVALB\": 0.114231}, {\"index\": \"a47r\", \"timescale (ms)\": 21.68017469277168, \"PVALB\": 0.140455}, {\"index\": \"6r\", \"timescale (ms)\": 17.106608153039176, \"PVALB\": 0.47073000000000004}, {\"index\": \"IFJa\", \"timescale (ms)\": 17.890676289653577, \"PVALB\": 0.562055}, {\"index\": \"IFJp\", \"timescale (ms)\": 15.854249204137636, \"PVALB\": 0.60453}, {\"index\": \"IFSp\", \"timescale (ms)\": 20.924449499443586, \"PVALB\": 0.61703}, {\"index\": \"IFSa\", \"timescale (ms)\": 25.618774231453692, \"PVALB\": 0.49637}, {\"index\": \"p9-46v\", \"timescale (ms)\": 20.202465583094174, \"PVALB\": null}, {\"index\": \"46\", \"timescale (ms)\": 17.252353346224847, \"PVALB\": 0.28989499999999996}, {\"index\": \"a9-46v\", \"timescale (ms)\": 20.701147509031717, \"PVALB\": null}, {\"index\": \"9-46d\", \"timescale (ms)\": 19.844467322565546, \"PVALB\": null}, {\"index\": \"9a\", \"timescale (ms)\": 13.617484277873366, \"PVALB\": -0.0415755}, {\"index\": \"10v\", \"timescale (ms)\": 28.27847060982604, \"PVALB\": -0.321255}, {\"index\": \"a10p\", \"timescale (ms)\": 22.888522520479427, \"PVALB\": 0.0415635}, {\"index\": \"10pp\", \"timescale (ms)\": 26.867194037931547, \"PVALB\": -0.23620549999999998}, {\"index\": \"11l\", \"timescale (ms)\": 27.62047137505839, \"PVALB\": -0.07790549999999999}, {\"index\": \"13l\", \"timescale (ms)\": 30.648408245117093, \"PVALB\": -0.5636450000000001}, {\"index\": \"OFC\", \"timescale (ms)\": 31.34994717223279, \"PVALB\": -1.1742}, {\"index\": \"47s\", \"timescale (ms)\": 31.83744411907288, \"PVALB\": -2.035}, {\"index\": \"LIPd\", \"timescale (ms)\": 14.93453996800549, \"PVALB\": 0.8659950000000001}, {\"index\": \"6a\", \"timescale (ms)\": 18.879601174648357, \"PVALB\": 0.54619}, {\"index\": \"i6-8\", \"timescale (ms)\": 25.97137122682931, \"PVALB\": null}, {\"index\": \"s6-8\", \"timescale (ms)\": 31.311990279855234, \"PVALB\": null}, {\"index\": \"43\", \"timescale (ms)\": 16.82260161874669, \"PVALB\": 0.5085350000000001}, {\"index\": \"OP4\", \"timescale (ms)\": 17.55335704643171, \"PVALB\": 0.805295}, {\"index\": \"OP1\", \"timescale (ms)\": 19.08815656875453, \"PVALB\": 0.9073399999999999}, {\"index\": \"OP2-3\", \"timescale (ms)\": 21.881979492689137, \"PVALB\": null}, {\"index\": \"52\", \"timescale (ms)\": 25.827210723485013, \"PVALB\": -0.20961}, {\"index\": \"RI\", \"timescale (ms)\": 21.266944545138138, \"PVALB\": 0.44123999999999997}, {\"index\": \"PFcm\", \"timescale (ms)\": 19.05726219605652, \"PVALB\": 0.558665}, {\"index\": \"PoI2\", \"timescale (ms)\": 21.568442176026373, \"PVALB\": -1.9998}, {\"index\": \"TA2\", \"timescale (ms)\": 21.615670507869453, \"PVALB\": -0.38716}, {\"index\": \"FOP4\", \"timescale (ms)\": 19.224848490636045, \"PVALB\": -0.8390650000000001}, {\"index\": \"MI\", \"timescale (ms)\": 22.375115810503964, \"PVALB\": -1.83115}, {\"index\": \"Pir\", \"timescale (ms)\": 22.631612160494285, \"PVALB\": -3.93435}, {\"index\": \"AVI\", \"timescale (ms)\": 26.525540944519573, \"PVALB\": -1.08805}, {\"index\": \"AAIC\", \"timescale (ms)\": 27.546095922627554, \"PVALB\": -3.14125}, {\"index\": \"FOP1\", \"timescale (ms)\": 17.51462349959859, \"PVALB\": -0.241355}, {\"index\": \"FOP3\", \"timescale (ms)\": 16.776382987592154, \"PVALB\": -0.960705}, {\"index\": \"FOP2\", \"timescale (ms)\": 16.512454889974855, \"PVALB\": -0.2126895}, {\"index\": \"PFt\", \"timescale (ms)\": 15.938451962154202, \"PVALB\": 0.43946499999999994}, {\"index\": \"AIP\", \"timescale (ms)\": 19.07762244831827, \"PVALB\": 0.5984}, {\"index\": \"EC\", \"timescale (ms)\": 47.949664991832464, \"PVALB\": -2.43315}, {\"index\": \"PreS\", \"timescale (ms)\": 49.26493332377333, \"PVALB\": -1.4254}, {\"index\": \"H\", \"timescale (ms)\": 45.41656563236632, \"PVALB\": -3.38295}, {\"index\": \"ProS\", \"timescale (ms)\": 18.87215091840217, \"PVALB\": -0.30516}, {\"index\": \"PeEc\", \"timescale (ms)\": 40.4271857498047, \"PVALB\": -2.60765}, {\"index\": \"STGa\", \"timescale (ms)\": 27.123603096794433, \"PVALB\": -1.31}, {\"index\": \"PBelt\", \"timescale (ms)\": 19.285979818103236, \"PVALB\": 0.7134400000000001}, {\"index\": \"A5\", \"timescale (ms)\": 19.88397960892229, \"PVALB\": 0.27105}, {\"index\": \"PHA1\", \"timescale (ms)\": 28.729262018426148, \"PVALB\": -1.3635000000000002}, {\"index\": \"PHA3\", \"timescale (ms)\": 19.82649099167232, \"PVALB\": -0.5590149999999999}, {\"index\": \"STSda\", \"timescale (ms)\": 22.568032084814046, \"PVALB\": -0.59309}, {\"index\": \"STSdp\", \"timescale (ms)\": 20.056812870071205, \"PVALB\": -0.06031699999999999}, {\"index\": \"STSvp\", \"timescale (ms)\": 22.552125678727165, \"PVALB\": -0.284075}, {\"index\": \"TGd\", \"timescale (ms)\": 35.466814411766464, \"PVALB\": -1.94145}, {\"index\": \"TE1a\", \"timescale (ms)\": 28.276023811776387, \"PVALB\": -0.8136650000000001}, {\"index\": \"TE1p\", \"timescale (ms)\": 21.848475381676913, \"PVALB\": -0.48321}, {\"index\": \"TE2a\", \"timescale (ms)\": 25.34980077001019, \"PVALB\": -0.913255}, {\"index\": \"TF\", \"timescale (ms)\": 24.34922091672893, \"PVALB\": -1.1532}, {\"index\": \"TE2p\", \"timescale (ms)\": 19.850619324504713, \"PVALB\": -0.199155}, {\"index\": \"PHT\", \"timescale (ms)\": 20.175823779677355, \"PVALB\": -0.150911}, {\"index\": \"PH\", \"timescale (ms)\": 17.552299048362514, \"PVALB\": 0.220865}, {\"index\": \"TPOJ1\", \"timescale (ms)\": 18.21247070753705, \"PVALB\": 0.037347999999999985}, {\"index\": \"TPOJ2\", \"timescale (ms)\": 16.23144047560869, \"PVALB\": 0.492675}, {\"index\": \"TPOJ3\", \"timescale (ms)\": 17.308051680823112, \"PVALB\": 0.6965649999999999}, {\"index\": \"DVT\", \"timescale (ms)\": 15.928080574012315, \"PVALB\": 0.8314299999999999}, {\"index\": \"PGp\", \"timescale (ms)\": 18.987633953716134, \"PVALB\": 0.66805}, {\"index\": \"IP2\", \"timescale (ms)\": 20.91989527491857, \"PVALB\": 0.74771}, {\"index\": \"IP1\", \"timescale (ms)\": 16.000949235681873, \"PVALB\": 0.7793450000000001}, {\"index\": \"IP0\", \"timescale (ms)\": 18.817157779009328, \"PVALB\": 0.60333}, {\"index\": \"PFop\", \"timescale (ms)\": 16.773057465120875, \"PVALB\": 0.630855}, {\"index\": \"PF\", \"timescale (ms)\": 17.336246365359038, \"PVALB\": 0.13951}, {\"index\": \"PFm\", \"timescale (ms)\": 17.59050792240794, \"PVALB\": 0.2973}, {\"index\": \"PGi\", \"timescale (ms)\": 17.569236669329285, \"PVALB\": 0.3998}, {\"index\": \"PGs\", \"timescale (ms)\": 18.2743371950282, \"PVALB\": 0.57013}, {\"index\": \"V6A\", \"timescale (ms)\": 19.70562507321847, \"PVALB\": 0.92962}, {\"index\": \"VMV1\", \"timescale (ms)\": 19.406260838082897, \"PVALB\": 0.244265}, {\"index\": \"VMV3\", \"timescale (ms)\": 21.00303401639767, \"PVALB\": 0.2558}, {\"index\": \"PHA2\", \"timescale (ms)\": 27.29229623040204, \"PVALB\": -1.1606999999999998}, {\"index\": \"V4t\", \"timescale (ms)\": 14.785804632231198, \"PVALB\": 0.93103}, {\"index\": \"FST\", \"timescale (ms)\": 14.636349369274562, \"PVALB\": 0.477975}, {\"index\": \"V3CD\", \"timescale (ms)\": 22.78201263851812, \"PVALB\": 0.8375799999999999}, {\"index\": \"LO3\", \"timescale (ms)\": 17.205360136153697, \"PVALB\": 0.76737}, {\"index\": \"VMV2\", \"timescale (ms)\": 26.83022184257088, \"PVALB\": 0.1259}, {\"index\": \"31pd\", \"timescale (ms)\": 20.36315486554169, \"PVALB\": 0.103654}, {\"index\": \"31a\", \"timescale (ms)\": 20.009302506735192, \"PVALB\": 0.13479249999999998}, {\"index\": \"VVC\", \"timescale (ms)\": 17.77639331028494, \"PVALB\": -0.0752135}, {\"index\": \"25\", \"timescale (ms)\": 31.43929655606244, \"PVALB\": -2.782}, {\"index\": \"s32\", \"timescale (ms)\": 29.947913822101174, \"PVALB\": -1.50065}, {\"index\": \"pOFC\", \"timescale (ms)\": 32.05148875246085, \"PVALB\": -2.98695}, {\"index\": \"PoI1\", \"timescale (ms)\": 24.013552352554736, \"PVALB\": -1.46725}, {\"index\": \"Ig\", \"timescale (ms)\": 19.823493601118503, \"PVALB\": -0.1109575}, {\"index\": \"FOP5\", \"timescale (ms)\": 24.217617855846843, \"PVALB\": -0.20533}, {\"index\": \"p10p\", \"timescale (ms)\": 12.672894233987787, \"PVALB\": 0.1430545}, {\"index\": \"p47r\", \"timescale (ms)\": 26.98610600623455, \"PVALB\": 0.287605}, {\"index\": \"TGv\", \"timescale (ms)\": 35.50377842409493, \"PVALB\": -1.365535}, {\"index\": \"MBelt\", \"timescale (ms)\": 20.659916183176453, \"PVALB\": 0.31772500000000004}, {\"index\": \"LBelt\", \"timescale (ms)\": 21.986121263298703, \"PVALB\": 0.5707949999999999}, {\"index\": \"A4\", \"timescale (ms)\": 18.902942974502274, \"PVALB\": 0.500255}, {\"index\": \"STSva\", \"timescale (ms)\": 25.228750663158866, \"PVALB\": -0.5923400000000001}, {\"index\": \"TE1m\", \"timescale (ms)\": 23.949567343650287, \"PVALB\": -0.6105750000000001}, {\"index\": \"PI\", \"timescale (ms)\": 21.616939915212328, \"PVALB\": -1.4591500000000002}, {\"index\": \"a32pr\", \"timescale (ms)\": 27.377661368804315, \"PVALB\": -0.999245}, {\"index\": \"p24\", \"timescale (ms)\": 30.183876059781422, \"PVALB\": -1.976}, {\"index\": \"p9_46v\", \"timescale (ms)\": null, \"PVALB\": 0.6693199999999999}, {\"index\": \"a9_46v\", \"timescale (ms)\": null, \"PVALB\": 0.3136005}, {\"index\": \"9_46d\", \"timescale (ms)\": null, \"PVALB\": -0.035595}, {\"index\": \"i6_8\", \"timescale (ms)\": null, \"PVALB\": 0.566635}, {\"index\": \"s6_8\", \"timescale (ms)\": null, \"PVALB\": 0.302085}, {\"index\": \"OP2_3\", \"timescale (ms)\": null, \"PVALB\": 0.4499}]}}, {\"mode\": \"vega-lite\"});\n",
       "</script>"
      ],
      "text/plain": [
       "alt.Chart(...)"
      ]
     },
     "execution_count": 45,
     "metadata": {},
     "output_type": "execute_result"
    }
   ],
   "source": [
    "print('open to explore data!')\n",
    "\n",
    "struct_query = 'PVALB'\n",
    "\n",
    "# make temp dataframe because loading the whole thing in altair is slow af\n",
    "df_query = pd.concat([df_tau['timescale (ms)'], df_struct[struct_query]], axis=1)\n",
    "rho, pv = spearmanr(df_tau['timescale (ms)'], df_struct[struct_query])\n",
    "\n",
    "alt.Chart(df_query.reset_index(), title='Spearman correlation across MMP parcels: rho = %.3f'%rho).mark_circle(size=200).encode(\n",
    "    alt.X(struct_query, scale=alt.Scale(zero=False)),\n",
    "    alt.Y('timescale (ms)', scale=alt.Scale(zero=False, type='log', base=2, domain=(10, 64))),\n",
    "    color=alt.value('black'),\n",
    "    tooltip=['index']\n",
    ").properties(\n",
    "    width=600,\n",
    "    height=600\n",
    ").configure_axis(\n",
    "    labelFontSize=20,\n",
    "    titleFontSize=20\n",
    ").configure_title(fontSize=24).interactive()"
   ]
  },
  {
   "cell_type": "code",
   "execution_count": 54,
   "metadata": {},
   "outputs": [
    {
     "name": "stdout",
     "output_type": "stream",
     "text": [
      "open to explore data!\n"
     ]
    },
    {
     "data": {
      "text/html": [
       "\n",
       "<div id=\"altair-viz-34119fafd2cc4276a158c1e400a93638\"></div>\n",
       "<script type=\"text/javascript\">\n",
       "  (function(spec, embedOpt){\n",
       "    let outputDiv = document.currentScript.previousElementSibling;\n",
       "    if (outputDiv.id !== \"altair-viz-34119fafd2cc4276a158c1e400a93638\") {\n",
       "      outputDiv = document.getElementById(\"altair-viz-34119fafd2cc4276a158c1e400a93638\");\n",
       "    }\n",
       "    const paths = {\n",
       "      \"vega\": \"https://cdn.jsdelivr.net/npm//vega@5?noext\",\n",
       "      \"vega-lib\": \"https://cdn.jsdelivr.net/npm//vega-lib?noext\",\n",
       "      \"vega-lite\": \"https://cdn.jsdelivr.net/npm//vega-lite@4.8.1?noext\",\n",
       "      \"vega-embed\": \"https://cdn.jsdelivr.net/npm//vega-embed@6?noext\",\n",
       "    };\n",
       "\n",
       "    function loadScript(lib) {\n",
       "      return new Promise(function(resolve, reject) {\n",
       "        var s = document.createElement('script');\n",
       "        s.src = paths[lib];\n",
       "        s.async = true;\n",
       "        s.onload = () => resolve(paths[lib]);\n",
       "        s.onerror = () => reject(`Error loading script: ${paths[lib]}`);\n",
       "        document.getElementsByTagName(\"head\")[0].appendChild(s);\n",
       "      });\n",
       "    }\n",
       "\n",
       "    function showError(err) {\n",
       "      outputDiv.innerHTML = `<div class=\"error\" style=\"color:red;\">${err}</div>`;\n",
       "      throw err;\n",
       "    }\n",
       "\n",
       "    function displayChart(vegaEmbed) {\n",
       "      vegaEmbed(outputDiv, spec, embedOpt)\n",
       "        .catch(err => showError(`Javascript Error: ${err.message}<br>This usually means there's a typo in your chart specification. See the javascript console for the full traceback.`));\n",
       "    }\n",
       "\n",
       "    if(typeof define === \"function\" && define.amd) {\n",
       "      requirejs.config({paths});\n",
       "      require([\"vega-embed\"], displayChart, err => showError(`Error loading script: ${err.message}`));\n",
       "    } else if (typeof vegaEmbed === \"function\") {\n",
       "      displayChart(vegaEmbed);\n",
       "    } else {\n",
       "      loadScript(\"vega\")\n",
       "        .then(() => loadScript(\"vega-lite\"))\n",
       "        .then(() => loadScript(\"vega-embed\"))\n",
       "        .catch(showError)\n",
       "        .then(() => displayChart(vegaEmbed));\n",
       "    }\n",
       "  })({\"config\": {\"view\": {\"continuousWidth\": 400, \"continuousHeight\": 300}, \"axis\": {\"labelFontSize\": 20, \"titleFontSize\": 20}, \"title\": {\"fontSize\": 24}}, \"data\": {\"name\": \"data-7b14e5271afa8d0c203f3ce0cd7938b8\"}, \"mark\": {\"type\": \"circle\", \"size\": 200}, \"encoding\": {\"color\": {\"value\": \"black\"}, \"tooltip\": [{\"type\": \"nominal\", \"field\": \"index\"}], \"x\": {\"type\": \"quantitative\", \"field\": \"PVALB\", \"scale\": {\"zero\": false}}, \"y\": {\"type\": \"quantitative\", \"field\": \"timescale (ms)\", \"scale\": {\"domain\": [10, 40], \"zero\": false}}}, \"height\": 600, \"selection\": {\"selector003\": {\"type\": \"interval\", \"bind\": \"scales\", \"encodings\": [\"x\", \"y\"]}}, \"title\": \"Spearman correlation across macro regions: rho = -0.821\", \"width\": 600, \"$schema\": \"https://vega.github.io/schema/vega-lite/v4.8.1.json\", \"datasets\": {\"data-7b14e5271afa8d0c203f3ce0cd7938b8\": [{\"index\": \"ACC & mPFC\", \"timescale (ms)\": 23.664615361710815, \"PVALB\": -1.0739830000000004}, {\"index\": \"Auditory Association\", \"timescale (ms)\": 21.18616556823818, \"PVALB\": -0.306959625}, {\"index\": \"Dorsal Visual\", \"timescale (ms)\": 13.873876458342096, \"PVALB\": 0.9218424999999999}, {\"index\": \"Early Auditory\", \"timescale (ms)\": 20.428623012098587, \"PVALB\": 0.5463709999999999}, {\"index\": \"Early Visual\", \"timescale (ms)\": 18.06388947722509, \"PVALB\": 1.4138600000000001}, {\"index\": \"Inferior Frontal\", \"timescale (ms)\": 21.552211823231673, \"PVALB\": 0.46394075}, {\"index\": \"Inferior Parietal\", \"timescale (ms)\": 18.1982011739551, \"PVALB\": 0.5275494999999999}, {\"index\": \"Insular\", \"timescale (ms)\": 23.635565198653666, \"PVALB\": -1.343027461538462}, {\"index\": \"Lateral Temporal\", \"timescale (ms)\": 23.98690710535324, \"PVALB\": -0.8478840000000001}, {\"index\": \"Medial Temporal\", \"timescale (ms)\": 36.966767574418, \"PVALB\": -1.8474807142857144}, {\"index\": \"Orbital Frontal\", \"timescale (ms)\": 29.97419085284003, \"PVALB\": -0.5927243181818181}, {\"index\": \"Paracentral & Mid Cingulate\", \"timescale (ms)\": 16.467464532315773, \"PVALB\": 0.4159868125}, {\"index\": \"Post Operculum\", \"timescale (ms)\": 18.938760239714462, \"PVALB\": 0.4980633333333333}, {\"index\": \"Posterior Cingulate\", \"timescale (ms)\": 21.08208324132144, \"PVALB\": 0.10667158214285713}, {\"index\": \"Premotor\", \"timescale (ms)\": 18.0559188563814, \"PVALB\": 0.8282357142857142}, {\"index\": \"Sensorimotor\", \"timescale (ms)\": 14.704584058618872, \"PVALB\": 0.963626}, {\"index\": \"Superior Parietal\", \"timescale (ms)\": 17.40787405091368, \"PVALB\": 0.6980194999999999}, {\"index\": \"Temporal-Parietal-Occipital Junction\", \"timescale (ms)\": 18.608968115617238, \"PVALB\": 0.30426859999999994}, {\"index\": \"Ventral Visual\", \"timescale (ms)\": 18.770335978593, \"PVALB\": 0.3512427857142858}, {\"index\": \"Visual (TPO)\", \"timescale (ms)\": 18.975322661701824, \"PVALB\": 0.7410799999999998}, {\"index\": \"dlPFC\", \"timescale (ms)\": 19.29185497096024, \"PVALB\": 0.3190209230769231}]}}, {\"mode\": \"vega-lite\"});\n",
       "</script>"
      ],
      "text/plain": [
       "alt.Chart(...)"
      ]
     },
     "execution_count": 54,
     "metadata": {},
     "output_type": "execute_result"
    }
   ],
   "source": [
    "print('open to explore data!')\n",
    "struct_query = 'PVALB'\n",
    "\n",
    "# make temp dataframe because loading the whole thing in altair is slow af\n",
    "df_query = pd.concat([df_macro['index'], df_macro['timescale (ms)'], df_macro[struct_query]], axis=1)\n",
    "rho, pv = spearmanr(df_macro['timescale (ms)'], df_macro[struct_query])\n",
    "\n",
    "alt.Chart(df_query, title='Spearman correlation across macro regions: rho = %.3f'%rho).mark_circle(size=200).encode(\n",
    "    alt.X(struct_query, scale=alt.Scale(zero=False)),\n",
    "    alt.Y('timescale (ms)', scale=alt.Scale(zero=False, domain=(10, 40))),\n",
    "    color=alt.value('black'),\n",
    "    tooltip=['index']\n",
    ").properties(\n",
    "    width=600,\n",
    "    height=600\n",
    ").configure_axis(\n",
    "    labelFontSize=20,\n",
    "    titleFontSize=20\n",
    ").configure_title(fontSize=24).interactive()\n"
   ]
  },
  {
   "cell_type": "markdown",
   "metadata": {},
   "source": [
    "figure: Figure 2—figure supplement 1.\n",
    ":::\n",
    "![](elife-61277.xml.media/fig2-figsupp1.jpg)\n",
    "\n",
    "### MNI-iEEG dataset electrode coverage.\n",
    "\n",
    "(**A**) Per-parcel Gaussian-weighted mask values showing how close the nearest electrode was to a given HCP-MMP1.0 parcel for each participant. Brighter means closer, 0.5 corresponds to the nearest electrode being 4 mm away. (**B**) Maximum mask weight for each parcel across all participants. Most parcels have electrodes very close by in at least one participant across the entire participant pool. (**C**) The number of valid HCP-MMP parcels each participant has above the confidence threshold of 0.5 is uncorrelated with age. (**D**) Cortical map of the number of participants with confidence above threshold at each parcel. Sensorimotor, frontal, and lateral temporal regions have the highest coverage. (**E**) Cortical map of the average age of participants with confidence above threshold at each parcel. (**F**) Age distribution of participants with confidence above threshold at each parcel. Average age per parcel (red line) is relatively stable while age distribution varies from parcel to parcel (each subject is a black dot). (**G**) Average neuronal timescale when further aggregating the 180 Glasser parcels into 21 macro-regions (mean ± s.e.m across parcels within the macro-region).\n",
    ":::\n",
    "{#fig2s1}"
   ]
  },
  {
   "cell_type": "markdown",
   "metadata": {},
   "source": [
    "figure: Figure 2—figure supplement 2.\n",
    ":::\n",
    "![](elife-61277.xml.media/fig2-figsupp2.jpg)\n",
    "\n",
    "### Comparison of spatial autocorrelation-preserving null map generation methods.\n",
    "\n",
    "(**A**) Distributions of Spearman correlation values between empirical T1w/T2w map and 1000 spatial-autocorrelation preserving null timescale maps generated using Moran Spectral Randomization (MSR), spatial variogram fitting (VF), and spin permutation. Red dashed line denotes correlation between empirical timescale and T1w/T2w maps, p-values indicate two-tailed significance, i.e., proportion of distribution with values more extreme than empirical correlation. (**B**) Spatial variogram for empirical timescale map (black) and 10 null maps (blue) generated using MSR (left) and VF (right). Inset shows distribution of distances between pairs of HCP-MMP parcels. (**C**) Distribution of Spearman correlations between empirical and 1000 null timescale maps generated using MSR (green) and VF (red), showing similar levels of correlation between empirical and null maps for both methods.\n",
    ":::\n",
    "{#fig2s2}"
   ]
  },
  {
   "cell_type": "markdown",
   "metadata": {},
   "source": [
    "figure: Figure 2—figure supplement 3.\n",
    ":::\n",
    "![](elife-61277.xml.media/fig2-figsupp3.jpg)\n",
    "\n",
    "### Cortical thickness.\n",
    "\n",
    "Cortical thickness from the HCP dataset is positively correlated with neuronal timescale (left) and negatively correlated with T1w/T2w, i.e., thicker brain regions have longer (slower) timescales and less gray matter myelination, corresponding to higher-order association areas.\n",
    ":::\n",
    "{#fig2s3}"
   ]
  },
  {
   "cell_type": "markdown",
   "metadata": {},
   "source": [
    "figure: Figure 2—figure supplement 4.\n",
    ":::\n",
    "![](elife-61277.xml.media/fig2-figsupp4.jpg)\n",
    "\n",
    "### Macaque ECoG and single-unit coverage.\n",
    "\n",
    "(**A**) Locations of 180-electrode ECoG grid from two animals in the Neurotycho dataset; colors correspond to locations used for comparison with single-unit timescales. (**B**) Electrode indices of the sampled areas from the two animals, corresponding to those colored in (**A**).\n",
    ":::\n",
    "{#fig2s4}"
   ]
  },
  {
   "cell_type": "markdown",
   "metadata": {},
   "source": [
    "Across the human cortex, timescales of fast electrophysiological dynamics (~10–50 ms) predominantly follow a rostrocaudal gradient ([Figure 2C](#fig2), circles denote location of example data from 2A). Consistent with numerous accounts of a principal cortical axis spanning from primary sensory to association regions (@bib46; @bib64; @bib98), timescales are shorter in sensorimotor and early visual areas, and longer in association regions, especially cingulate, ventral/medial frontal, and medial temporal lobe (MTL) regions ([Figure 2—figure supplement 1G](#fig2s1) shows further pooling into 21 labeled macro-regions). We then compare the timescale gradient to the average T1w/T2w map from the Human Connectome Project, which captures gray matter myelination and indexes the proportion of feedforward vs. feedback connections between cortical regions, thus acting as a noninvasive proxy of connectivity-based anatomical hierarchy (@bib10; @bib39). We find that neuronal timescales are negatively correlated with T1w/T2w across the entire cortex ([Figure 2D](#fig2), _ρ_ = −0.47, p&lt;0.001; corrected for spatial autocorrelation \\[SA], see Materials and methods and [Figure 2—figure supplement 2A–C](#fig2s2) for a comparison of correction methods), such that timescales are shorter in more heavily myelinated (i.e., lower-level, sensory) regions. Timescales are also positively correlated with cortical thickness ([Figure 2—figure supplement 3](#fig2s3), _ρ_ = 0.37, p=0.035)—another index of cortical hierarchy that is itself anti-correlated with T1w/T2w. Thus, we observe that neuronal timescales lengthen along the human cortical hierarchy, from sensorimotor to association regions.\n",
    "\n",
    "While surface ECoG recordings offer much broader spatial coverage than extracellular single-unit recordings, they are fundamentally different signals: ECoG and field potentials largely reflect integrated synaptic and other transmembrane currents across many neuronal and glial cells, rather than putative action potentials from single neurons (@bib12; [Figure 1A](#fig1), yellow box). Considering this, we ask whether timescales measured from ECoG in this study (${\\displaystyle {\\tau }_{\\text{ECoG}}}$) are related to single-unit spiking timescales along the cortical hierarchy (${\\displaystyle {\\tau }_{\\text{spiking}}}$). To test this, we extract neuronal timescales from task-free ECoG recordings in macaques (@bib69) and compare them to a separate dataset of single-unit spiking timescales from a different group of macaques (@bib68) (see [Figure 2—figure supplement 4](#fig2s4) for electrode locations). Consistent with ${\\displaystyle {\\tau }_{\\text{spiking}}}$ estimates (@bib68; @bib99), ${\\displaystyle {\\tau }_{\\text{ECoG}}}$ also increase along the macaque cortical hierarchy. While there is a strong correspondence between spiking and ECoG timescales ([Figure 2F](#fig2); _ρ_ = 0.96, p&lt;0.001)—measured from independent datasets—across the macaque cortex, ${\\displaystyle {\\tau }_{\\text{ECoG}}}$ are ~10 times faster than ${\\displaystyle {\\tau }_{\\text{spiking}}}$ and are conserved across individual sessions ([Figure 2G](#fig2)). This suggests that neuronal spiking and transmembrane currents have distinct but related timescales of fluctuations, and that both are hierarchically organized along the primate cortex.\n",
    "\n",
    "## Synaptic and ion channel genes shape timescales of neuronal dynamics\n",
    "\n",
    "Next, we identify potential cellular and synaptic mechanisms underlying timescale variations across the human cortex. Theoretical accounts posit that NMDA-mediated recurrent excitation coupled with fast inhibition (@bib13; @bib95; @bib93), as well as cell-intrinsic properties (@bib23; @bib37; @bib59), are crucial for shaping neuronal timescales. While in vitro and in vivo studies in model organisms (@bib83; @bib97) can test these hypotheses at the single-neuron level, causal manipulations and large-scale recordings of neuronal networks embedded in the human brain are severely limited. Here, we apply an approach analogous to multimodal single-cell profiling (@bib5) and examine the transcriptomic basis of neuronal dynamics at the macroscale.\n",
    "\n",
    "Leveraging whole-cortex interpolation of the Allen Human Brain Atlas bulk mRNA expression (@bib42; @bib43), we project voxel-wise expression maps onto the HCP-MMP1.0 surface parcellation, and find that the neuronal timescale gradient overlaps with the dominant axis of gene expression (i.e., first principal component of 2429 brain-related genes) across the human cortex ([Figure 3A](#fig3), _ρ_ = −0.60, p&lt;0.001; see [Figure 3—figure supplement 1](#fig3s1) for similar results with all 18,114 genes). Consistent with theoretical predictions ([Figure 3B](#fig3)), timescales significantly correlate with the expression of genes encoding for NMDA (GRIN2B) and GABA-A (GABRA3) receptor subunits, voltage-gated sodium (SCN1A) and potassium (KCNA3) ion channel subunits, as well as inhibitory cell-type markers (parvalbumin, PVALB), and genes previously identified to be associated with single-neuron membrane time constants (PRR5) (@bib5) (all Spearman correlations corrected for SA in gradients)."
   ]
  },
  {
   "cell_type": "markdown",
   "metadata": {},
   "source": [
    "figure: Figure 3.\n",
    ":::\n",
    "![](elife-61277.xml.media/fig3.jpg)\n",
    "\n",
    "### Timescale gradient is linked to expression of genes related to synaptic receptors and transmembrane ion channels across the human cortex.\n",
    "\n",
    "(**A**) Timescale gradient follows the dominant axis of gene expression variation across the cortex (z-scored PC1 of 2429 brain-specific genes, arbitrary direction). (**B**) Timescale gradient is significantly correlated with expression of genes known to alter synaptic and neuronal membrane time constants, as well as inhibitory cell-type markers, but (**C**) members within a gene family (e.g., NMDA receptor subunits) can be both positively and negatively associated with timescales, consistent with predictions from in vitro studies. (**D**) Macroscale timescale-transcriptomic correlation captures association between RNA-sequenced expression of the same genes and single-cell timescale properties fit to patch clamp data from two studies, and the correspondence improves for genes (separated by quintiles) that are more strongly correlated with timescale (solid: N = 170 \\[@bib81], dashed: N = 4168 genes \\[@bib5]; horizontal lines: correlation across all genes from the two studies, _ρ_ = 0.36 and 0.25, p_&lt;_0.001 for both). (**E**) T1w/T2w gradient is regressed out from timescale and gene expression gradients, and a partial least squares (PLS) model is fit to the residual maps. Genes with significant PLS weights (filled blue boxes) compared to spatial autocorrelation (SA)-preserved null distributions are submitted for gene ontology enrichment analysis (GOEA), returning a set of significant GO terms that represent functional gene clusters (filled green boxes). (**F**) Enriched genes are primarily linked to potassium and chloride transmembrane transporters, and GABA-ergic synapses; genes specifically with strong negative associations further over-represent transmembrane ion exchange mechanisms, especially voltage-gated potassium and cation transporters. Branches indicate GO items that share higher-level (parent) items, e.g., _voltage-gated cation channel activity_ is a child of _cation channel activity_ in the molecular functions (MF) ontology, and both are significantly associated with timescale. Color of lines indicate curated ontology (BP—biological process, CC—cellular components, or MF). Dotted, dashed, and solid lines correspond to analysis performed using all genes or only those with positive or negative PLS weights. Spatial correlation p-values in (**A–C**) are corrected for SA (see Materials and methods; asterisks in (B,D) indicate p&lt;0.05, 0.01, 0.005, and 0.001 respectively; filled markers in (**C,D**) indicate p&lt;0.05).\n",
    ":::\n",
    "{#fig3}"
   ]
  },
  {
   "cell_type": "markdown",
   "metadata": {},
   "source": [
    "figure: Figure 3—figure supplement 1.\n",
    ":::\n",
    "![](elife-61277.xml.media/fig3-figsupp1.jpg)\n",
    "\n",
    "### Transcriptomic principal component analysis results.\n",
    "\n",
    "(**A**) Proportion of variance explained by the top 10 principal components (PCs) of brain-specific genes (top) and all AHBA genes (bottom). (**B**) Absolute Spearman correlation between timescale map and top 10 PCs from brain-specific or full gene dataset. Asterisks indicate resampled significance while accounting for spatial autocorrelation; \\*\\*\\*\\* indicate p_&lt;_0.001. Top PCs explain similar amounts of variance, while only PC1 in both cases is significantly correlated with timescale.\n",
    ":::\n",
    "{#fig3s1}"
   ]
  },
  {
   "cell_type": "markdown",
   "metadata": {},
   "source": [
    "figure: Figure 3—figure supplement 2.\n",
    ":::\n",
    "![](elife-61277.xml.media/fig3-figsupp2.jpg)\n",
    "\n",
    "### Individual timescale-gene correlations magnitudes.\n",
    "\n",
    "Correlation between timescale and expression of genes from [Figure 3C](#fig3), with gene symbols labeled and grouped into functional families for ease of interpretation.\n",
    ":::\n",
    "{#fig3s2}"
   ]
  },
  {
   "cell_type": "markdown",
   "metadata": {},
   "source": [
    "More specifically, in vitro electrophysiological studies have shown that, for example, increased expression of receptor subunit 2B extends the NMDA current time course (@bib27), while 2A expression shortens it (@bib66). Similarly, the GABA-A receptor time constant lengthens with increasing a3:a1 subunit ratio (@bib24). We show that these relationships are recapitulated at the macroscale, where neuronal timescales positively correlate with GRIN2B and GABRA3 expression and negatively correlate with GRIN2A and GABRA1 ([Figure 3C](#fig3)). These results demonstrate that timescales of neural dynamics depend on specific receptor subunit combinations with different (de)activation timescales (@bib22; @bib37), in addition to broad excitation–inhibition interactions (@bib34; @bib98; @bib94). Notably, almost all genes related to voltage-gated sodium and potassium ion channel alpha-subunits—the main functional subunits—are correlated with timescale, while all inhibitory cell-type markers except parvalbumin have strong positive associations with timescale ([Figure 3C](#fig3) and [Figure 3—figure supplement 2](#fig3s2)).\n",
    "\n",
    "We further test whether single-cell timescale-transcriptomic associations are captured at the macroscale as follows: for a given gene, we can measure how strongly its expression correlates with membrane time constant parameters at the single-cell level using patch-clamp and RNA sequencing (scRNASeq) data (@bib5; @bib81). Analogously, we can measure its macroscopic transcriptomic-timescale correlation using the cortical gradients above. If the association between the expression of this gene and neuronal timescale is preserved at both levels, then the correlation across cells at the microscale should be similar to the correlation across cortical regions at the macroscale. Comparing across these two scales for all previously identified timescale-related genes in two studies (N = 170 \\[@bib81] and 4168 \\[@bib5] genes), we find a significant correlation between the strength of association at the single-cell and macroscale levels ([Figure 3D](#fig3), horizontal black lines; _ρ_ = 0.36 and 0.25 for the two datasets, p&lt;0.001 for both). Furthermore, genes with stronger associations to timescale tend to conserve this relationship across single-cell and macroscale levels ([Figure 3D](#fig3), separated by macroscale correlation magnitude). Thus, the association between cellular variations in gene expression and cell-intrinsic temporal dynamics is captured at the macroscale, even though scRNAseq and microarray data represent entirely different measurements of gene expression.\n",
    "\n",
    "While we have shown associations between cortical timescales and genes suspected to influence neuronal dynamics, these data present an opportunity to discover additional novel genes that are functionally related to timescales through a data-driven approach. However, since transcriptomic variation and anatomical hierarchy overlap along a shared macroscopic gradient (@bib10; @bib49; @bib64), we cannot specify the role certain genes play based on their level of association with timescale alone: gene expression differences across the cortex first result in cell-type and connectivity differences, sculpting the hierarchical organization of cortical anatomy. Consequently, anatomy and cell-intrinsic properties jointly shape neuronal dynamics through connectivity differences (@bib13; @bib19) and expression of ion transport and receptor proteins with variable activation timescales, respectively. Therefore, we ask whether variation in gene expression still accounts for variation in timescale beyond the principal structural gradient, and if associated genes have known functional roles in biological processes (BP) (schematic in [Figure 3E](#fig3)). To do this, we first remove the contribution of anatomical hierarchy by linearly regressing out the T1w/T2w gradient from both timescale and individual gene expression gradients. We then fit partial least squares (PLS) models to simultaneously estimate regression weights for all genes (@bib101), submitting those with significant associations for gene ontology enrichment analysis (GOEA) (@bib58).\n",
    "\n",
    "We find that genes highly associated with neuronal timescales are preferentially related to transmembrane ion transporter complexes, as well as GABAergic synapses and chloride channels (see [Figure 3F](#fig3) and [Supplementary file 1](#supp1) for GOEA results with brain genes only, and [Supplementary file 2](#supp2) for all genes). When restricted to positively associated genes only (expression increases with timescales), one functional group related to phosphatidate phosphatase activity is uncovered, including the gene PLPPR1, which has been linked to neuronal plasticity (@bib78)—a much slower timescale physiological process. Conversely, genes that are negatively associated with timescale are related to numerous groups involved in the construction and functioning of transmembrane transporters and voltage-gated ion channels, especially potassium and other inorganic cation transporters. To further ensure that these genes specifically relate to neuronal timescale, we perform the same enrichment analysis with T1w/T2w vs. gene maps as a control. The control analysis yields no significant GO terms when restricted to brain-specific genes (in contrast to [Figure 3F](#fig3)), while repeating the analysis with all genes does yield significant GO terms related to ion channels and synapses, but are much less specific to those (see [Supplementary file 3](#supp3)), including a variety of other gene clusters associated with general metabolic processes, signaling pathways, and cellular components (CC). This further strengthens the point that removing the contribution of T1w/T2w aids in identifying genes that are more specifically associated with neurodynamics, suggesting that inhibition (@bib80)—mediated by GABA and chloride channels—and voltage-gated potassium channels have prominent roles in shaping neuronal timescale dynamics at the macroscale level, beyond what is expected based on the anatomical hierarchy alone.\n",
    "\n",
    "## Timescales lengthen in working memory and shorten in aging\n",
    "\n",
    "Finally, having shown that neuronal timescales are associated with stable anatomical and gene expression gradients across the human cortex, we turn to the final question of the study: are cortical timescales relatively static, or are they functionally dynamic and relevant for human cognition? While previous studies have shown hierarchical segregation of task-relevant information corresponding to intrinsic timescales of different cortical regions (@bib3; @bib15; @bib47; @bib76; @bib77; @bib99), as well as optimal adaptation of behavioral timescales to match the environment (@bib33; @bib71), evidence for functionally relevant changes in regional neuronal timescales is lacking. Here, we examine whether timescales undergo short- and long-term shifts during working memory maintenance and aging, respectively.\n",
    "\n",
    "We first analyze human ECoG recordings from parietal, frontal (PFC and orbitofrontal cortex \\[OFC]), and medial temporal lobe (MTL) regions of patients (N = 14) performing a visuospatial working memory task that requires a delayed cued response ([Figure 4A](#fig4); @bib51). Neuronal timescales were extracted for pre-stimulus baseline and memory maintenance delay periods (900 ms, both stimulus-free). Replicating our previous result in [Figure 2—figure supplement 1G](#fig2s1), we observe that baseline neuronal timescales follow a hierarchical progression across association regions, where parietal cortex (PC), PFC, OFC, and MTL have gradually longer timescales (pairwise Mann–Whitney U-test, [Figure 4B](#fig4)). If neuronal timescales track the temporal persistence of information in a functional manner, then they should expand during delay periods. Consistent with our prediction, timescales in all regions are ~20% longer during delay periods ([Figure 4C](#fig4); Wilcoxon rank-sum test). Moreover, only timescale changes in the PFC are significantly correlated with behavior across participants, where longer delay-period timescales relative to baseline are associated with better working memory performance ([Figure 4D](#fig4), _ρ_ = 0.75, p=0.003). No other spectral features in the recorded brain regions show consistent changes from baseline to delay periods while also significantly correlating with individual performance, including the 1/f-like spectral exponent, narrowband theta (3–8 Hz), and high-frequency (high gamma; 70–100 Hz) activity power ([Figure 4—figure supplement 1](#fig4s1))."
   ]
  },
  {
   "cell_type": "markdown",
   "metadata": {},
   "source": [
    "figure: Figure 4.\n",
    ":::\n",
    "![](elife-61277.xml.media/fig4.jpg)\n",
    "\n",
    "### Timescales expand during working memory maintenance while tracking performance, and task-free average timescales compress in older adults.\n",
    "\n",
    "(**A**) Fourteen participants with overlapping intracranial coverage performed a visuospatial working memory task, with 900 ms of baseline (pre-stimulus) and delay period data analyzed (PC: parietal, PFC: prefrontal, OFC: orbitofrontal, MTL: medial temporal lobe; n denotes number of subjects with electrodes in that region). (**B**) Baseline timescales follow hierarchical organization within association regions (\\*: p&lt;0.05, Mann–Whitney U-test; small dots represent individual participants, large dots and error bar for mean ± s.e.m. across participants). (**C**) All regions show significant timescale increase during delay period compared to baseline (asterisks represent p&lt;0.05, 0.01, 0.005, 0.001, Wilcoxon signed-rank test). (**D**) PFC timescale expansion during delay periods predicts average working memory accuracy across participants (dot represents individual participants, mean ± s.e.m. across PFC electrodes within participant); inset: correlation between working memory accuracy and timescale change for all regions. (**E**) In the MNI-iEEG dataset, participant-average cortical timescales decrease (become faster) with age (n = 71 participants with at least 10 valid parcels, see [Figure 4—figure supplement 2B](#fig4s2)). (**F**) Most cortical parcels show a negative relationship between timescales and age, with the exception being parts of the visual cortex and the temporal poles (one-sample t-test, _t_ = −7.04, p&lt;0.001; n = 114 parcels where at least six participants have data, see [Figure 4—figure supplement 2C](#fig4s2)).\n",
    ":::\n",
    "{#fig4}"
   ]
  },
  {
   "cell_type": "markdown",
   "metadata": {},
   "source": [
    "figure: Figure 4—figure supplement 1.\n",
    ":::\n",
    "![](elife-61277.xml.media/fig4-figsupp1.jpg)"
   ]
  },
  {
   "cell_type": "markdown",
   "metadata": {},
   "source": [
    "### Spectral correlates of working memory performance.\n",
    "\n",
    "(**A**) Difference between delay and baseline periods for 1/f-exponent, timescale (same as main [Figure 4C](#fig4) but absolute units on y-axis, instead of percentage), theta power, and high-frequency power. (**B**) Spearman correlation between spectral feature difference and working memory accuracy across participants, same features as in (**A**). \\*p&lt;0.05, \\*\\*p&lt;0.01, \\*\\*\\*p&lt;0.005 in (**A, B**). (**C**) Scatter plot of other significantly correlated spectral features from (**B**).\n",
    ":::\n",
    "{#fig4s1}"
   ]
  },
  {
   "cell_type": "markdown",
   "metadata": {},
   "source": [
    "figure: Figure 4—figure supplement 2.\n",
    ":::\n",
    "![](elife-61277.xml.media/fig4-figsupp2.jpg)"
   ]
  },
  {
   "cell_type": "markdown",
   "metadata": {},
   "source": [
    "### Parameter sensitivity for timescale-aging analysis.\n",
    "\n",
    "(**A**) Cortex-averaged timescale is independent of parcel coverage across participants. (**B**) Sensitivity analysis for the number of valid parcels a participant must have in order to be included in analysis for main [Figure 4E](#fig4) (red). As threshold increases (more stringent), fewer participants satisfy the criteria (right) but correlation between participant age and timescale remains robust (left). (**C**) Sensitivity analysis for the number of valid participants a parcel must have in order to be included in analysis for main [Figure 4F](#fig4). As threshold increases (more stringent), fewer parcels satisfy the criteria (right) but average correlation across all parcels remains robust (left, error bars denote s.e.m of distribution as in [Figure 4F](#fig4)).\n",
    ":::\n",
    "{#fig4s2}"
   ]
  },
  {
   "cell_type": "markdown",
   "metadata": {},
   "source": [
    "While timescales are consistent with the anatomical and gene expression hierarchy at a snapshot, brain structure itself is not static over time, undergoing many slower, neuroplastic changes during early development and throughout aging in older populations. In particular, aging is associated with a broad range of functional and structural changes, such as working memory impairments (@bib89; @bib96), as well as changes in neuronal dynamics (@bib89; @bib90; @bib96) and cortical structure (@bib18), such as the loss of slow-deactivating NMDA receptor subunits (@bib73). Since neuronal timescales may support working memory maintenance, we predict that timescales would shorten across the lifespan, in agreement with the observed cognitive and structural deteriorations. To this end, we leverage the wide age range in the MNI-iEEG dataset (13–62 years old) and probe average cortical timescales for each participant as a function of age. Since ECoG coverage is sparse and nonuniform across participants, simply averaging across parcels within individual participants confounds the effect of aging with the spatial effect of cortical hierarchy. Instead, we first normalize each parcel by its max value across all participants before averaging within participants, excluding those with fewer than 10 valid parcels (N = 71 of 106 subjects remaining; results hold for a large range of threshold values, [Figure 4—figure supplement 2B](#fig4s2)). We observe that older adults have faster neuronal timescales (_ρ_ = −0.31, p=0.010; [Figure 4E](#fig4)), and that timescales shorten with age in most areas across the cortex ([Figure 4F](#fig4), _t_ = −7.04, p&lt;0.001; 114 out of 189 parcels where at least six participants have data, see [Figure 4—figure supplement 2C](#fig4s2)). This timescale compression is especially prominent in sensorimotor, temporal, and medial frontal regions. These results support our hypothesis that neuronal timescales, estimated from transmembrane current fluctuations, can rapidly shift in a functionally relevant manner, as well as slowly—over decades—in healthy aging.\n",
    "\n",
    "# Discussion\n",
    "\n",
    "Theoretical accounts and converging empirical evidence predict a graded variation of neuronal timescales across the human cortex (@bib13; @bib49; @bib98), which reflects functional specialization and implements hierarchical temporal processing crucial for complex cognition (@bib57). This timescale gradient is thought to emerge as a consequence of cortical variations in cytoarchitecture, as well as both macroscale and microcircuit connectivity, thus serving as a bridge from brain structure to cognitive function (@bib55). In this work, we infer the timescale of non-rhythmic transmembrane current fluctuations from invasive human intracranial recordings and test those predictions explicitly. We discuss the implications and limitations of our findings below.\n",
    "\n",
    "## Multiple quantities for neuronal timescale and anatomical hierarchy\n",
    "\n",
    "We first find that neuronal timescales vary continuously across the human cortex and coincide with the anatomical hierarchy, with timescales increasing from primary sensory and motor to association regions. While we use the continuous T1w/T2w gradient as a surrogate measure for anatomical hierarchy, there are multiple related but distinct perspectives on what ‘cortical hierarchy’ means, including, for example, laminar connectivity patterns from tract tracing data (@bib26; @bib85), continuous (and latent-space) gradients of gene expression and microarchitectural features (@bib49), and network connectivity scales (see review of @bib46)—with most of these following a graded sensorimotor-to-association area progression. Similarly, it is important to note that there exist many different quantities that can be considered as characteristic neuronal timescales across several spatial scales, including membrane potential and synaptic current timescales (@bib22), single-unit spike-train timescales (@bib68), population code timescales (@bib76), and even large-scale circuit timescales measured from the fMRI BOLD signal (@bib100). We show here that timescales inferred from ECoG are consistently approximately 10 times faster than single-unit spiking timescales in macaques, corroborating the fact that field potential signals mainly reflect fast transmembrane and synaptic currents (@bib12), whose timescales are related to, but distinct from, single-unit timescales measured in previous studies (@bib21; @bib70; @bib99).\n",
    "\n",
    "Because field potential fluctuations are driven by currents from both locally generated and distal inputs, our results raise questions on how and when these timescales interact to shape downstream spiking dynamics. Furthermore, while we specifically investigate here the aperiodic timescale, which corresponds to the exponential decay timescale measured in previous studies, recent work has shown a similar gradient of oscillatory timescales (i.e., frequency) along the anterior–posterior axis of the human cortex (@bib63). Based on the similarity of these gradients and known mechanisms of asynchronous and oscillatory population dynamics (e.g., balance of excitation and inhibition in generating gamma oscillations and the asynchronous irregular state in cortical circuits \\[@bib8; @bib9]), we speculate that timescales of oscillatory and aperiodic neural dynamics may share (at least partially) circuit mechanisms at different spatial scales, analogous to the relationship between characteristic frequency and decay constant in a damped harmonic oscillator model.\n",
    "\n",
    "## Collinearity and surrogate nature of postmortem gene expression gradients\n",
    "\n",
    "Using postmortem gene expression data as a surrogate for protein density, transcriptomic analysis uncovers the potential roles that transmembrane ion transporters and synaptic receptors play in establishing the cortical gradient of neuronal timescales. The expression of voltage-gated potassium channel, chloride channel, and GABAergic receptor genes, in particular, are strongly associated with the spatial variation of neuronal timescale. Remarkably, we find that electrophysiology-transcriptomic relationships discovered at the single-cell level, through patch-clamp recordings and single-cell RNA sequencing, are recapitulated at the macroscale between bulk gene expression and timescales inferred from ECoG. That being said, it is impossible to make definitive causal claims with the data presented in this study, especially considering the fact that several microanatomical features, such as gray matter myelination and cortical thickness, follow similar gradients across the cortex (@bib10). To discover genes specifically associated with timescale while accounting for the contribution of the overlapping anatomical hierarchy, we linearly regress out the T1w/T2w gradient from both timescale and gene expression gradients. Although this procedure does not account for any nonlinear contributions from anatomy, gene enrichment control analysis using T1w/T2w instead of timescales further demonstrates that the discovered genes—transmembrane ion transporters and inhibitory synaptic receptors—are more specifically associated with the timescale gradient, over and above the level predicted by anatomical hierarchy alone. From these results, we infer that potassium and chloride ion channels, as well as GABAergic receptors, may play a mechanistic role in altering the timescale of transmembrane currents at the macroscopic level.\n",
    "\n",
    "However, this interpretation rests on the key assumption that mRNA expression level is a faithful representation of the amount of functional proteins in a given brain region. In general, gene expression levels are highly correlated with the percentage of cells expressing that gene within brain regions (@bib60). Therefore, on a population level, the regional density of a particular ion channel or receptor protein is high if bulk mRNA expression is high. Furthermore, recent works have shown that neurotransmitter receptor density measured via autoradiography in postmortem brains follows similar cortical gradients (@bib41), and that gene expression levels of neurotransmitter receptors (e.g., 5HT) are strongly correlated with ligand binding potential measured via PET (@bib42). Thus, as a first order approximation, receptor gene expression is an adequate surrogate for receptor protein density in the brain at the macroscale, though the relationship between mRNA expression and their transport and translation into channel proteins, the process of incorporating those proteins into membranes and synapses, and how these gene expression maps can be related to other overlapping macroscopic gradients are complex issues (see e.g., @bib28; @bib62). Thus, our analyses represent an initial data-mining process at the macroscopic level, which should motivate further studies in investigating the precise roles voltage-gated ion channels and synaptic inhibition play in shaping functional neuronal timescales through causal manipulations, complementary to existing lines of research focusing on NMDA activation and recurrent circuit motifs.\n",
    "\n",
    "## Structural constraints vs. behaviorally required flexibility in timescale\n",
    "\n",
    "Finally, we show that neuronal timescales are not static, but can change both in the short and long terms. Transmembrane current timescales across multiple association regions, including parietal, frontal, and medial temporal cortices, increase during the delay period of a working memory task, consistent with the emergence of persistent spiking during working memory delay. Working memory performance across individuals, however, is predicted by the extent of timescale increase in the PFC only. This further suggests that behaviorally relevant neural activity may be localized despite widespread task-related modulation (@bib74), even at the level of neuronal membrane fluctuations. In the long term, we find that neuronal timescale shortens with age in most cortical regions, linking age-related synaptic, cellular, and connectivity changes—particularly those that influence neuronal integration timescale—to the compensatory posterior-to-anterior shift of functional specialization in healthy aging (@bib17).\n",
    "\n",
    "These results raise further questions regarding contrasting, and potentially complementary, aspects of neuronal timescale: on the one hand, task-free timescales across the cortex are shaped by relatively static macro- and microarchitectural properties ([Figures 2](#fig2) and [3](#fig3)); on the other hand, timescales are dynamic and shift with behavioral demand ([Figure 4](#fig4)). While long-term structural changes in the brain can explain shifts in neuronal timescales throughout the aging process, properties such as ion channel protein density probably do not change within seconds during a working memory task. We speculate that structural properties may constrain dynamical properties (such as timescale) to a possible range within a particular brain region and at different spatial scales, while task requirements, input statistics, short-term synaptic plasticity, and neuromodulation can then shift timescale within this range. We posit, then, that only shifts in dynamics within the area of relevance (i.e., PFC for working memory) are indicative of task performance, consistent with recent ideas of computation-through-dynamics (@bib91). Nevertheless, which neuromodulatory and circuit mechanisms are involved in shifting local timescales, and how timescales at different spatial scales (e.g., synaptic, neuronal, population) interact to influence each other remain open questions for future investigation (@bib6; @bib22; @bib31; @bib32; @bib37; @bib79).\n",
    "\n",
    "## Conclusion\n",
    "\n",
    "In summary, we identify consistent and converging patterns between transcriptomics, anatomy, dynamics, and function across multiple datasets of different modalities from different individuals and multiple species. As a result, evidence for these relationships can be supplemented by more targeted approaches such as imaging of receptor metabolism. Furthermore, the introduction and validation of an open-source toolbox (@bib20) for inferring timescales from macroscale electrophysiological recordings potentially allows for the noninvasive estimation of neuronal timescales, using widely accessible tools such as EEG and MEG. These results open up many avenues of research for discovering potential relationships between microscale gene expression and anatomy with the dynamics of neuronal population activity at the macroscale in humans."
   ]
  },
  {
   "cell_type": "markdown",
   "metadata": {},
   "source": [
    "# Materials and methods\n",
    "\n",
    "## Inferring timescale from autocorrelation and PSD\n",
    "\n",
    "Consistent with previous studies, we define ‘neuronal timescale’ as the exponential decay time constant (_τ_) of the empirical ACF, or lagged correlation (@bib47; @bib68). _τ_ can be naively estimated to be the time it takes for the ACF to decrease by a factor of _e_ when there are no additional long-term, scale-free, or oscillatory processes, or by fitting a function of the form $f\\left(t\\right)={e}^{-\\frac{t}{\\tau }}$ and extracting the parameter _τ._ Equivalently, the PSD is the Fourier Transform of the ACF via Wiener–Khinchin theorem (@bib56) and follows a Lorentzian function of the form $L\\left(f\\right)=\\frac{A}{k+{f}^{\\chi }}$ for approximately exponential-decay processes, with $\\chi =2$ exactly when the ACF is solely composed of an exponential decay term, though it is often variable and in the range between 2 and 6 for neural time series (@bib20; @bib65; @bib75; @bib89). Timescale can be computed from the parameter _k_ as $\\tau =\\frac{1}{2\\pi {f}_{k}}$, where ${f}_{k}\\approx {k}^{1/\\chi }$ is approximated to be the ‘knee frequency’, at which a bend or knee in the power spectrum occurs, and equality holds when $\\chi =2$.\n",
    "\n",
    "## Computing PSD\n",
    "\n",
    "PSDs are estimated using a modified Welch’s method, where short-time windowed Fourier transforms (STFT) are computed from the time series, but the median is taken across time instead of the mean (in conventional Welch’s method) to minimize the effect of high-amplitude transients and artifacts (@bib50). Custom functions for this can be found in NeuroDSP (@bib16), a published and open-source digital signal processing toolbox for neural time series ([neurodsp.spectral.compute_spectrum](https://neurodsp-tools.github.io/neurodsp/generated/neurodsp.spectral.trim_spectrum.html)). For simulated data, Neurotycho macaque ECoG, and MNI-iEEG datasets, we use 1 s long Hamming windows with 0.5 s overlap. To estimate single-trial PSDs for the working memory ECoG dataset (CRCNS Johnson-ECoG @bib51; @bib52), we simply apply Hamming window to 900 ms long epoched time series and compute the squared magnitude of the windowed Fourier transform.\n",
    "\n",
    "## Spectral parametrization\n",
    "\n",
    "We apply spectral parameterization (@bib20) to extract timescales from PSDs. Briefly, we decompose log-power spectra into a summation of narrowband periodic components—modeled as Gaussians—and an aperiodic component—modeled as a generalized Lorentzian function centered at 0 Hz ($L\\left(f\\right)$ above). For inferring decay timescale, this formalism can be practically advantageous when a strong oscillatory or variable power-law (_χ_) component is present, as is often the case for neural signals. While oscillatory and power-law components can corrupt naive measurements of _τ_ as time for the ACF to reach 1/_e_, they can be easily accounted for and ignored in the frequency domain as narrowband peaks and 1/f-exponent fit. We discard the periodic components and infer timescale from the aperiodic component of the PSD. For a complete mathematical description of the model, see @bib20.\n",
    "\n",
    "## Simulation and validation\n",
    "\n",
    "We simulate the aperiodic background component of neural field potential recordings as autocorrelated stochastic processes by convolving Poisson population spikes with exponentially decaying synaptic kernels with predefined decay time constants (neurodsp.sim.sim_synaptic_current). PSDs of the simulated data are computed and parameterized as described above, and we compare the fitted timescales with their ground-truth values.\n",
    "\n",
    "## Macaque ECoG and single-unit timescales data\n",
    "\n",
    "Macaque single-unit timescales are taken directly from values reported in Figure 1c of @bib68. Whole-brain surface ECoG data (1000 Hz sampling rate) is taken from the Neurotycho repository (@bib69; @bib103), with eight sessions of 128-channel recordings from two animals (George and Chibi, four sessions each). Results reported in [Figure 2E–G](#fig2) are from ~10 min eyes-open resting periods to match the pre-stimulus baseline condition of single-unit experiments. Timescales for individual ECoG channels are extracted and averaged over regions corresponding to single-unit recording areas from @bib68; [Figure 2F](#fig2) inset and [Figure 2—figure supplement 3](#fig2s3), which are selected visually based on the overlapping cortical map and landmark sulci/gyri. Each region included between two and four electrodes (see [Figure 2—figure supplement 3B](#fig2s3) for selected ECoG channel indices for each region).\n",
    "\n",
    "## Statistical analysis for macaque ECoG and spiking timescale\n",
    "\n",
    "For each individual recording session, as well as the grand average, Spearman rank correlation was computed between spiking and ECoG timescales. Linear regression models were fit using the python package scipy (@bib86) (scipy.stats.linregress) and the linear slope was used to compute the scaling coefficient between spiking and ECoG timescales.\n",
    "\n",
    "## Variations in neuronal timescale, T1/T2 ratio, and mRNA expression across human cortex\n",
    "\n",
    "The following sections describe procedures for generating the average cortical gradient maps for neuronal timescale, MR-derived T1w/T2w ratio, and gene expression from the respective raw datasets. All maps were projected onto the 180 left hemisphere parcels of Human Connectome Project’s Multimodal Parcellation (@bib38) (HCP-MMP1.0) for comparison, described in the individual sections. Projection of T1w/T2w and gene expression maps from MNI volumetric coordinates to HCP-MMP1.0 can be found: <https://github.com/rudyvdbrink/Surface_projection> (@bib82).\n",
    "\n",
    "All spatial correlations are computed as Spearman rank correlations between maps. Procedure for computing statistical significance while accounting for SA is described in detail below under the sections 'Spatial statistics' and 'SA modeling'.\n",
    "\n",
    "## Neuronal timescale map\n",
    "\n",
    "The MNI Open iEEG dataset consists of 1 min of resting state data across 1772 channels from 106 epilepsy patients (13–62 years old, 58 males, and 48 females), recorded using either surface strip/grid or stereoEEG electrodes, and cleaned of visible artifacts (@bib29; @bib30). Neuronal timescales were extracted from PSDs of individual channels, and projected from MNI voxel coordinates onto HCP-MMP1.0 surface parcellation as follows.\n",
    "\n",
    "For each patient, timescale estimated from each electrode was extrapolated to the rest of the cortex in MNI coordinates using a Gaussian weighting function (confidence mask), $w\\left(r\\right)={e}^{-\\left({r}^{2}/{\\alpha }^{2}\\right)}$, where _r_ is the Euclidean distance between the electrode and a voxel, and _α_ is the distance scaling constant, chosen here such that a voxel 4 mm away has 50% weight (or confidence). Timescale at each voxel is computed as a weighted spatial average of timescales from all electrodes (i) of that patient:\n",
    "\n",
    "i.e., ${\\tau }_{voxel}=\\frac{{{\\displaystyle \\sum }}_{i}^{}w{\\left({r}_{i}\\right)}_{}{\\tau }_{i}}{{{\\displaystyle \\sum }}_{i}^{}w{\\left({r}_{i}\\right)}_{}}$.\n",
    "\n",
    "Similarly, each voxel is assigned a confidence rating that is the maximum of weights over all electrodes (_w~voxel~(r~min~), _of the closest electrode), i.e., a voxel right under an electrode has a confidence of 1, while a voxel 4 mm away from the closest electrode has a confidence of 0.5, etc.\n",
    "\n",
    "Timescales for each HCP-MMP parcel were then computed as the confidence-weighted arithmetic mean across all voxels that fall within the boundaries of that parcel. HCP-MMP boundary map is loaded and used for projection using NiBabel (@bib7). This results in a 180 parcels-by-106 patients timescale matrix. A per-parcel confidence matrix of the same dimensions was computed by taking the maximum confidence over all voxels for each parcel ([Figure 2—figure supplement 1A](#fig2s1)). The average cortical timescale map (gradient) is computed by taking the confidence-weighted average at each parcel across all participants. Note that this procedure for locally thresholded and weighted average is different from projection procedures used for the mRNA and T1w/T2w data due to region-constrained and heterogeneous ECoG electrode sites across participants. While coverage is sparse and idiosyncratic in individual participants, it does not vary as a function of age, and when pooling across the entire population, 178 of 180 parcels have at least one patient with an electrode within 4 mm, with the best coverage in sensorimotor, temporal, and frontal regions ([Figure 2—figure supplement 1](#fig2s1)).\n",
    "\n",
    "## T1w/T2w ratio and cortical thickness maps\n",
    "\n",
    "As a measure of structural cortical hierarchy, we used the ratio between T1- and T2-weighted structural MRI, referred to as T1w/T2w map in main text, or the myelin map (@bib10; @bib39). Since there is little variation in the myelin map across individuals, we used the group average myelin map of the WU-Minn HCP S1200 release (N = 1096, March 1, 2017 release) provided in HCP-MMP1.0 surface space. For correlation with other variables, we computed the median value per parcel, identical to the procedure for mRNA expression below. Cortical thickness map was similarly generated.\n",
    "\n",
    "## mRNA expression maps\n",
    "\n",
    "We used the Allen Human Brain Atlas (AHBA) gene expression dataset (@bib44; @bib43) that comprised postmortem samples of six donors (one female and five males) that underwent microarray transcriptional profiling. Spatial maps of mRNA expression were available in volumetric 2 mm isotropic MNI space, following improved nonlinear registration and whole-brain prediction using variogram modeling as implemented by @bib42. We used whole-brain maps available from @bib42 rather than the native sample-wise values in the AHBA database to prevent bias that could occur due to spatial inhomogeneity of the sampled locations. In total, 18,114 genes were included for analyses that related to the dominant axis of expression across the genome.\n",
    "\n",
    "We projected the volumetric mRNA expression data onto the HCP-MMP cortical surface using the HCP workbench software (v1.3.1 running on Windows OS 10) with the ‘enclosing’ method and custom MATLAB code ([github.com/rudyvdbrink/surface_projection](https://github.com/rudyvdbrink/surface_projection)) (@bib82). The enclosing method extracts for all vertices on the surface the value from enclosing voxels in the volumetric data. Alternative projection methods such as trilinear 3D linear interpolation of surrounding voxels, or ribbon mapping that constructs a polyhedron from each vertex's neighbors on the surface to compute a weighted mean for the respective vertices, yielded comparable values, but less complete cortical coverage. Moreover, the enclosing method ensured that no transformation of the data (nonlinear or otherwise) occurred during the projection process and thus the original values in the volumetric data were preserved.\n",
    "\n",
    "Next, for each parcel of the left hemisphere in HCP-MMP, we extracted the median vertex-wise value. We used the median rather than the mean because it reduced the contribution of outliers in expression values within parcels. Vertices that were not enclosed by voxels that contained data in volumetric space were not included in the parcel-wise median. This was the case for 539 vertices (1.81% of total vertices). Linear interpolation across empty vertices prior to computing median parcel-wise values yielded near-identical results (_r =_ 0.95 for reconstructed surfaces). Lastly, expression values were mean and variance normalized across parcels to facilitate visualization. Normalization had no effect on spatial correlation between gene expression and other variables since the spatial distribution of gene expression was left unaltered.\n",
    "\n",
    "## Selection of brain-specific genes\n",
    "\n",
    "Similar to @bib10; @bib25; @bib36, N = 2429 brain-specific genes were selected based on the criteria that expression in brain tissues were four times higher than the median expression across all tissue types, using Supplementary Dataset 1 of @bib25. PC1 result shown in [Figure 3A](#fig3) is computed from brain-specific genes, though findings are similar when using all genes (_ρ_ = −0.56 with timescale map, [Figure 3—figure supplement 1](#fig3s1)).\n",
    "\n",
    "## Spatial statistics\n",
    "\n",
    "All correlations between spatial maps (timescale, T1w/T2w, gene principal component \\[PC], and individual gene expressions) were computed using Spearman rank correlation. As noted in @bib11; @bib10; @bib87, neural variables vary smoothly and continuously across the cortical surface, violating the assumption of independent samples. As a result, when correlating two variables, each with nontrivial SA, the naive p-value is artificially lowered since it is compared against an inappropriate null hypothesis, i.e., randomly distributed or shuffled values across space. Instead, a more appropriate null hypothesis introduces SA-preserving null maps, which destroys any potential correlation between two maps while respecting their SAs. For all spatial correlation analyses, we generated N = 1000 null maps of one variable (timescale map unless otherwise noted), and the test statistic, Spearman correlation (_ρ_), is computed against the other variable of interest to build the null distribution. Two-tailed significance is then computed as the proportion of the null distribution that is less extreme than the empirical correlation value. All regression lines were computed by fitting a linear regression to log-timescale and the structural feature maps.\n",
    "\n",
    "## SA modeling\n",
    "\n",
    "To generate SA-preserving null maps, we used Moran Spectral Randomization (MSR) (@bib92) from the python package BrainSpace (@bib87). Details of the algorithm can be found in the above references. Briefly, MSR performs eigendecomposition on a spatial weight matrix of choice, which is taken here to be the inverse average geodesic distance matrix between all pairs of parcels in HCP-MMP1.0. The eigenvectors of the weight matrix are then used to generate randomized null feature maps that preserves the autocorrelation of the empirical map. We used the singleton procedure for null map generation. All significance values reported ([Figures 2D](#fig2)[ and 3A–C](#fig3)) were adjusted using the above procedure.\n",
    "\n",
    "We also compare two other methods of generating null maps: spatial variogram fitting (VF) (@bib11) and spin permutation (@bib1). Null maps were generated for timescale using spatial VF, while for spin permutation they were generated for vertex-wise T1w/T2w and gene PC1 maps before parcellation, so as to preserve surface locations of the parcellation itself. All methods perform similarly, producing comparable SA in the null maps, assessed using spatial variogram, as well as null distribution of spatial correlation coefficients between timescale and T1w/T2w ([Figure 2—figure supplement 2](#fig2s2)).\n",
    "\n",
    "## Principal component analysis (PCA) of gene expression\n",
    "\n",
    "We used scikit-learn (@bib72) PCA (sklearn.decomposition.PCA) to identify the dominant axes of gene expression variation across the entire AHBA dataset, as well as for brain-specific genes. PCA was computed on the variance-normalized average gene expression maps, _X_, an N × P matrix where N = 18,114 (or N = 2429 brain-specific) genes, and P = 180 cortical parcels. Briefly, PCA factorizes _X_ such that _X = USV^T^_, where _U_ and _V_ are unitary matrices of dimensionality N × N and P × P, respectively. _S_ is the same dimensionality as _X_ and contains non-negative descending eigenvalues on its main diagonal (Λ). Columns of _V_ are defined as the PCs, and the dominant axis of gene expression is then defined as the first column of V, whose proportion of variance explained in the data is the first element of Λ divided by the sum over Λ. Results for PC1 and PC2-10 are shown in [Figure 3A](#fig3) and [Figure 3—figure supplement 1](#fig3s1), respectively.\n",
    "\n",
    "## Comparison of timescale-transcriptomic association with single-cell timescale genes\n",
    "\n",
    "Single-cell timescale genes were selected based on data from Table S3 of @bib81 and Online Table 1 of @bib5. Using single-cell RNA sequencing data and patch-clamp recordings from transgenic mice cortical neurons, these studies identified genes whose expression significantly correlated with electrophysiological features derived from generalized linear integrate and fire (GLIF) model fits. We selected genes that were significantly correlated with membrane time constant (_tau_), input resistance (_Rin_ or _ri_), or capacitance (_Cm_ or _cap_) in the referenced data tables, and extracted the level of association between gene expression and those electrophysiological feature (correlation ‘DiscCorr’ in @bib81 and linear coefficient ‘beta_gene’ in @bib5).\n",
    "\n",
    "To compare timescale-gene expression association at the single-cell and macroscale level, we correlated the single-cell associations extracted above with the spatial correlation coefficient (macroscale _ρ_) between ECoG timescale and AHBA microarray expression data for those same genes, restricting to genes with p&lt;0.05 for macroscale correlation (results identical for non-restrictive gene set). Overall association for all genes, as well as split by quintiles of their absolute macroscale correlation coefficient, are shown in [Figure 3D](#fig3). Example ‘single-cell timescale’ genes shown in [Figure 3B and C](#fig3) are genes showing the highest correlations with those electrophysiology features reported in Table 2 of @bib5.\n",
    "\n",
    "## T1w/T2w-removed timescale and gene expression residual maps\n",
    "\n",
    "To remove anatomical hierarchy as a potential mediating variable in timescale–gene expression relationships, we linearly regress out the T1w/T2w map from the (log) timescale map and individual gene expression maps. T1w/T2w was linearly fit to log-timescale, and the error between T1w/T2w-predicted timescale and empirical timescale was extracted (residual); this identical procedure was applied to every gene expression map to retrieve the gene residuals. SA-preserving null timescale residual maps were similarly created using MSR.\n",
    "\n",
    "## PLS regression model\n",
    "\n",
    "Due to multicollinearity in the high-dimensional gene expression dataset (many more genes than parcels), we fit a PLS model to the timescale map with one output dimension (sklearn.cross_decomposition.PLSRegression) to estimate regression coefficient for all genes simultaneously, resulting in N = 18,114 (or N = 2429 brain-specific) PLS weights (@bib84; @bib101). To determine significantly associated (or ‘enriched’) genes, we repeated the above PLS-fitting procedure 1000 times but replaced the empirical timescale map (or residual map) with null timescale maps (or residual maps) that preserved its SA. Genes whose absolute empirical PLS weight was greater than 95% of its null weight distribution was deemed to be enriched, and submitted for GOEA.\n",
    "\n",
    "## Gene ontology enrichment analysis\n",
    "\n",
    "The Gene Ontology (GO) captures hierarchically structured relationships between GO items representing aspects of biological processes (BP), cellular components (CC), or molecular functions (MF). For example, ‘synaptic signaling’, ‘chemical synaptic transmission’, and ‘glutamatergic synaptic transmission’ are GO items with increasing specificity, with smaller subsets of genes associated with each function. Each GO item is annotated with a list of genes that have been linked to that particular process or function. GOEA examines the list of enriched genes from above to identify GO items that are more associated with those genes than expected by chance. We used GOATOOLS (@bib58) to perform GOEA programmatically in python.\n",
    "\n",
    "The list of unranked genes with significant empirical PLS weights was submitted for GOEA as the ‘study set’, while either the full ABHA list or brain-specific gene list was used as the ‘reference set’. The output of GOEA is a list of GO terms with annotated genes that are enriched or purified (i.e., preferentially appearing or missing in the study list, respectively) more often than by chance, determined by Fisher’s exact test.\n",
    "\n",
    "Enrichment ratio is defined as follows: given a reference set with _N_ total genes, and _n_ were found to be significantly associated with timescale (in the study set), for a single GO item with _B_ total genes annotated to it, where _b_ of them overlap with the study set, then. Statistical significance is adjusted for multiple comparisons following Benjamini–Hochberg procedure (false discovery rate q-value reported in [Figure 3F](#fig3)), and all significant GO items (q &lt; 0.05) are reported in [Figure 3F](#fig3), in addition to some example items that did not pass significance threshold. For a detailed exposition, see @bib4. [Figure 3F](#fig3) shows results using brain-specific genes. The GO items that are significantly associated are similar when using the full gene set, but typically with larger q-values ([Supplementary file 1](#supp1) and [2](#supp2)) due to a much larger set of (non-brain-specific) genes. Control analysis was conducted using T1w/T2w, with 1000 similarly generated null maps, instead of timescale.\n",
    "\n",
    "## Working memory ECoG data and analysis\n",
    "\n",
    "The CRCNS fcx-2 and fcx-3 datasets include 17 intracranial ECoG recordings in total from epilepsy patients (10 and 7, respectively) performing the same visuospatial working memory task (@bib54; @bib53; @bib51, @bib52). Subject 3 (s3) from fcx-2 was discarded due to poor data quality upon examination of trial-averaged PSDs (high noise floor near 20 Hz), while s5 and s7 from fcx-3 correspond to s5 and s8 in fcx-2 and were thus combined. Together, data from 14 unique participants (22–50 years old, five females) were analyzed, with variable and overlapping coverage in PC (n = 14), PFC (n = 13), OFC (n = 8), and MTL (n = 9). Each channel was annotated as belonging to one of the above macro regions.\n",
    "\n",
    "Experimental setup is described in @bib54; @bib53; @bib51, @bib52 in detail. Briefly, following a 1 s pre-trial fixation period (baseline), subjects were instructed to focus on one of two stimulus contexts (‘identity’ or ‘relation’ information). Then two shapes were presented in sequence for 200 ms each. After a 900 or 1150 ms jittered precue delay (delay1), the test cue appeared for 800 ms, followed by another post-cue delay period of the same length (delay2). Finally, the response period required participants to perform a 2-alternative forced choice test based on the test cue, which varied based on trial condition. For our analysis, we collapsed across the stimulus context conditions and compared neuronal timescales during the last 900 ms of baseline and delay periods from the epoched data, which were free of visual stimuli, in order to avoid stimulus-related event-related potential effects. Behavioral accuracy for each experimental condition was reported for each participant, and we average across both stimulus context conditions to produce a single working memory accuracy per participant.\n",
    "\n",
    "Single-trial power spectra were computed for each channel as the squared magnitude of the Hamming-windowed Fourier Transform. We used 900 ms of data in all three periods (pre-trial, delay1, and delay2). Timescales were estimated by applying spectral parameterization as above, and the two delay-period estimates were averaged to produce a single delay period value. For comparison, we computed single-trial theta (3–8 Hz) and high-frequency activity (high gamma \\[@bib67], 70–100 Hz) powers as the mean log-power within those frequency bins, as well as spectral exponent (χ). Single-trial timescale difference between delay and baseline was calculated as the difference of the log timescales due to the non-normal distribution of single-trial timescale estimates. All other neural features were computed by subtracting baseline from the delay period.\n",
    "\n",
    "All neural features were then averaged across channels within the same regions, then trials, for each participant, to produce per-participant region-wise estimates, and finally averaged across all participants for the regional average in [Figure 4B and C](#fig4). Two-sided Mann–Whitney U-tests were used to test for significant differences in baseline timescale between pairs of regions ([Figure 4B](#fig4)). Two-sided Wilcoxon rank-sum tests were used to determine the statistical significance of timescale change in each region ([Figure 4C](#fig4)), where the null hypothesis was no change between baseline and delay periods (i.e., delay is 100% of baseline). Spearman rank correlation was used to determine the relationship between neural activity (timescale; theta; high-frequency; χ) change and working memory accuracy across participants ([Figure 4D](#fig4) and [Figure 4—figure supplement 1](#fig4s1)).\n",
    "\n",
    "## Per-subject average cortical timescale across age\n",
    "\n",
    "Since electrode coverage in the MNI-iEEG dataset is sparse and nonuniform across participants ([Figure 2—figure supplement 1](#fig2s1)), simply averaging across parcels within individuals to estimate an average cortical timescale per participant confounds the effect of age with the spatial effect of cortical hierarchy. Therefore, we instead first normalize each parcel by its max value across all participants before averaging within participants, excluding those with fewer than 10 valid parcels (71 of 106 subjects remaining; results hold for a range of threshold values; [Figure 4—figure supplement 2B](#fig4s2)). Spearman rank correlation was used to compute the association between age and average cortical timescale.\n",
    "\n",
    "## Age–timescale association for individual parcels\n",
    "\n",
    "Each cortical parcel had a variable number of participants with valid timescale estimates above the consistency threshold, so we compute Spearman correlation between age and timescale for each parcel, but including only those with at least five participants (114 of 180 parcels, result holds for a range of threshold values; [Figure 4—figure supplement 2C](#fig4s2)). Spatial effect of age-timescale variation is plotted in [Figure 4F](#fig4), where parcels that did not meet the threshold criteria are grayed out. Mean age–timescale correlation from individual parcels was significantly negative under one-sample t-test.\n",
    "\n",
    "## Data and materials’ availability\n",
    "\n",
    "All data analyzed in this manuscript are from open data sources. All code used for all analyses and plots are publicly available on GitHub at <https://github.com/rdgao/field-echos> (@bib35) and <https://github.com/rudyvdbrink/surface_projection> (@bib82). See [Tables 1](#table1) and [2](#table2) for details."
   ]
  }
 ],
 "metadata": {
  "about": [
   {
    "name": "Computational and Systems Biology",
    "type": "DefinedTerm"
   },
   {
    "name": "Neuroscience",
    "type": "DefinedTerm"
   }
  ],
  "authors": [
   {
    "affiliations": [
     {
      "address": {
       "addressCountry": "United States",
       "addressLocality": "La Jolla",
       "type": "PostalAddress"
      },
      "name": "Department of Cognitive Science, University of California, San Diego",
      "type": "Organization"
     }
    ],
    "emails": [
     "r.dg.gao@gmail.com"
    ],
    "familyNames": [
     "Gao"
    ],
    "givenNames": [
     "Richard"
    ],
    "name": "Richard Gao",
    "type": "Person"
   },
   {
    "affiliations": [
     {
      "address": {
       "addressCountry": "Germany",
       "addressLocality": "Hamburg",
       "type": "PostalAddress"
      },
      "name": "Section Computational Cognitive Neuroscience, Department of Neurophysiology and Pathophysiology, University Medical Center Hamburg-Eppendorf",
      "type": "Organization"
     }
    ],
    "familyNames": [
     "van",
     "den",
     "Brink"
    ],
    "givenNames": [
     "Ruud",
     "L"
    ],
    "name": "Ruud L van den Brink",
    "type": "Person"
   },
   {
    "affiliations": [
     {
      "address": {
       "addressCountry": "Spain",
       "addressLocality": "Barcelona",
       "type": "PostalAddress"
      },
      "name": "Center for Brain and Cognition, Computational Neuroscience Group, Universitat Pompeu Fabra",
      "type": "Organization"
     }
    ],
    "familyNames": [
     "Pfeffer"
    ],
    "givenNames": [
     "Thomas"
    ],
    "name": "Thomas Pfeffer",
    "type": "Person"
   },
   {
    "affiliations": [
     {
      "address": {
       "addressCountry": "United States",
       "addressLocality": "La Jolla",
       "type": "PostalAddress"
      },
      "name": "Department of Cognitive Science, University of California, San Diego",
      "type": "Organization"
     },
     {
      "address": {
       "addressCountry": "United States",
       "addressLocality": "La Jolla",
       "type": "PostalAddress"
      },
      "name": "Halıcıoğlu Data Science Institute, University of California, San Diego",
      "type": "Organization"
     },
     {
      "address": {
       "addressCountry": "United States",
       "addressLocality": "La Jolla",
       "type": "PostalAddress"
      },
      "name": "Neurosciences Graduate Program, University of California, San Diego",
      "type": "Organization"
     },
     {
      "address": {
       "addressCountry": "United States",
       "addressLocality": "La Jolla",
       "type": "PostalAddress"
      },
      "name": "Kavli Institute for Brain and Mind, University of California, San Diego",
      "type": "Organization"
     }
    ],
    "familyNames": [
     "Voytek"
    ],
    "givenNames": [
     "Bradley"
    ],
    "name": "Bradley Voytek",
    "type": "Person"
   }
  ],
  "dateAccepted": {
   "type": "Date",
   "value": "2020-11-22"
  },
  "datePublished": {
   "type": "Date",
   "value": "2020-11-23"
  },
  "dateReceived": {
   "type": "Date",
   "value": "2020-07-21"
  },
  "description": "Complex cognitive functions such as working memory and decision-making require information maintenance over seconds to years, from transient sensory stimuli to long-term contextual cues. While theoretical accounts predict the emergence of a corresponding hierarchy of neuronal timescales, direct electrophysiological evidence across the human cortex is lacking. Here, we infer neuronal timescales from invasive intracranial recordings. Timescales increase along the principal sensorimotor-to-association axis across the entire human cortex, and scale with single-unit timescales within macaques. Cortex-wide transcriptomic analysis shows direct alignment between timescales and expression of excitation- and inhibition-related genes, as well as genes specific to voltage-gated transmembrane ion transporters. Finally, neuronal timescales are functionally dynamic: prefrontal cortex timescales expand during working memory maintenance and predict individual performance, while cortex-wide timescales compress with aging. Thus, neuronal timescales follow cytoarchitectonic gradients across the human cortex and are relevant for cognition in both short and long terms, bridging microcircuit physiology with macroscale dynamics and behavior.",
  "editors": [
   {
    "affiliations": [
     {
      "address": {
       "addressCountry": "Germany",
       "type": "PostalAddress"
      },
      "name": "Ernst Strüngmann Institute (ESI) for Neuroscience in Cooperation with Max Planck Society",
      "type": "Organization"
     }
    ],
    "familyNames": [
     "Vinck"
    ],
    "givenNames": [
     "Martin"
    ],
    "type": "Person"
   }
  ],
  "fundedBy": [
   {
    "funders": [
     {
      "name": "Natural Sciences and Engineering Research Council of Canada",
      "type": "Organization"
     }
    ],
    "identifiers": [
     {
      "type": "PropertyValue",
      "value": "CGSD3-488052-2016"
     }
    ],
    "type": "MonetaryGrant"
   },
   {
    "funders": [
     {
      "name": "Katzin Prize",
      "type": "Organization"
     }
    ],
    "identifiers": [],
    "type": "MonetaryGrant"
   },
   {
    "funders": [
     {
      "name": "Alexander von Humboldt Foundation",
      "type": "Organization"
     }
    ],
    "identifiers": [
     {
      "type": "PropertyValue",
      "value": "Humboldt Fellowship"
     }
    ],
    "type": "MonetaryGrant"
   },
   {
    "funders": [
     {
      "name": "Alexander von Humboldt Foundation",
      "type": "Organization"
     }
    ],
    "identifiers": [
     {
      "type": "PropertyValue",
      "value": "Feodor Lynen Fellowship"
     }
    ],
    "type": "MonetaryGrant"
   },
   {
    "funders": [
     {
      "name": "Alfred P. Sloan Foundation",
      "type": "Organization"
     }
    ],
    "identifiers": [
     {
      "type": "PropertyValue",
      "value": "FG-2015-66057"
     }
    ],
    "type": "MonetaryGrant"
   },
   {
    "funders": [
     {
      "name": "Whitehall Foundation",
      "type": "Organization"
     }
    ],
    "identifiers": [
     {
      "type": "PropertyValue",
      "value": "2017-12-73"
     }
    ],
    "type": "MonetaryGrant"
   },
   {
    "funders": [
     {
      "name": "National Science Foundation",
      "type": "Organization"
     }
    ],
    "identifiers": [
     {
      "type": "PropertyValue",
      "value": "BCS-1736028"
     }
    ],
    "type": "MonetaryGrant"
   },
   {
    "funders": [
     {
      "name": "National Institutes of Health",
      "type": "Organization"
     }
    ],
    "identifiers": [
     {
      "type": "PropertyValue",
      "value": "R01GM134363-01"
     }
    ],
    "type": "MonetaryGrant"
   },
   {
    "funders": [
     {
      "name": "School of Medicine, UC San Diego",
      "type": "Organization"
     }
    ],
    "identifiers": [
     {
      "type": "PropertyValue",
      "value": "Shiley-Marcos Alzheimer's Disease Research Center"
     }
    ],
    "type": "MonetaryGrant"
   },
   {
    "funders": [
     {
      "name": "Halicioglu Data Science Institute Fellowship",
      "type": "Organization"
     }
    ],
    "identifiers": [],
    "type": "MonetaryGrant"
   }
  ],
  "genre": [
   "Research Article"
  ],
  "identifiers": [
   {
    "name": "publisher-id",
    "propertyID": "https://registry.identifiers.org/registry/publisher-id",
    "type": "PropertyValue",
    "value": 61277
   },
   {
    "name": "doi",
    "propertyID": "https://registry.identifiers.org/registry/doi",
    "type": "PropertyValue",
    "value": "10.7554/eLife.61277"
   },
   {
    "name": "elocation-id",
    "propertyID": "https://registry.identifiers.org/registry/elocation-id",
    "type": "PropertyValue",
    "value": "e61277"
   }
  ],
  "isPartOf": {
   "isPartOf": {
    "identifiers": [
     {
      "name": "nlm-ta",
      "propertyID": "https://registry.identifiers.org/registry/nlm-ta",
      "type": "PropertyValue",
      "value": "elife"
     },
     {
      "name": "publisher-id",
      "propertyID": "https://registry.identifiers.org/registry/publisher-id",
      "type": "PropertyValue",
      "value": "eLife"
     }
    ],
    "issns": [
     "2050-084X"
    ],
    "publisher": {
     "name": "eLife Sciences Publications, Ltd",
     "type": "Organization"
    },
    "title": "eLife",
    "type": "Periodical"
   },
   "type": "PublicationVolume",
   "volumeNumber": 9
  },
  "kernelspec": {
   "display_name": "Python 3",
   "language": "python",
   "name": "python3"
  },
  "keywords": [
   "neuronal timescales",
   "cortical gradients",
   "functional specialization",
   "transcriptomics",
   "spectral analysis",
   "Human",
   "Rhesus macaque"
  ],
  "language_info": {
   "codemirror_mode": {
    "name": "ipython",
    "version": 3
   },
   "file_extension": ".py",
   "mimetype": "text/x-python",
   "name": "python",
   "nbconvert_exporter": "python",
   "pygments_lexer": "ipython3",
   "version": "3.8.5"
  },
  "licenses": [
   {
    "content": [
     {
      "content": [
       "This article is distributed under the terms of the ",
       {
        "content": [
         "Creative Commons Attribution License"
        ],
        "target": "http://creativecommons.org/licenses/by/4.0/",
        "type": "Link"
       },
       ", which permits unrestricted use and redistribution provided that the original author and source are credited."
      ],
      "type": "Paragraph"
     }
    ],
    "type": "CreativeWork",
    "url": "http://creativecommons.org/licenses/by/4.0/"
   }
  ],
  "references": [
   {
    "authors": [
     {
      "familyNames": [
       "Alexander-Bloch"
      ],
      "givenNames": [
       "AF"
      ],
      "type": "Person"
     },
     {
      "familyNames": [
       "Shou"
      ],
      "givenNames": [
       "H"
      ],
      "type": "Person"
     },
     {
      "familyNames": [
       "Liu"
      ],
      "givenNames": [
       "S"
      ],
      "type": "Person"
     },
     {
      "familyNames": [
       "Satterthwaite"
      ],
      "givenNames": [
       "TD"
      ],
      "type": "Person"
     },
     {
      "familyNames": [
       "Glahn"
      ],
      "givenNames": [
       "DC"
      ],
      "type": "Person"
     },
     {
      "familyNames": [
       "Shinohara"
      ],
      "givenNames": [
       "RT"
      ],
      "type": "Person"
     },
     {
      "familyNames": [
       "Vandekar"
      ],
      "givenNames": [
       "SN"
      ],
      "type": "Person"
     },
     {
      "familyNames": [
       "Raznahan"
      ],
      "givenNames": [
       "A"
      ],
      "type": "Person"
     }
    ],
    "datePublished": {
     "type": "Date",
     "value": "2018"
    },
    "id": "bib1",
    "identifiers": [
     {
      "name": "doi",
      "propertyID": "https://registry.identifiers.org/registry/doi",
      "type": "PropertyValue",
      "value": "10.1016/j.neuroimage.2018.05.070"
     },
     {
      "name": "pmid",
      "propertyID": "https://registry.identifiers.org/registry/pmid",
      "type": "PropertyValue",
      "value": 29860082
     }
    ],
    "isPartOf": {
     "isPartOf": {
      "name": "NeuroImage",
      "type": "Periodical"
     },
     "type": "PublicationVolume",
     "volumeNumber": 178
    },
    "pageEnd": 551,
    "pageStart": 540,
    "title": "On testing for spatial correspondence between maps of human brain structure and function",
    "type": "Article"
   },
   {
    "authors": [
     {
      "familyNames": [
       "Badre"
      ],
      "givenNames": [
       "D"
      ],
      "type": "Person"
     },
     {
      "familyNames": [
       "D'Esposito"
      ],
      "givenNames": [
       "M"
      ],
      "type": "Person"
     }
    ],
    "datePublished": {
     "type": "Date",
     "value": "2009"
    },
    "id": "bib2",
    "identifiers": [
     {
      "name": "doi",
      "propertyID": "https://registry.identifiers.org/registry/doi",
      "type": "PropertyValue",
      "value": "10.1038/nrn2667"
     },
     {
      "name": "pmid",
      "propertyID": "https://registry.identifiers.org/registry/pmid",
      "type": "PropertyValue",
      "value": 19672274
     }
    ],
    "isPartOf": {
     "isPartOf": {
      "name": "Nature Reviews Neuroscience",
      "type": "Periodical"
     },
     "type": "PublicationVolume",
     "volumeNumber": 10
    },
    "pageEnd": 669,
    "pageStart": 659,
    "title": "Is the rostro-caudal Axis of the frontal lobe hierarchical?",
    "type": "Article"
   },
   {
    "authors": [
     {
      "familyNames": [
       "Baldassano"
      ],
      "givenNames": [
       "C"
      ],
      "type": "Person"
     },
     {
      "familyNames": [
       "Chen"
      ],
      "givenNames": [
       "J"
      ],
      "type": "Person"
     },
     {
      "familyNames": [
       "Zadbood"
      ],
      "givenNames": [
       "A"
      ],
      "type": "Person"
     },
     {
      "familyNames": [
       "Pillow"
      ],
      "givenNames": [
       "JW"
      ],
      "type": "Person"
     },
     {
      "familyNames": [
       "Hasson"
      ],
      "givenNames": [
       "U"
      ],
      "type": "Person"
     },
     {
      "familyNames": [
       "Norman"
      ],
      "givenNames": [
       "KA"
      ],
      "type": "Person"
     }
    ],
    "datePublished": {
     "type": "Date",
     "value": "2017"
    },
    "id": "bib3",
    "identifiers": [
     {
      "name": "doi",
      "propertyID": "https://registry.identifiers.org/registry/doi",
      "type": "PropertyValue",
      "value": "10.1016/j.neuron.2017.06.041"
     },
     {
      "name": "pmid",
      "propertyID": "https://registry.identifiers.org/registry/pmid",
      "type": "PropertyValue",
      "value": 28772125
     }
    ],
    "isPartOf": {
     "isPartOf": {
      "name": "Neuron",
      "type": "Periodical"
     },
     "type": "PublicationVolume",
     "volumeNumber": 95
    },
    "pageEnd": 721,
    "pageStart": 709,
    "title": "Discovering event structure in continuous narrative perception and memory",
    "type": "Article"
   },
   {
    "authors": [
     {
      "familyNames": [
       "Bauer"
      ],
      "givenNames": [
       "S"
      ],
      "type": "Person"
     },
     {
      "familyNames": [
       "Dessimoz"
      ],
      "givenNames": [
       "C"
      ],
      "type": "Person"
     },
     {
      "familyNames": [
       "Škunca"
      ],
      "givenNames": [
       "N"
      ],
      "type": "Person"
     }
    ],
    "datePublished": {
     "type": "Date",
     "value": "2017"
    },
    "id": "bib4",
    "identifiers": [
     {
      "name": "doi",
      "propertyID": "https://registry.identifiers.org/registry/doi",
      "type": "PropertyValue",
      "value": "10.1007/978-1-4939-3743-1"
     }
    ],
    "isPartOf": {
     "name": "The Gene Ontology Handbook",
     "type": "CreativeWork"
    },
    "pageEnd": 188,
    "pageStart": 175,
    "publisher": {
     "name": "Springer",
     "type": "Organization"
    },
    "title": "Gene-Category Analysis",
    "type": "Article"
   },
   {
    "authors": [
     {
      "familyNames": [
       "Bomkamp"
      ],
      "givenNames": [
       "C"
      ],
      "type": "Person"
     },
     {
      "familyNames": [
       "Tripathy"
      ],
      "givenNames": [
       "SJ"
      ],
      "type": "Person"
     },
     {
      "familyNames": [
       "Bengtsson",
       "Gonzales"
      ],
      "givenNames": [
       "C"
      ],
      "type": "Person"
     },
     {
      "familyNames": [
       "Hjerling-Leffler"
      ],
      "givenNames": [
       "J"
      ],
      "type": "Person"
     },
     {
      "familyNames": [
       "Craig"
      ],
      "givenNames": [
       "AM"
      ],
      "type": "Person"
     },
     {
      "familyNames": [
       "Pavlidis"
      ],
      "givenNames": [
       "P"
      ],
      "type": "Person"
     }
    ],
    "datePublished": {
     "type": "Date",
     "value": "2019"
    },
    "id": "bib5",
    "identifiers": [
     {
      "name": "doi",
      "propertyID": "https://registry.identifiers.org/registry/doi",
      "type": "PropertyValue",
      "value": "10.1371/journal.pcbi.1007113"
     },
     {
      "name": "pmid",
      "propertyID": "https://registry.identifiers.org/registry/pmid",
      "type": "PropertyValue",
      "value": 31211786
     }
    ],
    "isPartOf": {
     "isPartOf": {
      "name": "PLOS Computational Biology",
      "type": "Periodical"
     },
     "type": "PublicationVolume",
     "volumeNumber": 15
    },
    "title": "Transcriptomic correlates of electrophysiological and morphological diversity within and across excitatory and inhibitory neuron classes",
    "type": "Article"
   },
   {
    "authors": [
     {
      "familyNames": [
       "Breakspear"
      ],
      "givenNames": [
       "M"
      ],
      "type": "Person"
     }
    ],
    "datePublished": {
     "type": "Date",
     "value": "2017"
    },
    "id": "bib6",
    "identifiers": [
     {
      "name": "doi",
      "propertyID": "https://registry.identifiers.org/registry/doi",
      "type": "PropertyValue",
      "value": "10.1038/nn.4497"
     },
     {
      "name": "pmid",
      "propertyID": "https://registry.identifiers.org/registry/pmid",
      "type": "PropertyValue",
      "value": 28230845
     }
    ],
    "isPartOf": {
     "isPartOf": {
      "name": "Nature Neuroscience",
      "type": "Periodical"
     },
     "type": "PublicationVolume",
     "volumeNumber": 20
    },
    "pageEnd": 352,
    "pageStart": 340,
    "title": "Dynamic models of large-scale brain activity",
    "type": "Article"
   },
   {
    "authors": [
     {
      "familyNames": [
       "Brett"
      ],
      "givenNames": [
       "M"
      ],
      "type": "Person"
     },
     {
      "familyNames": [
       "Markiewicz"
      ],
      "givenNames": [
       "CJ"
      ],
      "type": "Person"
     },
     {
      "familyNames": [
       "Hanke"
      ],
      "givenNames": [
       "M"
      ],
      "type": "Person"
     },
     {
      "familyNames": [
       "Côté"
      ],
      "givenNames": [
       "M-A"
      ],
      "type": "Person"
     },
     {
      "familyNames": [
       "Cipollini"
      ],
      "givenNames": [
       "B"
      ],
      "type": "Person"
     },
     {
      "familyNames": [
       "McCarthy"
      ],
      "givenNames": [
       "P"
      ],
      "type": "Person"
     },
     {
      "familyNames": [
       "Jarecka"
      ],
      "givenNames": [
       "D"
      ],
      "type": "Person"
     },
     {
      "familyNames": [
       "Cheng"
      ],
      "givenNames": [
       "CP"
      ],
      "type": "Person"
     },
     {
      "familyNames": [
       "Halchenko"
      ],
      "givenNames": [
       "YO"
      ],
      "type": "Person"
     },
     {
      "familyNames": [
       "Cottaar"
      ],
      "givenNames": [
       "M"
      ],
      "type": "Person"
     },
     {
      "familyNames": [
       "Ghosh"
      ],
      "givenNames": [
       "S"
      ],
      "type": "Person"
     },
     {
      "familyNames": [
       "Larson"
      ],
      "givenNames": [
       "E"
      ],
      "type": "Person"
     },
     {
      "familyNames": [
       "Wassermann"
      ],
      "givenNames": [
       "D"
      ],
      "type": "Person"
     },
     {
      "familyNames": [
       "Gerhard"
      ],
      "givenNames": [
       "S"
      ],
      "type": "Person"
     },
     {
      "familyNames": [
       "Lee"
      ],
      "givenNames": [
       "GR"
      ],
      "type": "Person"
     },
     {
      "familyNames": [
       "Wang"
      ],
      "givenNames": [
       "H-T"
      ],
      "type": "Person"
     },
     {
      "familyNames": [
       "Kastman"
      ],
      "givenNames": [
       "E"
      ],
      "type": "Person"
     },
     {
      "familyNames": [
       "Kaczmarzyk"
      ],
      "givenNames": [
       "J"
      ],
      "type": "Person"
     },
     {
      "familyNames": [
       "Guidotti"
      ],
      "givenNames": [
       "R"
      ],
      "type": "Person"
     },
     {
      "familyNames": [
       "Duek"
      ],
      "givenNames": [
       "O"
      ],
      "type": "Person"
     },
     {
      "familyNames": [
       "Rokem"
      ],
      "givenNames": [
       "A"
      ],
      "type": "Person"
     },
     {
      "familyNames": [
       "Madison"
      ],
      "givenNames": [
       "C"
      ],
      "type": "Person"
     },
     {
      "familyNames": [
       "Morency"
      ],
      "givenNames": [
       "FC"
      ],
      "type": "Person"
     },
     {
      "familyNames": [
       "Moloney"
      ],
      "givenNames": [
       "B"
      ],
      "type": "Person"
     }
    ],
    "datePublished": {
     "type": "Date",
     "value": "2020"
    },
    "id": "bib7",
    "title": "Freecnipy/nibabel",
    "type": "Article",
    "url": "https://github.com/nipy/nibabel/tree/3.1.0"
   },
   {
    "authors": [
     {
      "familyNames": [
       "Brunel"
      ],
      "givenNames": [
       "N"
      ],
      "type": "Person"
     }
    ],
    "datePublished": {
     "type": "Date",
     "value": "2000"
    },
    "id": "bib8",
    "identifiers": [
     {
      "name": "doi",
      "propertyID": "https://registry.identifiers.org/registry/doi",
      "type": "PropertyValue",
      "value": "10.1023/a:1008925309027"
     },
     {
      "name": "pmid",
      "propertyID": "https://registry.identifiers.org/registry/pmid",
      "type": "PropertyValue",
      "value": 10809012
     }
    ],
    "isPartOf": {
     "isPartOf": {
      "name": "Journal of Computational Neuroscience",
      "type": "Periodical"
     },
     "type": "PublicationVolume",
     "volumeNumber": 8
    },
    "pageEnd": 208,
    "pageStart": 183,
    "title": "Dynamics of sparsely connected networks of excitatory and inhibitory spiking neurons",
    "type": "Article"
   },
   {
    "authors": [
     {
      "familyNames": [
       "Brunel"
      ],
      "givenNames": [
       "N"
      ],
      "type": "Person"
     },
     {
      "familyNames": [
       "Wang"
      ],
      "givenNames": [
       "XJ"
      ],
      "type": "Person"
     }
    ],
    "datePublished": {
     "type": "Date",
     "value": "2003"
    },
    "id": "bib9",
    "identifiers": [
     {
      "name": "doi",
      "propertyID": "https://registry.identifiers.org/registry/doi",
      "type": "PropertyValue",
      "value": "10.1152/jn.01095.2002"
     },
     {
      "name": "pmid",
      "propertyID": "https://registry.identifiers.org/registry/pmid",
      "type": "PropertyValue",
      "value": 12611969
     }
    ],
    "isPartOf": {
     "isPartOf": {
      "name": "Journal of Neurophysiology",
      "type": "Periodical"
     },
     "type": "PublicationVolume",
     "volumeNumber": 90
    },
    "pageEnd": 430,
    "pageStart": 415,
    "title": "What determines the frequency of fast network oscillations with irregular neural discharges? I. synaptic dynamics and excitation-inhibition balance",
    "type": "Article"
   },
   {
    "authors": [
     {
      "familyNames": [
       "Burt"
      ],
      "givenNames": [
       "JB"
      ],
      "type": "Person"
     },
     {
      "familyNames": [
       "Demirtaş"
      ],
      "givenNames": [
       "M"
      ],
      "type": "Person"
     },
     {
      "familyNames": [
       "Eckner"
      ],
      "givenNames": [
       "WJ"
      ],
      "type": "Person"
     },
     {
      "familyNames": [
       "Navejar"
      ],
      "givenNames": [
       "NM"
      ],
      "type": "Person"
     },
     {
      "familyNames": [
       "Ji"
      ],
      "givenNames": [
       "JL"
      ],
      "type": "Person"
     },
     {
      "familyNames": [
       "Martin"
      ],
      "givenNames": [
       "WJ"
      ],
      "type": "Person"
     },
     {
      "familyNames": [
       "Bernacchia"
      ],
      "givenNames": [
       "A"
      ],
      "type": "Person"
     },
     {
      "familyNames": [
       "Anticevic"
      ],
      "givenNames": [
       "A"
      ],
      "type": "Person"
     },
     {
      "familyNames": [
       "Murray"
      ],
      "givenNames": [
       "JD"
      ],
      "type": "Person"
     }
    ],
    "datePublished": {
     "type": "Date",
     "value": "2018"
    },
    "id": "bib10",
    "identifiers": [
     {
      "name": "doi",
      "propertyID": "https://registry.identifiers.org/registry/doi",
      "type": "PropertyValue",
      "value": "10.1038/s41593-018-0195-0"
     },
     {
      "name": "pmid",
      "propertyID": "https://registry.identifiers.org/registry/pmid",
      "type": "PropertyValue",
      "value": 30082915
     }
    ],
    "isPartOf": {
     "isPartOf": {
      "name": "Nature Neuroscience",
      "type": "Periodical"
     },
     "type": "PublicationVolume",
     "volumeNumber": 21
    },
    "pageEnd": 1259,
    "pageStart": 1251,
    "title": "Hierarchy of transcriptomic specialization across human cortex captured by structural neuroimaging topography",
    "type": "Article"
   },
   {
    "authors": [
     {
      "familyNames": [
       "Burt"
      ],
      "givenNames": [
       "JB"
      ],
      "type": "Person"
     },
     {
      "familyNames": [
       "Helmer"
      ],
      "givenNames": [
       "M"
      ],
      "type": "Person"
     },
     {
      "familyNames": [
       "Shinn"
      ],
      "givenNames": [
       "M"
      ],
      "type": "Person"
     },
     {
      "familyNames": [
       "Anticevic"
      ],
      "givenNames": [
       "A"
      ],
      "type": "Person"
     },
     {
      "familyNames": [
       "Murray"
      ],
      "givenNames": [
       "JD"
      ],
      "type": "Person"
     }
    ],
    "datePublished": {
     "type": "Date",
     "value": "2020"
    },
    "id": "bib11",
    "identifiers": [
     {
      "name": "doi",
      "propertyID": "https://registry.identifiers.org/registry/doi",
      "type": "PropertyValue",
      "value": "10.1101/2020.02.18.955054"
     }
    ],
    "isPartOf": {
     "name": "bioRxiv",
     "type": "Periodical"
    },
    "title": "Generative modeling of brain maps with spatial autocorrelation",
    "type": "Article"
   },
   {
    "authors": [
     {
      "familyNames": [
       "Buzsáki"
      ],
      "givenNames": [
       "G"
      ],
      "type": "Person"
     },
     {
      "familyNames": [
       "Anastassiou"
      ],
      "givenNames": [
       "CA"
      ],
      "type": "Person"
     },
     {
      "familyNames": [
       "Koch"
      ],
      "givenNames": [
       "C"
      ],
      "type": "Person"
     }
    ],
    "datePublished": {
     "type": "Date",
     "value": "2012"
    },
    "id": "bib12",
    "identifiers": [
     {
      "name": "doi",
      "propertyID": "https://registry.identifiers.org/registry/doi",
      "type": "PropertyValue",
      "value": "10.1038/nrn3241"
     },
     {
      "name": "pmid",
      "propertyID": "https://registry.identifiers.org/registry/pmid",
      "type": "PropertyValue",
      "value": 22595786
     }
    ],
    "isPartOf": {
     "isPartOf": {
      "name": "Nature Reviews Neuroscience",
      "type": "Periodical"
     },
     "type": "PublicationVolume",
     "volumeNumber": 13
    },
    "pageEnd": 420,
    "pageStart": 407,
    "title": "The origin of extracellular fields and currents--EEG, ECoG, LFP and spikes",
    "type": "Article"
   },
   {
    "authors": [
     {
      "familyNames": [
       "Chaudhuri"
      ],
      "givenNames": [
       "R"
      ],
      "type": "Person"
     },
     {
      "familyNames": [
       "Knoblauch"
      ],
      "givenNames": [
       "K"
      ],
      "type": "Person"
     },
     {
      "familyNames": [
       "Gariel"
      ],
      "givenNames": [
       "MA"
      ],
      "type": "Person"
     },
     {
      "familyNames": [
       "Kennedy"
      ],
      "givenNames": [
       "H"
      ],
      "type": "Person"
     },
     {
      "familyNames": [
       "Wang"
      ],
      "givenNames": [
       "XJ"
      ],
      "type": "Person"
     }
    ],
    "datePublished": {
     "type": "Date",
     "value": "2015"
    },
    "id": "bib13",
    "identifiers": [
     {
      "name": "doi",
      "propertyID": "https://registry.identifiers.org/registry/doi",
      "type": "PropertyValue",
      "value": "10.1016/j.neuron.2015.09.008"
     },
     {
      "name": "pmid",
      "propertyID": "https://registry.identifiers.org/registry/pmid",
      "type": "PropertyValue",
      "value": 26439530
     }
    ],
    "isPartOf": {
     "isPartOf": {
      "name": "Neuron",
      "type": "Periodical"
     },
     "type": "PublicationVolume",
     "volumeNumber": 88
    },
    "pageEnd": 431,
    "pageStart": 419,
    "title": "A Large-Scale circuit mechanism for hierarchical dynamical processing in the primate cortex",
    "type": "Article"
   },
   {
    "authors": [
     {
      "familyNames": [
       "Chaudhuri"
      ],
      "givenNames": [
       "R"
      ],
      "type": "Person"
     },
     {
      "familyNames": [
       "Bj"
      ],
      "givenNames": [
       "H"
      ],
      "type": "Person"
     },
     {
      "familyNames": [
       "Wang"
      ],
      "givenNames": [
       "X-J"
      ],
      "type": "Person"
     }
    ],
    "datePublished": {
     "type": "Date",
     "value": "2017"
    },
    "id": "bib14",
    "identifiers": [
     {
      "name": "doi",
      "propertyID": "https://registry.identifiers.org/registry/doi",
      "type": "PropertyValue",
      "value": "10.1093/cercor/bhx233"
     }
    ],
    "isPartOf": {
     "isPartOf": {
      "name": "Cerebral Cortex",
      "type": "Periodical"
     },
     "type": "PublicationVolume",
     "volumeNumber": 8
    },
    "pageEnd": 13,
    "pageStart": 1,
    "title": "Random recurrent networks near criticality capture the broadband power distribution of human ECoG dynamics",
    "type": "Article"
   },
   {
    "authors": [
     {
      "familyNames": [
       "Chien"
      ],
      "givenNames": [
       "H-YS"
      ],
      "type": "Person"
     },
     {
      "familyNames": [
       "Honey"
      ],
      "givenNames": [
       "CJ"
      ],
      "type": "Person"
     }
    ],
    "datePublished": {
     "type": "Date",
     "value": "2020"
    },
    "id": "bib15",
    "identifiers": [
     {
      "name": "doi",
      "propertyID": "https://registry.identifiers.org/registry/doi",
      "type": "PropertyValue",
      "value": "10.1016/j.neuron.2020.02.013"
     }
    ],
    "isPartOf": {
     "isPartOf": {
      "name": "Neuron",
      "type": "Periodical"
     },
     "type": "PublicationVolume",
     "volumeNumber": 106
    },
    "pageEnd": 686,
    "pageStart": 675,
    "title": "Constructing and Forgetting Temporal Context in the Human Cerebral Cortex",
    "type": "Article"
   },
   {
    "authors": [
     {
      "familyNames": [
       "Cole"
      ],
      "givenNames": [
       "S"
      ],
      "type": "Person"
     },
     {
      "familyNames": [
       "Donoghue"
      ],
      "givenNames": [
       "T"
      ],
      "type": "Person"
     },
     {
      "familyNames": [
       "Gao"
      ],
      "givenNames": [
       "R"
      ],
      "type": "Person"
     },
     {
      "familyNames": [
       "Voytek"
      ],
      "givenNames": [
       "B"
      ],
      "type": "Person"
     }
    ],
    "datePublished": {
     "type": "Date",
     "value": "2019"
    },
    "id": "bib16",
    "identifiers": [
     {
      "name": "doi",
      "propertyID": "https://registry.identifiers.org/registry/doi",
      "type": "PropertyValue",
      "value": "10.21105/joss.01272"
     }
    ],
    "isPartOf": {
     "isPartOf": {
      "name": "Journal of Open Source Software",
      "type": "Periodical"
     },
     "type": "PublicationVolume",
     "volumeNumber": 4
    },
    "title": "NeuroDSP: a package for neural digital signal processing",
    "type": "Article"
   },
   {
    "authors": [
     {
      "familyNames": [
       "Davis"
      ],
      "givenNames": [
       "SW"
      ],
      "type": "Person"
     },
     {
      "familyNames": [
       "Dennis"
      ],
      "givenNames": [
       "NA"
      ],
      "type": "Person"
     },
     {
      "familyNames": [
       "Daselaar"
      ],
      "givenNames": [
       "SM"
      ],
      "type": "Person"
     },
     {
      "familyNames": [
       "Fleck"
      ],
      "givenNames": [
       "MS"
      ],
      "type": "Person"
     },
     {
      "familyNames": [
       "Cabeza"
      ],
      "givenNames": [
       "R"
      ],
      "type": "Person"
     }
    ],
    "datePublished": {
     "type": "Date",
     "value": "2008"
    },
    "id": "bib17",
    "identifiers": [
     {
      "name": "doi",
      "propertyID": "https://registry.identifiers.org/registry/doi",
      "type": "PropertyValue",
      "value": "10.1093/cercor/bhm155"
     }
    ],
    "isPartOf": {
     "isPartOf": {
      "name": "Cerebral Cortex",
      "type": "Periodical"
     },
     "type": "PublicationVolume",
     "volumeNumber": 18
    },
    "pageEnd": 1209,
    "pageStart": 1201,
    "title": "Que PASA? The Posterior-Anterior Shift in Aging",
    "type": "Article"
   },
   {
    "authors": [
     {
      "familyNames": [
       "de",
       "Villers-Sidani"
      ],
      "givenNames": [
       "E"
      ],
      "type": "Person"
     },
     {
      "familyNames": [
       "Alzghoul"
      ],
      "givenNames": [
       "L"
      ],
      "type": "Person"
     },
     {
      "familyNames": [
       "Zhou"
      ],
      "givenNames": [
       "X"
      ],
      "type": "Person"
     },
     {
      "familyNames": [
       "Simpson"
      ],
      "givenNames": [
       "KL"
      ],
      "type": "Person"
     },
     {
      "familyNames": [
       "Lin"
      ],
      "givenNames": [
       "RCS"
      ],
      "type": "Person"
     },
     {
      "familyNames": [
       "Merzenich"
      ],
      "givenNames": [
       "MM"
      ],
      "type": "Person"
     }
    ],
    "datePublished": {
     "type": "Date",
     "value": "2010"
    },
    "id": "bib18",
    "identifiers": [
     {
      "name": "doi",
      "propertyID": "https://registry.identifiers.org/registry/doi",
      "type": "PropertyValue",
      "value": "10.1073/pnas.1007885107"
     }
    ],
    "isPartOf": {
     "isPartOf": {
      "name": "PNAS",
      "type": "Periodical"
     },
     "type": "PublicationVolume",
     "volumeNumber": 107
    },
    "pageEnd": 13905,
    "pageStart": 13900,
    "title": "Recovery of functional and structural age-related changes in the rat primary auditory cortex with operant training",
    "type": "Article"
   },
   {
    "authors": [
     {
      "familyNames": [
       "Demirtaş"
      ],
      "givenNames": [
       "M"
      ],
      "type": "Person"
     },
     {
      "familyNames": [
       "Burt"
      ],
      "givenNames": [
       "JB"
      ],
      "type": "Person"
     },
     {
      "familyNames": [
       "Helmer"
      ],
      "givenNames": [
       "M"
      ],
      "type": "Person"
     },
     {
      "familyNames": [
       "Ji"
      ],
      "givenNames": [
       "JL"
      ],
      "type": "Person"
     },
     {
      "familyNames": [
       "Adkinson"
      ],
      "givenNames": [
       "BD"
      ],
      "type": "Person"
     },
     {
      "familyNames": [
       "Glasser"
      ],
      "givenNames": [
       "MF"
      ],
      "type": "Person"
     },
     {
      "familyNames": [
       "Van",
       "Essen"
      ],
      "givenNames": [
       "DC"
      ],
      "type": "Person"
     },
     {
      "familyNames": [
       "Sotiropoulos"
      ],
      "givenNames": [
       "SN"
      ],
      "type": "Person"
     },
     {
      "familyNames": [
       "Anticevic"
      ],
      "givenNames": [
       "A"
      ],
      "type": "Person"
     },
     {
      "familyNames": [
       "Murray"
      ],
      "givenNames": [
       "JD"
      ],
      "type": "Person"
     }
    ],
    "datePublished": {
     "type": "Date",
     "value": "2019"
    },
    "id": "bib19",
    "identifiers": [
     {
      "name": "doi",
      "propertyID": "https://registry.identifiers.org/registry/doi",
      "type": "PropertyValue",
      "value": "10.1016/j.neuron.2019.01.017"
     },
     {
      "name": "pmid",
      "propertyID": "https://registry.identifiers.org/registry/pmid",
      "type": "PropertyValue",
      "value": 30744986
     }
    ],
    "isPartOf": {
     "isPartOf": {
      "name": "Neuron",
      "type": "Periodical"
     },
     "type": "PublicationVolume",
     "volumeNumber": 101
    },
    "pageEnd": 1194,
    "pageStart": 1181,
    "title": "Hierarchical heterogeneity across human cortex shapes Large-Scale neural dynamics",
    "type": "Article"
   },
   {
    "authors": [
     {
      "familyNames": [
       "Donoghue"
      ],
      "givenNames": [
       "T"
      ],
      "type": "Person"
     },
     {
      "familyNames": [
       "Haller"
      ],
      "givenNames": [
       "M"
      ],
      "type": "Person"
     },
     {
      "familyNames": [
       "Peterson"
      ],
      "givenNames": [
       "EJ"
      ],
      "type": "Person"
     },
     {
      "familyNames": [
       "Varma"
      ],
      "givenNames": [
       "P"
      ],
      "type": "Person"
     },
     {
      "familyNames": [
       "Sebastian"
      ],
      "givenNames": [
       "P"
      ],
      "type": "Person"
     },
     {
      "familyNames": [
       "Gao"
      ],
      "givenNames": [
       "R"
      ],
      "type": "Person"
     },
     {
      "familyNames": [
       "Noto"
      ],
      "givenNames": [
       "T"
      ],
      "type": "Person"
     },
     {
      "familyNames": [
       "Lara"
      ],
      "givenNames": [
       "AH"
      ],
      "type": "Person"
     },
     {
      "familyNames": [
       "Wallis"
      ],
      "givenNames": [
       "JD"
      ],
      "type": "Person"
     },
     {
      "familyNames": [
       "Knight"
      ],
      "givenNames": [
       "RT"
      ],
      "type": "Person"
     },
     {
      "familyNames": [
       "Shestyuk"
      ],
      "givenNames": [
       "A"
      ],
      "type": "Person"
     },
     {
      "familyNames": [
       "Voytek"
      ],
      "givenNames": [
       "B"
      ],
      "type": "Person"
     }
    ],
    "datePublished": {
     "type": "Date",
     "value": "2020"
    },
    "id": "bib20",
    "identifiers": [
     {
      "name": "doi",
      "propertyID": "https://registry.identifiers.org/registry/doi",
      "type": "PropertyValue",
      "value": "10.1038/s41593-020-00744-x"
     },
     {
      "name": "pmid",
      "propertyID": "https://registry.identifiers.org/registry/pmid",
      "type": "PropertyValue",
      "value": 33230329
     }
    ],
    "isPartOf": {
     "isPartOf": {
      "name": "Nature Neuroscience",
      "type": "Periodical"
     },
     "type": "PublicationVolume",
     "volumeNumber": 23
    },
    "pageEnd": 1665,
    "pageStart": 1655,
    "title": "Parameterizing neural power spectra into periodic and aperiodic components",
    "type": "Article"
   },
   {
    "authors": [
     {
      "familyNames": [
       "Dotson"
      ],
      "givenNames": [
       "NM"
      ],
      "type": "Person"
     },
     {
      "familyNames": [
       "Hoffman"
      ],
      "givenNames": [
       "SJ"
      ],
      "type": "Person"
     },
     {
      "familyNames": [
       "Goodell"
      ],
      "givenNames": [
       "B"
      ],
      "type": "Person"
     },
     {
      "familyNames": [
       "Gray"
      ],
      "givenNames": [
       "CM"
      ],
      "type": "Person"
     }
    ],
    "datePublished": {
     "type": "Date",
     "value": "2018"
    },
    "id": "bib21",
    "identifiers": [
     {
      "name": "doi",
      "propertyID": "https://registry.identifiers.org/registry/doi",
      "type": "PropertyValue",
      "value": "10.1016/j.neuron.2018.05.026"
     }
    ],
    "isPartOf": {
     "isPartOf": {
      "name": "Neuron",
      "type": "Periodical"
     },
     "type": "PublicationVolume",
     "volumeNumber": 99
    },
    "pageEnd": 226,
    "pageStart": 215,
    "title": "Feature-Based Visual Short-Term Memory Is Widely Distributed and Hierarchically Organized",
    "type": "Article"
   },
   {
    "authors": [
     {
      "familyNames": [
       "Duarte"
      ],
      "givenNames": [
       "R"
      ],
      "type": "Person"
     },
     {
      "familyNames": [
       "Seeholzer"
      ],
      "givenNames": [
       "A"
      ],
      "type": "Person"
     },
     {
      "familyNames": [
       "Zilles"
      ],
      "givenNames": [
       "K"
      ],
      "type": "Person"
     },
     {
      "familyNames": [
       "Morrison"
      ],
      "givenNames": [
       "A"
      ],
      "type": "Person"
     }
    ],
    "datePublished": {
     "type": "Date",
     "value": "2017"
    },
    "id": "bib22",
    "identifiers": [
     {
      "name": "doi",
      "propertyID": "https://registry.identifiers.org/registry/doi",
      "type": "PropertyValue",
      "value": "10.1016/j.conb.2017.02.007"
     }
    ],
    "isPartOf": {
     "isPartOf": {
      "name": "Current Opinion in Neurobiology",
      "type": "Periodical"
     },
     "type": "PublicationVolume",
     "volumeNumber": 43
    },
    "pageEnd": 165,
    "pageStart": 156,
    "title": "Synaptic patterning and the timescales of cortical dynamics",
    "type": "Article"
   },
   {
    "authors": [
     {
      "familyNames": [
       "Duarte"
      ],
      "givenNames": [
       "R"
      ],
      "type": "Person"
     },
     {
      "familyNames": [
       "Morrison"
      ],
      "givenNames": [
       "A"
      ],
      "type": "Person"
     }
    ],
    "datePublished": {
     "type": "Date",
     "value": "2019"
    },
    "id": "bib23",
    "identifiers": [
     {
      "name": "doi",
      "propertyID": "https://registry.identifiers.org/registry/doi",
      "type": "PropertyValue",
      "value": "10.1371/journal.pcbi.1006781"
     }
    ],
    "isPartOf": {
     "isPartOf": {
      "name": "PLOS Computational Biology",
      "type": "Periodical"
     },
     "type": "PublicationVolume",
     "volumeNumber": 15
    },
    "title": "Leveraging heterogeneity for neural computation with fading memory in layer 2/3 cortical microcircuits",
    "type": "Article"
   },
   {
    "authors": [
     {
      "familyNames": [
       "Eyre"
      ],
      "givenNames": [
       "MD"
      ],
      "type": "Person"
     },
     {
      "familyNames": [
       "Renzi"
      ],
      "givenNames": [
       "M"
      ],
      "type": "Person"
     },
     {
      "familyNames": [
       "Farrant"
      ],
      "givenNames": [
       "M"
      ],
      "type": "Person"
     },
     {
      "familyNames": [
       "Nusser"
      ],
      "givenNames": [
       "Z"
      ],
      "type": "Person"
     }
    ],
    "datePublished": {
     "type": "Date",
     "value": "2012"
    },
    "id": "bib24",
    "identifiers": [
     {
      "name": "doi",
      "propertyID": "https://registry.identifiers.org/registry/doi",
      "type": "PropertyValue",
      "value": "10.1523/JNEUROSCI.6495-11.2012"
     },
     {
      "name": "pmid",
      "propertyID": "https://registry.identifiers.org/registry/pmid",
      "type": "PropertyValue",
      "value": 22539847
     }
    ],
    "isPartOf": {
     "isPartOf": {
      "name": "Journal of Neuroscience",
      "type": "Periodical"
     },
     "type": "PublicationVolume",
     "volumeNumber": 32
    },
    "pageEnd": 5867,
    "pageStart": 5853,
    "title": "Setting the time course of inhibitory synaptic currents by mixing multiple GABA(A) receptor α subunit isoforms",
    "type": "Article"
   },
   {
    "authors": [
     {
      "familyNames": [
       "Fagerberg"
      ],
      "givenNames": [
       "L"
      ],
      "type": "Person"
     },
     {
      "familyNames": [
       "Hallström"
      ],
      "givenNames": [
       "BM"
      ],
      "type": "Person"
     },
     {
      "familyNames": [
       "Oksvold"
      ],
      "givenNames": [
       "P"
      ],
      "type": "Person"
     },
     {
      "familyNames": [
       "Kampf"
      ],
      "givenNames": [
       "C"
      ],
      "type": "Person"
     },
     {
      "familyNames": [
       "Djureinovic"
      ],
      "givenNames": [
       "D"
      ],
      "type": "Person"
     },
     {
      "familyNames": [
       "Odeberg"
      ],
      "givenNames": [
       "J"
      ],
      "type": "Person"
     },
     {
      "familyNames": [
       "Habuka"
      ],
      "givenNames": [
       "M"
      ],
      "type": "Person"
     },
     {
      "familyNames": [
       "Tahmasebpoor"
      ],
      "givenNames": [
       "S"
      ],
      "type": "Person"
     },
     {
      "familyNames": [
       "Danielsson"
      ],
      "givenNames": [
       "A"
      ],
      "type": "Person"
     },
     {
      "familyNames": [
       "Edlund"
      ],
      "givenNames": [
       "K"
      ],
      "type": "Person"
     },
     {
      "familyNames": [
       "Asplund"
      ],
      "givenNames": [
       "A"
      ],
      "type": "Person"
     },
     {
      "familyNames": [
       "Sjöstedt"
      ],
      "givenNames": [
       "E"
      ],
      "type": "Person"
     },
     {
      "familyNames": [
       "Lundberg"
      ],
      "givenNames": [
       "E"
      ],
      "type": "Person"
     },
     {
      "familyNames": [
       "Szigyarto"
      ],
      "givenNames": [
       "CA-K"
      ],
      "type": "Person"
     },
     {
      "familyNames": [
       "Skogs"
      ],
      "givenNames": [
       "M"
      ],
      "type": "Person"
     },
     {
      "familyNames": [
       "Takanen"
      ],
      "givenNames": [
       "JO"
      ],
      "type": "Person"
     },
     {
      "familyNames": [
       "Berling"
      ],
      "givenNames": [
       "H"
      ],
      "type": "Person"
     },
     {
      "familyNames": [
       "Tegel"
      ],
      "givenNames": [
       "H"
      ],
      "type": "Person"
     },
     {
      "familyNames": [
       "Mulder"
      ],
      "givenNames": [
       "J"
      ],
      "type": "Person"
     },
     {
      "familyNames": [
       "Nilsson"
      ],
      "givenNames": [
       "P"
      ],
      "type": "Person"
     },
     {
      "familyNames": [
       "Schwenk"
      ],
      "givenNames": [
       "JM"
      ],
      "type": "Person"
     },
     {
      "familyNames": [
       "Lindskog"
      ],
      "givenNames": [
       "C"
      ],
      "type": "Person"
     },
     {
      "familyNames": [
       "Danielsson"
      ],
      "givenNames": [
       "F"
      ],
      "type": "Person"
     },
     {
      "familyNames": [
       "Mardinoglu"
      ],
      "givenNames": [
       "A"
      ],
      "type": "Person"
     },
     {
      "familyNames": [
       "Sivertsson"
      ],
      "givenNames": [
       "Åsa"
      ],
      "type": "Person"
     },
     {
      "familyNames": [
       "von",
       "Feilitzen"
      ],
      "givenNames": [
       "K"
      ],
      "type": "Person"
     },
     {
      "familyNames": [
       "Forsberg"
      ],
      "givenNames": [
       "M"
      ],
      "type": "Person"
     },
     {
      "familyNames": [
       "Zwahlen"
      ],
      "givenNames": [
       "M"
      ],
      "type": "Person"
     },
     {
      "familyNames": [
       "Olsson"
      ],
      "givenNames": [
       "I"
      ],
      "type": "Person"
     },
     {
      "familyNames": [
       "Navani"
      ],
      "givenNames": [
       "S"
      ],
      "type": "Person"
     },
     {
      "familyNames": [
       "Huss"
      ],
      "givenNames": [
       "M"
      ],
      "type": "Person"
     },
     {
      "familyNames": [
       "Nielsen"
      ],
      "givenNames": [
       "J"
      ],
      "type": "Person"
     },
     {
      "familyNames": [
       "Ponten"
      ],
      "givenNames": [
       "F"
      ],
      "type": "Person"
     },
     {
      "familyNames": [
       "Uhlén"
      ],
      "givenNames": [
       "M"
      ],
      "type": "Person"
     }
    ],
    "datePublished": {
     "type": "Date",
     "value": "2014"
    },
    "id": "bib25",
    "identifiers": [
     {
      "name": "doi",
      "propertyID": "https://registry.identifiers.org/registry/doi",
      "type": "PropertyValue",
      "value": "10.1074/mcp.M113.035600"
     }
    ],
    "isPartOf": {
     "isPartOf": {
      "name": "Molecular & Cellular Proteomics",
      "type": "Periodical"
     },
     "type": "PublicationVolume",
     "volumeNumber": 13
    },
    "pageEnd": 406,
    "pageStart": 397,
    "title": "Analysis of the human Tissue-specific expression by Genome-wide integration of transcriptomics and Antibody-based proteomics",
    "type": "Article"
   },
   {
    "authors": [
     {
      "familyNames": [
       "Felleman"
      ],
      "givenNames": [
       "DJ"
      ],
      "type": "Person"
     },
     {
      "familyNames": [
       "Van",
       "Essen"
      ],
      "givenNames": [
       "DC"
      ],
      "type": "Person"
     }
    ],
    "datePublished": {
     "type": "Date",
     "value": "1991"
    },
    "id": "bib26",
    "identifiers": [
     {
      "name": "doi",
      "propertyID": "https://registry.identifiers.org/registry/doi",
      "type": "PropertyValue",
      "value": "10.1093/cercor/1.1.1"
     },
     {
      "name": "pmid",
      "propertyID": "https://registry.identifiers.org/registry/pmid",
      "type": "PropertyValue",
      "value": 1822724
     }
    ],
    "isPartOf": {
     "isPartOf": {
      "name": "Cerebral Cortex",
      "type": "Periodical"
     },
     "type": "PublicationVolume",
     "volumeNumber": 1
    },
    "pageEnd": 47,
    "pageStart": 1,
    "title": "Distributed hierarchical processing in the primate cerebral cortex",
    "type": "Article"
   },
   {
    "authors": [
     {
      "familyNames": [
       "Flint"
      ],
      "givenNames": [
       "AC"
      ],
      "type": "Person"
     },
     {
      "familyNames": [
       "Maisch"
      ],
      "givenNames": [
       "US"
      ],
      "type": "Person"
     },
     {
      "familyNames": [
       "Weishaupt"
      ],
      "givenNames": [
       "JH"
      ],
      "type": "Person"
     },
     {
      "familyNames": [
       "Kriegstein"
      ],
      "givenNames": [
       "AR"
      ],
      "type": "Person"
     },
     {
      "familyNames": [
       "Monyer"
      ],
      "givenNames": [
       "H"
      ],
      "type": "Person"
     }
    ],
    "datePublished": {
     "type": "Date",
     "value": "1997"
    },
    "id": "bib27",
    "identifiers": [
     {
      "name": "doi",
      "propertyID": "https://registry.identifiers.org/registry/doi",
      "type": "PropertyValue",
      "value": "10.1523/JNEUROSCI.17-07-02469.1997"
     }
    ],
    "isPartOf": {
     "isPartOf": {
      "name": "The Journal of Neuroscience",
      "type": "Periodical"
     },
     "type": "PublicationVolume",
     "volumeNumber": 17
    },
    "pageEnd": 2476,
    "pageStart": 2469,
    "title": "NR2A Subunit Expression Shortens NMDA Receptor Synaptic Currents in Developing Neocortex",
    "type": "Article"
   },
   {
    "authors": [
     {
      "familyNames": [
       "Fornito"
      ],
      "givenNames": [
       "A"
      ],
      "type": "Person"
     },
     {
      "familyNames": [
       "Arnatkevičiūtė"
      ],
      "givenNames": [
       "A"
      ],
      "type": "Person"
     },
     {
      "familyNames": [
       "Fulcher"
      ],
      "givenNames": [
       "BD"
      ],
      "type": "Person"
     }
    ],
    "datePublished": {
     "type": "Date",
     "value": "2019"
    },
    "id": "bib28",
    "identifiers": [
     {
      "name": "doi",
      "propertyID": "https://registry.identifiers.org/registry/doi",
      "type": "PropertyValue",
      "value": "10.1016/j.tics.2018.10.005"
     }
    ],
    "isPartOf": {
     "isPartOf": {
      "name": "Trends in Cognitive Sciences",
      "type": "Periodical"
     },
     "type": "PublicationVolume",
     "volumeNumber": 23
    },
    "pageEnd": 50,
    "pageStart": 34,
    "title": "Bridging the Gap between Connectome and Transcriptome",
    "type": "Article"
   },
   {
    "authors": [
     {
      "familyNames": [
       "Frauscher"
      ],
      "givenNames": [
       "B"
      ],
      "type": "Person"
     },
     {
      "familyNames": [
       "von",
       "Ellenrieder"
      ],
      "givenNames": [
       "N"
      ],
      "type": "Person"
     },
     {
      "familyNames": [
       "Zelmann"
      ],
      "givenNames": [
       "R"
      ],
      "type": "Person"
     },
     {
      "familyNames": [
       "Doležalová"
      ],
      "givenNames": [
       "I"
      ],
      "type": "Person"
     },
     {
      "familyNames": [
       "Minotti"
      ],
      "givenNames": [
       "L"
      ],
      "type": "Person"
     },
     {
      "familyNames": [
       "Olivier"
      ],
      "givenNames": [
       "A"
      ],
      "type": "Person"
     },
     {
      "familyNames": [
       "Hall"
      ],
      "givenNames": [
       "J"
      ],
      "type": "Person"
     },
     {
      "familyNames": [
       "Hoffmann"
      ],
      "givenNames": [
       "D"
      ],
      "type": "Person"
     },
     {
      "familyNames": [
       "Nguyen"
      ],
      "givenNames": [
       "DK"
      ],
      "type": "Person"
     },
     {
      "familyNames": [
       "Kahane"
      ],
      "givenNames": [
       "P"
      ],
      "type": "Person"
     },
     {
      "familyNames": [
       "Dubeau"
      ],
      "givenNames": [
       "F"
      ],
      "type": "Person"
     },
     {
      "familyNames": [
       "Gotman"
      ],
      "givenNames": [
       "J"
      ],
      "type": "Person"
     }
    ],
    "datePublished": {
     "type": "Date",
     "value": "2018"
    },
    "id": "bib29",
    "identifiers": [
     {
      "name": "doi",
      "propertyID": "https://registry.identifiers.org/registry/doi",
      "type": "PropertyValue",
      "value": "10.1093/brain/awy035"
     }
    ],
    "isPartOf": {
     "isPartOf": {
      "name": "Brain",
      "type": "Periodical"
     },
     "type": "PublicationVolume",
     "volumeNumber": 141
    },
    "pageEnd": 1144,
    "pageStart": 1130,
    "title": "Atlas of the normal intracranial electroencephalogram: neurophysiological awake activity in different cortical areas",
    "type": "Article"
   },
   {
    "authors": [
     {
      "familyNames": [
       "Frauscher"
      ],
      "givenNames": [
       "B"
      ],
      "type": "Person"
     },
     {
      "familyNames": [
       "von",
       "Ellenrieder"
      ],
      "givenNames": [
       "N"
      ],
      "type": "Person"
     },
     {
      "familyNames": [
       "Zelmann"
      ],
      "givenNames": [
       "R"
      ],
      "type": "Person"
     },
     {
      "familyNames": [
       "Rogers"
      ],
      "givenNames": [
       "C"
      ],
      "type": "Person"
     },
     {
      "familyNames": [
       "Nguyen"
      ],
      "givenNames": [
       "DK"
      ],
      "type": "Person"
     },
     {
      "familyNames": [
       "Kahane"
      ],
      "givenNames": [
       "P"
      ],
      "type": "Person"
     },
     {
      "familyNames": [
       "Dubeau"
      ],
      "givenNames": [
       "F"
      ],
      "type": "Person"
     },
     {
      "familyNames": [
       "Gotman"
      ],
      "givenNames": [
       "J"
      ],
      "type": "Person"
     }
    ],
    "datePublished": {
     "type": "Date",
     "value": "2018"
    },
    "id": "bib30",
    "identifiers": [
     {
      "name": "doi",
      "propertyID": "https://registry.identifiers.org/registry/doi",
      "type": "PropertyValue",
      "value": "10.1002/ana.25304"
     }
    ],
    "isPartOf": {
     "isPartOf": {
      "name": "Annals of Neurology",
      "type": "Periodical"
     },
     "type": "PublicationVolume",
     "volumeNumber": 84
    },
    "pageEnd": 385,
    "pageStart": 374,
    "title": "High-Frequency Oscillations in the Normal Human Brain",
    "type": "Article"
   },
   {
    "authors": [
     {
      "familyNames": [
       "Freeman"
      ],
      "givenNames": [
       "WJ"
      ],
      "type": "Person"
     }
    ],
    "datePublished": {
     "type": "Date",
     "value": "2000"
    },
    "id": "bib31",
    "identifiers": [
     {
      "name": "doi",
      "propertyID": "https://registry.identifiers.org/registry/doi",
      "type": "PropertyValue",
      "value": "10.1016/S0928-4257(00)01090-1"
     }
    ],
    "isPartOf": {
     "isPartOf": {
      "name": "Journal of Physiology-Paris",
      "type": "Periodical"
     },
     "type": "PublicationVolume",
     "volumeNumber": 94
    },
    "pageEnd": 322,
    "pageStart": 303,
    "title": "Mesoscopic neurodynamics: From neuron to brain",
    "type": "Article"
   },
   {
    "authors": [
     {
      "familyNames": [
       "Freeman"
      ],
      "givenNames": [
       "W"
      ],
      "type": "Person"
     },
     {
      "familyNames": [
       "Erwin"
      ],
      "givenNames": [
       "H"
      ],
      "type": "Person"
     }
    ],
    "datePublished": {
     "type": "Date",
     "value": "2008"
    },
    "id": "bib32",
    "identifiers": [
     {
      "name": "doi",
      "propertyID": "https://registry.identifiers.org/registry/doi",
      "type": "PropertyValue",
      "value": "10.4249/scholarpedia.3238"
     }
    ],
    "isPartOf": {
     "isPartOf": {
      "name": "Scholarpedia",
      "type": "Periodical"
     },
     "type": "PublicationVolume",
     "volumeNumber": 3
    },
    "title": "Freeman K-set",
    "type": "Article"
   },
   {
    "authors": [
     {
      "familyNames": [
       "Ganupuru"
      ],
      "givenNames": [
       "P"
      ],
      "type": "Person"
     },
     {
      "familyNames": [
       "Goldring"
      ],
      "givenNames": [
       "AB"
      ],
      "type": "Person"
     },
     {
      "familyNames": [
       "Harun"
      ],
      "givenNames": [
       "R"
      ],
      "type": "Person"
     },
     {
      "familyNames": [
       "Hanks"
      ],
      "givenNames": [
       "TD"
      ],
      "type": "Person"
     }
    ],
    "datePublished": {
     "type": "Date",
     "value": "2019"
    },
    "id": "bib33",
    "identifiers": [
     {
      "name": "doi",
      "propertyID": "https://registry.identifiers.org/registry/doi",
      "type": "PropertyValue",
      "value": "10.1016/j.cub.2019.05.037"
     }
    ],
    "isPartOf": {
     "isPartOf": {
      "name": "Current Biology",
      "type": "Periodical"
     },
     "type": "PublicationVolume",
     "volumeNumber": 29
    },
    "pageEnd": 2097,
    "pageStart": 2091,
    "title": "Flexibility of Timescales of Evidence Evaluation for Decision Making",
    "type": "Article"
   },
   {
    "authors": [
     {
      "familyNames": [
       "Gao"
      ],
      "givenNames": [
       "R"
      ],
      "type": "Person"
     },
     {
      "familyNames": [
       "Peterson"
      ],
      "givenNames": [
       "EJ"
      ],
      "type": "Person"
     },
     {
      "familyNames": [
       "Voytek"
      ],
      "givenNames": [
       "B"
      ],
      "type": "Person"
     }
    ],
    "datePublished": {
     "type": "Date",
     "value": "2017"
    },
    "id": "bib34",
    "identifiers": [
     {
      "name": "doi",
      "propertyID": "https://registry.identifiers.org/registry/doi",
      "type": "PropertyValue",
      "value": "10.1016/j.neuroimage.2017.06.078"
     }
    ],
    "isPartOf": {
     "isPartOf": {
      "name": "NeuroImage",
      "type": "Periodical"
     },
     "type": "PublicationVolume",
     "volumeNumber": 158
    },
    "pageEnd": 78,
    "pageStart": 70,
    "title": "Inferring synaptic excitation/inhibition balance from field potentials",
    "type": "Article"
   },
   {
    "authors": [
     {
      "familyNames": [
       "Gao"
      ],
      "givenNames": [
       "R"
      ],
      "type": "Person"
     }
    ],
    "datePublished": {
     "type": "Date",
     "value": "2020"
    },
    "id": "bib35",
    "title": "Timescales Project Code",
    "type": "Article",
    "url": "https://doi.org/10.5281/zenodo.4362645"
   },
   {
    "authors": [
     {
      "familyNames": [
       "Genovese"
      ],
      "givenNames": [
       "G"
      ],
      "type": "Person"
     },
     {
      "familyNames": [
       "Fromer"
      ],
      "givenNames": [
       "M"
      ],
      "type": "Person"
     },
     {
      "familyNames": [
       "Stahl"
      ],
      "givenNames": [
       "EA"
      ],
      "type": "Person"
     },
     {
      "familyNames": [
       "Ruderfer"
      ],
      "givenNames": [
       "DM"
      ],
      "type": "Person"
     },
     {
      "familyNames": [
       "Chambert"
      ],
      "givenNames": [
       "K"
      ],
      "type": "Person"
     },
     {
      "familyNames": [
       "Landén"
      ],
      "givenNames": [
       "M"
      ],
      "type": "Person"
     },
     {
      "familyNames": [
       "Moran"
      ],
      "givenNames": [
       "JL"
      ],
      "type": "Person"
     },
     {
      "familyNames": [
       "Purcell"
      ],
      "givenNames": [
       "SM"
      ],
      "type": "Person"
     },
     {
      "familyNames": [
       "Sklar"
      ],
      "givenNames": [
       "P"
      ],
      "type": "Person"
     },
     {
      "familyNames": [
       "Sullivan"
      ],
      "givenNames": [
       "PF"
      ],
      "type": "Person"
     },
     {
      "familyNames": [
       "Hultman"
      ],
      "givenNames": [
       "CM"
      ],
      "type": "Person"
     },
     {
      "familyNames": [
       "McCarroll"
      ],
      "givenNames": [
       "SA"
      ],
      "type": "Person"
     }
    ],
    "datePublished": {
     "type": "Date",
     "value": "2016"
    },
    "id": "bib36",
    "identifiers": [
     {
      "name": "doi",
      "propertyID": "https://registry.identifiers.org/registry/doi",
      "type": "PropertyValue",
      "value": "10.1038/nn.4402"
     }
    ],
    "isPartOf": {
     "isPartOf": {
      "name": "Nature Neuroscience",
      "type": "Periodical"
     },
     "type": "PublicationVolume",
     "volumeNumber": 19
    },
    "pageEnd": 1441,
    "pageStart": 1433,
    "title": "Increased burden of ultra-rare protein-altering variants among 4,877 individuals with schizophrenia",
    "type": "Article"
   },
   {
    "authors": [
     {
      "familyNames": [
       "Gjorgjieva"
      ],
      "givenNames": [
       "J"
      ],
      "type": "Person"
     },
     {
      "familyNames": [
       "Drion"
      ],
      "givenNames": [
       "G"
      ],
      "type": "Person"
     },
     {
      "familyNames": [
       "Marder"
      ],
      "givenNames": [
       "E"
      ],
      "type": "Person"
     }
    ],
    "datePublished": {
     "type": "Date",
     "value": "2016"
    },
    "id": "bib37",
    "identifiers": [
     {
      "name": "doi",
      "propertyID": "https://registry.identifiers.org/registry/doi",
      "type": "PropertyValue",
      "value": "10.1016/j.conb.2015.12.008"
     }
    ],
    "isPartOf": {
     "isPartOf": {
      "name": "Current Opinion in Neurobiology",
      "type": "Periodical"
     },
     "type": "PublicationVolume",
     "volumeNumber": 37
    },
    "pageEnd": 52,
    "pageStart": 44,
    "title": "Computational implications of biophysical diversity and multiple timescales in neurons and synapses for circuit performance",
    "type": "Article"
   },
   {
    "authors": [
     {
      "familyNames": [
       "Glasser"
      ],
      "givenNames": [
       "MF"
      ],
      "type": "Person"
     },
     {
      "familyNames": [
       "Coalson"
      ],
      "givenNames": [
       "TS"
      ],
      "type": "Person"
     },
     {
      "familyNames": [
       "Robinson"
      ],
      "givenNames": [
       "EC"
      ],
      "type": "Person"
     },
     {
      "familyNames": [
       "Hacker"
      ],
      "givenNames": [
       "CD"
      ],
      "type": "Person"
     },
     {
      "familyNames": [
       "Harwell"
      ],
      "givenNames": [
       "J"
      ],
      "type": "Person"
     },
     {
      "familyNames": [
       "Yacoub"
      ],
      "givenNames": [
       "E"
      ],
      "type": "Person"
     },
     {
      "familyNames": [
       "Ugurbil"
      ],
      "givenNames": [
       "K"
      ],
      "type": "Person"
     },
     {
      "familyNames": [
       "Andersson"
      ],
      "givenNames": [
       "J"
      ],
      "type": "Person"
     },
     {
      "familyNames": [
       "Beckmann"
      ],
      "givenNames": [
       "CF"
      ],
      "type": "Person"
     },
     {
      "familyNames": [
       "Jenkinson"
      ],
      "givenNames": [
       "M"
      ],
      "type": "Person"
     },
     {
      "familyNames": [
       "Smith"
      ],
      "givenNames": [
       "SM"
      ],
      "type": "Person"
     },
     {
      "familyNames": [
       "Van",
       "Essen"
      ],
      "givenNames": [
       "DC"
      ],
      "type": "Person"
     }
    ],
    "datePublished": {
     "type": "Date",
     "value": "2016"
    },
    "id": "bib38",
    "identifiers": [
     {
      "name": "doi",
      "propertyID": "https://registry.identifiers.org/registry/doi",
      "type": "PropertyValue",
      "value": "10.1038/nature18933"
     }
    ],
    "isPartOf": {
     "isPartOf": {
      "name": "Nature",
      "type": "Periodical"
     },
     "type": "PublicationVolume",
     "volumeNumber": 536
    },
    "pageEnd": 178,
    "pageStart": 171,
    "title": "A multi-modal parcellation of human cerebral cortex",
    "type": "Article"
   },
   {
    "authors": [
     {
      "familyNames": [
       "Glasser"
      ],
      "givenNames": [
       "MF"
      ],
      "type": "Person"
     },
     {
      "familyNames": [
       "Van",
       "Essen"
      ],
      "givenNames": [
       "DC"
      ],
      "type": "Person"
     }
    ],
    "datePublished": {
     "type": "Date",
     "value": "2011"
    },
    "id": "bib39",
    "identifiers": [
     {
      "name": "doi",
      "propertyID": "https://registry.identifiers.org/registry/doi",
      "type": "PropertyValue",
      "value": "10.1523/JNEUROSCI.2180-11.2011"
     }
    ],
    "isPartOf": {
     "isPartOf": {
      "name": "Journal of Neuroscience",
      "type": "Periodical"
     },
     "type": "PublicationVolume",
     "volumeNumber": 31
    },
    "pageEnd": 11616,
    "pageStart": 11597,
    "title": "Mapping Human Cortical Areas In Vivo Based on Myelin Content as Revealed by T1- and T2-Weighted MRI",
    "type": "Article"
   },
   {
    "authors": [
     {
      "familyNames": [
       "Gold"
      ],
      "givenNames": [
       "JI"
      ],
      "type": "Person"
     },
     {
      "familyNames": [
       "Shadlen"
      ],
      "givenNames": [
       "MN"
      ],
      "type": "Person"
     }
    ],
    "datePublished": {
     "type": "Date",
     "value": "2007"
    },
    "id": "bib40",
    "identifiers": [
     {
      "name": "doi",
      "propertyID": "https://registry.identifiers.org/registry/doi",
      "type": "PropertyValue",
      "value": "10.1146/annurev.neuro.29.051605.113038"
     }
    ],
    "isPartOf": {
     "isPartOf": {
      "name": "Annual Review of Neuroscience",
      "type": "Periodical"
     },
     "type": "PublicationVolume",
     "volumeNumber": 30
    },
    "pageEnd": 574,
    "pageStart": 535,
    "title": "The Neural Basis of Decision Making",
    "type": "Article"
   },
   {
    "authors": [
     {
      "familyNames": [
       "Goulas"
      ],
      "givenNames": [
       "A"
      ],
      "type": "Person"
     },
     {
      "familyNames": [
       "Changeux"
      ],
      "givenNames": [
       "J-P"
      ],
      "type": "Person"
     },
     {
      "familyNames": [
       "Wagstyl"
      ],
      "givenNames": [
       "K"
      ],
      "type": "Person"
     },
     {
      "familyNames": [
       "Amunts"
      ],
      "givenNames": [
       "K"
      ],
      "type": "Person"
     },
     {
      "familyNames": [
       "Palomero-Gallagher"
      ],
      "givenNames": [
       "N"
      ],
      "type": "Person"
     },
     {
      "familyNames": [
       "Hilgetag"
      ],
      "givenNames": [
       "CC"
      ],
      "type": "Person"
     }
    ],
    "datePublished": {
     "type": "Date",
     "value": "2020"
    },
    "id": "bib41",
    "identifiers": [
     {
      "name": "doi",
      "propertyID": "https://registry.identifiers.org/registry/doi",
      "type": "PropertyValue",
      "value": "10.1101/2020.09.28.316646"
     }
    ],
    "isPartOf": {
     "name": "bioRxiv",
     "type": "Periodical"
    },
    "title": "The natural Axis of transmitter receptor distribution in the human cerebral cortex",
    "type": "Article"
   },
   {
    "authors": [
     {
      "familyNames": [
       "Gryglewski"
      ],
      "givenNames": [
       "G"
      ],
      "type": "Person"
     },
     {
      "familyNames": [
       "Seiger"
      ],
      "givenNames": [
       "R"
      ],
      "type": "Person"
     },
     {
      "familyNames": [
       "James"
      ],
      "givenNames": [
       "GM"
      ],
      "type": "Person"
     },
     {
      "familyNames": [
       "Godbersen"
      ],
      "givenNames": [
       "GM"
      ],
      "type": "Person"
     },
     {
      "familyNames": [
       "Komorowski"
      ],
      "givenNames": [
       "A"
      ],
      "type": "Person"
     },
     {
      "familyNames": [
       "Unterholzner"
      ],
      "givenNames": [
       "J"
      ],
      "type": "Person"
     },
     {
      "familyNames": [
       "Michenthaler"
      ],
      "givenNames": [
       "P"
      ],
      "type": "Person"
     },
     {
      "familyNames": [
       "Hahn"
      ],
      "givenNames": [
       "A"
      ],
      "type": "Person"
     },
     {
      "familyNames": [
       "Wadsak"
      ],
      "givenNames": [
       "W"
      ],
      "type": "Person"
     },
     {
      "familyNames": [
       "Mitterhauser"
      ],
      "givenNames": [
       "M"
      ],
      "type": "Person"
     },
     {
      "familyNames": [
       "Kasper"
      ],
      "givenNames": [
       "S"
      ],
      "type": "Person"
     },
     {
      "familyNames": [
       "Lanzenberger"
      ],
      "givenNames": [
       "R"
      ],
      "type": "Person"
     }
    ],
    "datePublished": {
     "type": "Date",
     "value": "2018"
    },
    "id": "bib42",
    "identifiers": [
     {
      "name": "doi",
      "propertyID": "https://registry.identifiers.org/registry/doi",
      "type": "PropertyValue",
      "value": "10.1016/j.neuroimage.2018.04.068"
     }
    ],
    "isPartOf": {
     "isPartOf": {
      "name": "NeuroImage",
      "type": "Periodical"
     },
     "type": "PublicationVolume",
     "volumeNumber": 176
    },
    "pageEnd": 267,
    "pageStart": 259,
    "title": "Spatial analysis and high resolution mapping of the human whole-brain transcriptome for integrative analysis in neuroimaging",
    "type": "Article"
   },
   {
    "authors": [
     {
      "familyNames": [
       "Hawrylycz"
      ],
      "givenNames": [
       "MJ"
      ],
      "type": "Person"
     },
     {
      "familyNames": [
       "Lein"
      ],
      "givenNames": [
       "ES"
      ],
      "type": "Person"
     },
     {
      "familyNames": [
       "Guillozet-Bongaarts"
      ],
      "givenNames": [
       "AL"
      ],
      "type": "Person"
     },
     {
      "familyNames": [
       "Shen"
      ],
      "givenNames": [
       "EH"
      ],
      "type": "Person"
     },
     {
      "familyNames": [
       "Ng"
      ],
      "givenNames": [
       "L"
      ],
      "type": "Person"
     },
     {
      "familyNames": [
       "Miller"
      ],
      "givenNames": [
       "JA"
      ],
      "type": "Person"
     },
     {
      "familyNames": [
       "van",
       "de",
       "Lagemaat"
      ],
      "givenNames": [
       "LN"
      ],
      "type": "Person"
     },
     {
      "familyNames": [
       "Smith"
      ],
      "givenNames": [
       "KA"
      ],
      "type": "Person"
     },
     {
      "familyNames": [
       "Ebbert"
      ],
      "givenNames": [
       "A"
      ],
      "type": "Person"
     },
     {
      "familyNames": [
       "Riley"
      ],
      "givenNames": [
       "ZL"
      ],
      "type": "Person"
     },
     {
      "familyNames": [
       "Abajian"
      ],
      "givenNames": [
       "C"
      ],
      "type": "Person"
     },
     {
      "familyNames": [
       "Beckmann"
      ],
      "givenNames": [
       "CF"
      ],
      "type": "Person"
     },
     {
      "familyNames": [
       "Bernard"
      ],
      "givenNames": [
       "A"
      ],
      "type": "Person"
     },
     {
      "familyNames": [
       "Bertagnolli"
      ],
      "givenNames": [
       "D"
      ],
      "type": "Person"
     },
     {
      "familyNames": [
       "Boe"
      ],
      "givenNames": [
       "AF"
      ],
      "type": "Person"
     },
     {
      "familyNames": [
       "Cartagena"
      ],
      "givenNames": [
       "PM"
      ],
      "type": "Person"
     },
     {
      "familyNames": [
       "Chakravarty"
      ],
      "givenNames": [
       "MM"
      ],
      "type": "Person"
     },
     {
      "familyNames": [
       "Chapin"
      ],
      "givenNames": [
       "M"
      ],
      "type": "Person"
     },
     {
      "familyNames": [
       "Chong"
      ],
      "givenNames": [
       "J"
      ],
      "type": "Person"
     },
     {
      "familyNames": [
       "Dalley"
      ],
      "givenNames": [
       "RA"
      ],
      "type": "Person"
     },
     {
      "familyNames": [
       "Daly"
      ],
      "givenNames": [
       "BD"
      ],
      "type": "Person"
     },
     {
      "familyNames": [
       "Dang"
      ],
      "givenNames": [
       "C"
      ],
      "type": "Person"
     },
     {
      "familyNames": [
       "Datta"
      ],
      "givenNames": [
       "S"
      ],
      "type": "Person"
     },
     {
      "familyNames": [
       "Dee"
      ],
      "givenNames": [
       "N"
      ],
      "type": "Person"
     },
     {
      "familyNames": [
       "Dolbeare"
      ],
      "givenNames": [
       "TA"
      ],
      "type": "Person"
     },
     {
      "familyNames": [
       "Faber"
      ],
      "givenNames": [
       "V"
      ],
      "type": "Person"
     },
     {
      "familyNames": [
       "Feng"
      ],
      "givenNames": [
       "D"
      ],
      "type": "Person"
     },
     {
      "familyNames": [
       "Fowler"
      ],
      "givenNames": [
       "DR"
      ],
      "type": "Person"
     },
     {
      "familyNames": [
       "Goldy"
      ],
      "givenNames": [
       "J"
      ],
      "type": "Person"
     },
     {
      "familyNames": [
       "Gregor"
      ],
      "givenNames": [
       "BW"
      ],
      "type": "Person"
     },
     {
      "familyNames": [
       "Haradon"
      ],
      "givenNames": [
       "Z"
      ],
      "type": "Person"
     },
     {
      "familyNames": [
       "Haynor"
      ],
      "givenNames": [
       "DR"
      ],
      "type": "Person"
     },
     {
      "familyNames": [
       "Hohmann"
      ],
      "givenNames": [
       "JG"
      ],
      "type": "Person"
     },
     {
      "familyNames": [
       "Horvath"
      ],
      "givenNames": [
       "S"
      ],
      "type": "Person"
     },
     {
      "familyNames": [
       "Howard"
      ],
      "givenNames": [
       "RE"
      ],
      "type": "Person"
     },
     {
      "familyNames": [
       "Jeromin"
      ],
      "givenNames": [
       "A"
      ],
      "type": "Person"
     },
     {
      "familyNames": [
       "Jochim"
      ],
      "givenNames": [
       "JM"
      ],
      "type": "Person"
     },
     {
      "familyNames": [
       "Kinnunen"
      ],
      "givenNames": [
       "M"
      ],
      "type": "Person"
     },
     {
      "familyNames": [
       "Lau"
      ],
      "givenNames": [
       "C"
      ],
      "type": "Person"
     },
     {
      "familyNames": [
       "Lazarz"
      ],
      "givenNames": [
       "ET"
      ],
      "type": "Person"
     },
     {
      "familyNames": [
       "Lee"
      ],
      "givenNames": [
       "C"
      ],
      "type": "Person"
     },
     {
      "familyNames": [
       "Lemon"
      ],
      "givenNames": [
       "TA"
      ],
      "type": "Person"
     },
     {
      "familyNames": [
       "Li"
      ],
      "givenNames": [
       "L"
      ],
      "type": "Person"
     },
     {
      "familyNames": [
       "Li"
      ],
      "givenNames": [
       "Y"
      ],
      "type": "Person"
     },
     {
      "familyNames": [
       "Morris"
      ],
      "givenNames": [
       "JA"
      ],
      "type": "Person"
     },
     {
      "familyNames": [
       "Overly"
      ],
      "givenNames": [
       "CC"
      ],
      "type": "Person"
     },
     {
      "familyNames": [
       "Parker"
      ],
      "givenNames": [
       "PD"
      ],
      "type": "Person"
     },
     {
      "familyNames": [
       "Parry"
      ],
      "givenNames": [
       "SE"
      ],
      "type": "Person"
     },
     {
      "familyNames": [
       "Reding"
      ],
      "givenNames": [
       "M"
      ],
      "type": "Person"
     },
     {
      "familyNames": [
       "Royall"
      ],
      "givenNames": [
       "JJ"
      ],
      "type": "Person"
     },
     {
      "familyNames": [
       "Schulkin"
      ],
      "givenNames": [
       "J"
      ],
      "type": "Person"
     },
     {
      "familyNames": [
       "Sequeira"
      ],
      "givenNames": [
       "PA"
      ],
      "type": "Person"
     },
     {
      "familyNames": [
       "Slaughterbeck"
      ],
      "givenNames": [
       "CR"
      ],
      "type": "Person"
     },
     {
      "familyNames": [
       "Smith"
      ],
      "givenNames": [
       "SC"
      ],
      "type": "Person"
     },
     {
      "familyNames": [
       "Sodt"
      ],
      "givenNames": [
       "AJ"
      ],
      "type": "Person"
     },
     {
      "familyNames": [
       "Sunkin"
      ],
      "givenNames": [
       "SM"
      ],
      "type": "Person"
     },
     {
      "familyNames": [
       "Swanson"
      ],
      "givenNames": [
       "BE"
      ],
      "type": "Person"
     },
     {
      "familyNames": [
       "Vawter"
      ],
      "givenNames": [
       "MP"
      ],
      "type": "Person"
     },
     {
      "familyNames": [
       "Williams"
      ],
      "givenNames": [
       "D"
      ],
      "type": "Person"
     },
     {
      "familyNames": [
       "Wohnoutka"
      ],
      "givenNames": [
       "P"
      ],
      "type": "Person"
     },
     {
      "familyNames": [
       "Zielke"
      ],
      "givenNames": [
       "HR"
      ],
      "type": "Person"
     },
     {
      "familyNames": [
       "Geschwind"
      ],
      "givenNames": [
       "DH"
      ],
      "type": "Person"
     },
     {
      "familyNames": [
       "Hof"
      ],
      "givenNames": [
       "PR"
      ],
      "type": "Person"
     },
     {
      "familyNames": [
       "Smith"
      ],
      "givenNames": [
       "SM"
      ],
      "type": "Person"
     },
     {
      "familyNames": [
       "Koch"
      ],
      "givenNames": [
       "C"
      ],
      "type": "Person"
     },
     {
      "familyNames": [
       "Grant"
      ],
      "givenNames": [
       "SGN"
      ],
      "type": "Person"
     },
     {
      "familyNames": [
       "Jones"
      ],
      "givenNames": [
       "AR"
      ],
      "type": "Person"
     }
    ],
    "datePublished": {
     "type": "Date",
     "value": "2012"
    },
    "id": "bib43",
    "identifiers": [
     {
      "name": "doi",
      "propertyID": "https://registry.identifiers.org/registry/doi",
      "type": "PropertyValue",
      "value": "10.1038/nature11405"
     }
    ],
    "isPartOf": {
     "isPartOf": {
      "name": "Nature",
      "type": "Periodical"
     },
     "type": "PublicationVolume",
     "volumeNumber": 489
    },
    "pageEnd": 399,
    "pageStart": 391,
    "title": "An anatomically comprehensive atlas of the adult human brain transcriptome",
    "type": "Article"
   },
   {
    "authors": [
     {
      "familyNames": [
       "Hawrylycz"
      ],
      "givenNames": [
       "M"
      ],
      "type": "Person"
     },
     {
      "familyNames": [
       "Miller"
      ],
      "givenNames": [
       "JA"
      ],
      "type": "Person"
     },
     {
      "familyNames": [
       "Menon"
      ],
      "givenNames": [
       "V"
      ],
      "type": "Person"
     },
     {
      "familyNames": [
       "Feng"
      ],
      "givenNames": [
       "D"
      ],
      "type": "Person"
     },
     {
      "familyNames": [
       "Dolbeare"
      ],
      "givenNames": [
       "T"
      ],
      "type": "Person"
     },
     {
      "familyNames": [
       "Guillozet-Bongaarts"
      ],
      "givenNames": [
       "AL"
      ],
      "type": "Person"
     },
     {
      "familyNames": [
       "Jegga"
      ],
      "givenNames": [
       "AG"
      ],
      "type": "Person"
     },
     {
      "familyNames": [
       "Aronow"
      ],
      "givenNames": [
       "BJ"
      ],
      "type": "Person"
     },
     {
      "familyNames": [
       "Lee"
      ],
      "givenNames": [
       "C-K"
      ],
      "type": "Person"
     },
     {
      "familyNames": [
       "Bernard"
      ],
      "givenNames": [
       "A"
      ],
      "type": "Person"
     },
     {
      "familyNames": [
       "Glasser"
      ],
      "givenNames": [
       "MF"
      ],
      "type": "Person"
     },
     {
      "familyNames": [
       "Dierker"
      ],
      "givenNames": [
       "DL"
      ],
      "type": "Person"
     },
     {
      "familyNames": [
       "Menche"
      ],
      "givenNames": [
       "J"
      ],
      "type": "Person"
     },
     {
      "familyNames": [
       "Szafer"
      ],
      "givenNames": [
       "A"
      ],
      "type": "Person"
     },
     {
      "familyNames": [
       "Collman"
      ],
      "givenNames": [
       "F"
      ],
      "type": "Person"
     },
     {
      "familyNames": [
       "Grange"
      ],
      "givenNames": [
       "P"
      ],
      "type": "Person"
     },
     {
      "familyNames": [
       "Berman"
      ],
      "givenNames": [
       "KA"
      ],
      "type": "Person"
     },
     {
      "familyNames": [
       "Mihalas"
      ],
      "givenNames": [
       "S"
      ],
      "type": "Person"
     },
     {
      "familyNames": [
       "Yao"
      ],
      "givenNames": [
       "Z"
      ],
      "type": "Person"
     },
     {
      "familyNames": [
       "Stewart"
      ],
      "givenNames": [
       "L"
      ],
      "type": "Person"
     },
     {
      "familyNames": [
       "Barabási"
      ],
      "givenNames": [
       "A-L"
      ],
      "type": "Person"
     },
     {
      "familyNames": [
       "Schulkin"
      ],
      "givenNames": [
       "J"
      ],
      "type": "Person"
     },
     {
      "familyNames": [
       "Phillips"
      ],
      "givenNames": [
       "J"
      ],
      "type": "Person"
     },
     {
      "familyNames": [
       "Ng"
      ],
      "givenNames": [
       "L"
      ],
      "type": "Person"
     },
     {
      "familyNames": [
       "Dang"
      ],
      "givenNames": [
       "C"
      ],
      "type": "Person"
     },
     {
      "familyNames": [
       "Haynor"
      ],
      "givenNames": [
       "DR"
      ],
      "type": "Person"
     },
     {
      "familyNames": [
       "Jones"
      ],
      "givenNames": [
       "A"
      ],
      "type": "Person"
     },
     {
      "familyNames": [
       "Van",
       "Essen"
      ],
      "givenNames": [
       "DC"
      ],
      "type": "Person"
     },
     {
      "familyNames": [
       "Koch"
      ],
      "givenNames": [
       "C"
      ],
      "type": "Person"
     },
     {
      "familyNames": [
       "Lein"
      ],
      "givenNames": [
       "E"
      ],
      "type": "Person"
     }
    ],
    "datePublished": {
     "type": "Date",
     "value": "2015"
    },
    "id": "bib44",
    "identifiers": [
     {
      "name": "doi",
      "propertyID": "https://registry.identifiers.org/registry/doi",
      "type": "PropertyValue",
      "value": "10.1038/nn.4171"
     }
    ],
    "isPartOf": {
     "isPartOf": {
      "name": "Nature Neuroscience",
      "type": "Periodical"
     },
     "type": "PublicationVolume",
     "volumeNumber": 18
    },
    "pageEnd": 1844,
    "pageStart": 1832,
    "title": "Canonical genetic signatures of the adult human brain",
    "type": "Article"
   },
   {
    "authors": [
     {
      "familyNames": [
       "He"
      ],
      "givenNames": [
       "BJ"
      ],
      "type": "Person"
     },
     {
      "familyNames": [
       "Zempel"
      ],
      "givenNames": [
       "JM"
      ],
      "type": "Person"
     },
     {
      "familyNames": [
       "Snyder"
      ],
      "givenNames": [
       "AZ"
      ],
      "type": "Person"
     },
     {
      "familyNames": [
       "Raichle"
      ],
      "givenNames": [
       "ME"
      ],
      "type": "Person"
     }
    ],
    "datePublished": {
     "type": "Date",
     "value": "2010"
    },
    "id": "bib45",
    "identifiers": [
     {
      "name": "doi",
      "propertyID": "https://registry.identifiers.org/registry/doi",
      "type": "PropertyValue",
      "value": "10.1016/j.neuron.2010.04.020"
     },
     {
      "name": "pmid",
      "propertyID": "https://registry.identifiers.org/registry/pmid",
      "type": "PropertyValue",
      "value": 20471349
     }
    ],
    "isPartOf": {
     "isPartOf": {
      "name": "Neuron",
      "type": "Periodical"
     },
     "type": "PublicationVolume",
     "volumeNumber": 66
    },
    "pageEnd": 369,
    "pageStart": 353,
    "title": "The temporal structures and functional significance of scale-free brain activity",
    "type": "Article"
   },
   {
    "authors": [
     {
      "familyNames": [
       "Hilgetag"
      ],
      "givenNames": [
       "CC"
      ],
      "type": "Person"
     },
     {
      "familyNames": [
       "Goulas"
      ],
      "givenNames": [
       "A"
      ],
      "type": "Person"
     }
    ],
    "datePublished": {
     "type": "Date",
     "value": "2020"
    },
    "id": "bib46",
    "identifiers": [
     {
      "name": "doi",
      "propertyID": "https://registry.identifiers.org/registry/doi",
      "type": "PropertyValue",
      "value": "10.1098/rstb.2019.0319"
     }
    ],
    "isPartOf": {
     "isPartOf": {
      "name": "Philosophical Transactions of the Royal Society B: Biological Sciences",
      "type": "Periodical"
     },
     "type": "PublicationVolume",
     "volumeNumber": 375
    },
    "title": "‘Hierarchy’ in the organization of brain networks",
    "type": "Article"
   },
   {
    "authors": [
     {
      "familyNames": [
       "Honey"
      ],
      "givenNames": [
       "CJ"
      ],
      "type": "Person"
     },
     {
      "familyNames": [
       "Thesen"
      ],
      "givenNames": [
       "T"
      ],
      "type": "Person"
     },
     {
      "familyNames": [
       "Donner"
      ],
      "givenNames": [
       "TH"
      ],
      "type": "Person"
     },
     {
      "familyNames": [
       "Silbert"
      ],
      "givenNames": [
       "LJ"
      ],
      "type": "Person"
     },
     {
      "familyNames": [
       "Carlson"
      ],
      "givenNames": [
       "CE"
      ],
      "type": "Person"
     },
     {
      "familyNames": [
       "Devinsky"
      ],
      "givenNames": [
       "O"
      ],
      "type": "Person"
     },
     {
      "familyNames": [
       "Doyle"
      ],
      "givenNames": [
       "WK"
      ],
      "type": "Person"
     },
     {
      "familyNames": [
       "Rubin"
      ],
      "givenNames": [
       "N"
      ],
      "type": "Person"
     },
     {
      "familyNames": [
       "Heeger"
      ],
      "givenNames": [
       "DJ"
      ],
      "type": "Person"
     },
     {
      "familyNames": [
       "Hasson"
      ],
      "givenNames": [
       "U"
      ],
      "type": "Person"
     }
    ],
    "datePublished": {
     "type": "Date",
     "value": "2012"
    },
    "id": "bib47",
    "identifiers": [
     {
      "name": "doi",
      "propertyID": "https://registry.identifiers.org/registry/doi",
      "type": "PropertyValue",
      "value": "10.1016/j.neuron.2012.08.011"
     }
    ],
    "isPartOf": {
     "isPartOf": {
      "name": "Neuron",
      "type": "Periodical"
     },
     "type": "PublicationVolume",
     "volumeNumber": 76
    },
    "pageEnd": 434,
    "pageStart": 423,
    "title": "Slow Cortical Dynamics and the Accumulation of Information over Long Timescales",
    "type": "Article"
   },
   {
    "authors": [
     {
      "familyNames": [
       "Huang"
      ],
      "givenNames": [
       "C"
      ],
      "type": "Person"
     },
     {
      "familyNames": [
       "Doiron"
      ],
      "givenNames": [
       "B"
      ],
      "type": "Person"
     }
    ],
    "datePublished": {
     "type": "Date",
     "value": "2017"
    },
    "id": "bib48",
    "identifiers": [
     {
      "name": "doi",
      "propertyID": "https://registry.identifiers.org/registry/doi",
      "type": "PropertyValue",
      "value": "10.1016/j.conb.2017.07.003"
     }
    ],
    "isPartOf": {
     "isPartOf": {
      "name": "Current Opinion in Neurobiology",
      "type": "Periodical"
     },
     "type": "PublicationVolume",
     "volumeNumber": 46
    },
    "pageEnd": 38,
    "pageStart": 31,
    "title": "Once upon a (slow) time in the land of recurrent neuronal networks",
    "type": "Article"
   },
   {
    "authors": [
     {
      "familyNames": [
       "Huntenburg"
      ],
      "givenNames": [
       "JM"
      ],
      "type": "Person"
     },
     {
      "familyNames": [
       "Bazin"
      ],
      "givenNames": [
       "P-L"
      ],
      "type": "Person"
     },
     {
      "familyNames": [
       "Margulies"
      ],
      "givenNames": [
       "DS"
      ],
      "type": "Person"
     }
    ],
    "datePublished": {
     "type": "Date",
     "value": "2018"
    },
    "id": "bib49",
    "identifiers": [
     {
      "name": "doi",
      "propertyID": "https://registry.identifiers.org/registry/doi",
      "type": "PropertyValue",
      "value": "10.1016/j.tics.2017.11.002"
     }
    ],
    "isPartOf": {
     "isPartOf": {
      "name": "Trends in Cognitive Sciences",
      "type": "Periodical"
     },
     "type": "PublicationVolume",
     "volumeNumber": 22
    },
    "pageEnd": 31,
    "pageStart": 21,
    "title": "Large-Scale Gradients in Human Cortical Organization",
    "type": "Article"
   },
   {
    "authors": [
     {
      "familyNames": [
       "Izhikevich"
      ],
      "givenNames": [
       "L"
      ],
      "type": "Person"
     },
     {
      "familyNames": [
       "Gao"
      ],
      "givenNames": [
       "R"
      ],
      "type": "Person"
     },
     {
      "familyNames": [
       "Peterson"
      ],
      "givenNames": [
       "E"
      ],
      "type": "Person"
     },
     {
      "familyNames": [
       "Voytek"
      ],
      "givenNames": [
       "B"
      ],
      "type": "Person"
     }
    ],
    "datePublished": {
     "type": "Date",
     "value": "2018"
    },
    "id": "bib50",
    "identifiers": [
     {
      "name": "doi",
      "propertyID": "https://registry.identifiers.org/registry/doi",
      "type": "PropertyValue",
      "value": "10.1101/441626"
     }
    ],
    "isPartOf": {
     "name": "bioRxiv",
     "type": "Periodical"
    },
    "title": "Measuring the average power of neural oscillations",
    "type": "Article"
   },
   {
    "authors": [
     {
      "familyNames": [
       "Johnson"
      ],
      "givenNames": [
       "EL"
      ],
      "type": "Person"
     },
     {
      "familyNames": [
       "Adams"
      ],
      "givenNames": [
       "JN"
      ],
      "type": "Person"
     },
     {
      "familyNames": [
       "Solbakk"
      ],
      "givenNames": [
       "A-K"
      ],
      "type": "Person"
     },
     {
      "familyNames": [
       "Endestad"
      ],
      "givenNames": [
       "T"
      ],
      "type": "Person"
     },
     {
      "familyNames": [
       "Larsson"
      ],
      "givenNames": [
       "PG"
      ],
      "type": "Person"
     },
     {
      "familyNames": [
       "Ivanovic"
      ],
      "givenNames": [
       "J"
      ],
      "type": "Person"
     },
     {
      "familyNames": [
       "Meling"
      ],
      "givenNames": [
       "TR"
      ],
      "type": "Person"
     },
     {
      "familyNames": [
       "Lin"
      ],
      "givenNames": [
       "JJ"
      ],
      "type": "Person"
     },
     {
      "familyNames": [
       "Knight"
      ],
      "givenNames": [
       "RT"
      ],
      "type": "Person"
     }
    ],
    "datePublished": {
     "type": "Date",
     "value": "2018"
    },
    "id": "bib51",
    "identifiers": [
     {
      "name": "doi",
      "propertyID": "https://registry.identifiers.org/registry/doi",
      "type": "PropertyValue",
      "value": "10.1371/journal.pbio.2004274"
     }
    ],
    "isPartOf": {
     "isPartOf": {
      "name": "PLOS Biology",
      "type": "Periodical"
     },
     "type": "PublicationVolume",
     "volumeNumber": 16
    },
    "title": "Dynamic frontotemporal systems process space and time in working memory",
    "type": "Article"
   },
   {
    "authors": [
     {
      "familyNames": [
       "Johnson"
      ],
      "givenNames": [
       "EL"
      ],
      "type": "Person"
     },
     {
      "familyNames": [
       "King-Stephens"
      ],
      "givenNames": [
       "D"
      ],
      "type": "Person"
     },
     {
      "familyNames": [
       "Weber"
      ],
      "givenNames": [
       "PB"
      ],
      "type": "Person"
     },
     {
      "familyNames": [
       "Laxer"
      ],
      "givenNames": [
       "KD"
      ],
      "type": "Person"
     },
     {
      "familyNames": [
       "Lin"
      ],
      "givenNames": [
       "JJ"
      ],
      "type": "Person"
     },
     {
      "familyNames": [
       "Knight"
      ],
      "givenNames": [
       "RT"
      ],
      "type": "Person"
     }
    ],
    "datePublished": {
     "type": "Date",
     "value": "2018"
    },
    "id": "bib52",
    "identifiers": [
     {
      "name": "doi",
      "propertyID": "https://registry.identifiers.org/registry/doi",
      "type": "PropertyValue",
      "value": "10.3389/fnsys.2018.00065"
     }
    ],
    "isPartOf": {
     "isPartOf": {
      "name": "Frontiers in Systems Neuroscience",
      "type": "Periodical"
     },
     "type": "PublicationVolume",
     "volumeNumber": 12
    },
    "title": "Spectral Imprints of Working Memory for Everyday Associations in the Frontoparietal Network",
    "type": "Article"
   },
   {
    "authors": [
     {
      "familyNames": [
       "Johnson"
      ],
      "givenNames": [
       "E"
      ],
      "type": "Person"
     }
    ],
    "datePublished": {
     "type": "Date",
     "value": "2018"
    },
    "id": "bib53",
    "identifiers": [
     {
      "name": "doi",
      "propertyID": "https://registry.identifiers.org/registry/doi",
      "type": "PropertyValue",
      "value": "10.6080/K06971S9"
     }
    ],
    "title": "Intracranial EEG recordings of medial temporal, lateral frontal, and orbitofrontal regions in 10 human adults performing a visuospatial working memory task",
    "type": "Article"
   },
   {
    "authors": [
     {
      "familyNames": [
       "Johnson"
      ],
      "givenNames": [
       "E"
      ],
      "type": "Person"
     }
    ],
    "datePublished": {
     "type": "Date",
     "value": "2019"
    },
    "id": "bib54",
    "identifiers": [
     {
      "name": "doi",
      "propertyID": "https://registry.identifiers.org/registry/doi",
      "type": "PropertyValue",
      "value": "10.6080/K0VX0DQD"
     }
    ],
    "title": "Intracranial EEG recordings of lateral frontal and parietal regions in 7 human adults performing a visuospatial working memory task",
    "type": "Article"
   },
   {
    "authors": [
     {
      "familyNames": [
       "Kanai"
      ],
      "givenNames": [
       "R"
      ],
      "type": "Person"
     },
     {
      "familyNames": [
       "Rees"
      ],
      "givenNames": [
       "G"
      ],
      "type": "Person"
     }
    ],
    "datePublished": {
     "type": "Date",
     "value": "2011"
    },
    "id": "bib55",
    "identifiers": [
     {
      "name": "doi",
      "propertyID": "https://registry.identifiers.org/registry/doi",
      "type": "PropertyValue",
      "value": "10.1038/nrn3000"
     },
     {
      "name": "pmid",
      "propertyID": "https://registry.identifiers.org/registry/pmid",
      "type": "PropertyValue",
      "value": 21407245
     }
    ],
    "isPartOf": {
     "isPartOf": {
      "name": "Nature Reviews Neuroscience",
      "type": "Periodical"
     },
     "type": "PublicationVolume",
     "volumeNumber": 12
    },
    "pageEnd": 242,
    "pageStart": 231,
    "title": "The structural basis of inter-individual differences in human behaviour and cognition",
    "type": "Article"
   },
   {
    "authors": [
     {
      "familyNames": [
       "Khintchine"
      ],
      "givenNames": [
       "A"
      ],
      "type": "Person"
     }
    ],
    "datePublished": {
     "type": "Date",
     "value": "1934"
    },
    "id": "bib56",
    "identifiers": [
     {
      "name": "doi",
      "propertyID": "https://registry.identifiers.org/registry/doi",
      "type": "PropertyValue",
      "value": "10.1007/BF01449156"
     }
    ],
    "isPartOf": {
     "isPartOf": {
      "name": "Mathematische Annalen",
      "type": "Periodical"
     },
     "type": "PublicationVolume",
     "volumeNumber": 109
    },
    "pageEnd": 615,
    "pageStart": 604,
    "title": "Korrelationstheorie der stationären stochastischen Prozesse",
    "type": "Article"
   },
   {
    "authors": [
     {
      "familyNames": [
       "Kiebel"
      ],
      "givenNames": [
       "SJ"
      ],
      "type": "Person"
     },
     {
      "familyNames": [
       "Daunizeau"
      ],
      "givenNames": [
       "J"
      ],
      "type": "Person"
     },
     {
      "familyNames": [
       "Friston"
      ],
      "givenNames": [
       "KJ"
      ],
      "type": "Person"
     }
    ],
    "datePublished": {
     "type": "Date",
     "value": "2008"
    },
    "id": "bib57",
    "identifiers": [
     {
      "name": "doi",
      "propertyID": "https://registry.identifiers.org/registry/doi",
      "type": "PropertyValue",
      "value": "10.1371/journal.pcbi.1000209"
     }
    ],
    "isPartOf": {
     "isPartOf": {
      "name": "PLOS Computational Biology",
      "type": "Periodical"
     },
     "type": "PublicationVolume",
     "volumeNumber": 4
    },
    "title": "A Hierarchy of Time-Scales and the Brain",
    "type": "Article"
   },
   {
    "authors": [
     {
      "familyNames": [
       "Klopfenstein"
      ],
      "givenNames": [
       "DV"
      ],
      "type": "Person"
     },
     {
      "familyNames": [
       "Zhang"
      ],
      "givenNames": [
       "L"
      ],
      "type": "Person"
     },
     {
      "familyNames": [
       "Pedersen"
      ],
      "givenNames": [
       "BS"
      ],
      "type": "Person"
     },
     {
      "familyNames": [
       "Ramírez"
      ],
      "givenNames": [
       "F"
      ],
      "type": "Person"
     },
     {
      "familyNames": [
       "Warwick",
       "Vesztrocy"
      ],
      "givenNames": [
       "A"
      ],
      "type": "Person"
     },
     {
      "familyNames": [
       "Naldi"
      ],
      "givenNames": [
       "A"
      ],
      "type": "Person"
     },
     {
      "familyNames": [
       "Mungall"
      ],
      "givenNames": [
       "CJ"
      ],
      "type": "Person"
     },
     {
      "familyNames": [
       "Yunes"
      ],
      "givenNames": [
       "JM"
      ],
      "type": "Person"
     },
     {
      "familyNames": [
       "Botvinnik"
      ],
      "givenNames": [
       "O"
      ],
      "type": "Person"
     },
     {
      "familyNames": [
       "Weigel"
      ],
      "givenNames": [
       "M"
      ],
      "type": "Person"
     },
     {
      "familyNames": [
       "Dampier"
      ],
      "givenNames": [
       "W"
      ],
      "type": "Person"
     },
     {
      "familyNames": [
       "Dessimoz"
      ],
      "givenNames": [
       "C"
      ],
      "type": "Person"
     },
     {
      "familyNames": [
       "Flick"
      ],
      "givenNames": [
       "P"
      ],
      "type": "Person"
     },
     {
      "familyNames": [
       "Tang"
      ],
      "givenNames": [
       "H"
      ],
      "type": "Person"
     }
    ],
    "datePublished": {
     "type": "Date",
     "value": "2018"
    },
    "id": "bib58",
    "identifiers": [
     {
      "name": "doi",
      "propertyID": "https://registry.identifiers.org/registry/doi",
      "type": "PropertyValue",
      "value": "10.1038/s41598-018-28948-z"
     }
    ],
    "isPartOf": {
     "isPartOf": {
      "name": "Scientific Reports",
      "type": "Periodical"
     },
     "type": "PublicationVolume",
     "volumeNumber": 8
    },
    "title": "GOATOOLS: A Python library for Gene Ontology analyses",
    "type": "Article"
   },
   {
    "authors": [
     {
      "familyNames": [
       "Koch"
      ],
      "givenNames": [
       "C"
      ],
      "type": "Person"
     },
     {
      "familyNames": [
       "Rapp"
      ],
      "givenNames": [
       "M"
      ],
      "type": "Person"
     },
     {
      "familyNames": [
       "Segev"
      ],
      "givenNames": [
       "I"
      ],
      "type": "Person"
     }
    ],
    "datePublished": {
     "type": "Date",
     "value": "1996"
    },
    "id": "bib59",
    "identifiers": [
     {
      "name": "doi",
      "propertyID": "https://registry.identifiers.org/registry/doi",
      "type": "PropertyValue",
      "value": "10.1093/cercor/6.2.93"
     }
    ],
    "isPartOf": {
     "isPartOf": {
      "name": "Cerebral Cortex",
      "type": "Periodical"
     },
     "type": "PublicationVolume",
     "volumeNumber": 6
    },
    "pageEnd": 101,
    "pageStart": 93,
    "title": "A Brief History of Time (Constants)",
    "type": "Article"
   },
   {
    "authors": [
     {
      "familyNames": [
       "Lein"
      ],
      "givenNames": [
       "ES"
      ],
      "type": "Person"
     },
     {
      "familyNames": [
       "Hawrylycz"
      ],
      "givenNames": [
       "MJ"
      ],
      "type": "Person"
     },
     {
      "familyNames": [
       "Ao"
      ],
      "givenNames": [
       "N"
      ],
      "type": "Person"
     },
     {
      "familyNames": [
       "Ayres"
      ],
      "givenNames": [
       "M"
      ],
      "type": "Person"
     },
     {
      "familyNames": [
       "Bensinger"
      ],
      "givenNames": [
       "A"
      ],
      "type": "Person"
     },
     {
      "familyNames": [
       "Bernard"
      ],
      "givenNames": [
       "A"
      ],
      "type": "Person"
     },
     {
      "familyNames": [
       "Boe"
      ],
      "givenNames": [
       "AF"
      ],
      "type": "Person"
     },
     {
      "familyNames": [
       "Boguski"
      ],
      "givenNames": [
       "MS"
      ],
      "type": "Person"
     },
     {
      "familyNames": [
       "Brockway"
      ],
      "givenNames": [
       "KS"
      ],
      "type": "Person"
     },
     {
      "familyNames": [
       "Byrnes"
      ],
      "givenNames": [
       "EJ"
      ],
      "type": "Person"
     },
     {
      "familyNames": [
       "Chen"
      ],
      "givenNames": [
       "L"
      ],
      "type": "Person"
     },
     {
      "familyNames": [
       "Chen"
      ],
      "givenNames": [
       "L"
      ],
      "type": "Person"
     },
     {
      "familyNames": [
       "Chen"
      ],
      "givenNames": [
       "T-M"
      ],
      "type": "Person"
     },
     {
      "familyNames": [
       "Chi",
       "Chin"
      ],
      "givenNames": [
       "M"
      ],
      "type": "Person"
     },
     {
      "familyNames": [
       "Chong"
      ],
      "givenNames": [
       "J"
      ],
      "type": "Person"
     },
     {
      "familyNames": [
       "Crook"
      ],
      "givenNames": [
       "BE"
      ],
      "type": "Person"
     },
     {
      "familyNames": [
       "Czaplinska"
      ],
      "givenNames": [
       "A"
      ],
      "type": "Person"
     },
     {
      "familyNames": [
       "Dang"
      ],
      "givenNames": [
       "CN"
      ],
      "type": "Person"
     },
     {
      "familyNames": [
       "Datta"
      ],
      "givenNames": [
       "S"
      ],
      "type": "Person"
     },
     {
      "familyNames": [
       "Dee"
      ],
      "givenNames": [
       "NR"
      ],
      "type": "Person"
     },
     {
      "familyNames": [
       "Desaki"
      ],
      "givenNames": [
       "AL"
      ],
      "type": "Person"
     },
     {
      "familyNames": [
       "Desta"
      ],
      "givenNames": [
       "T"
      ],
      "type": "Person"
     },
     {
      "familyNames": [
       "Diep"
      ],
      "givenNames": [
       "E"
      ],
      "type": "Person"
     },
     {
      "familyNames": [
       "Dolbeare"
      ],
      "givenNames": [
       "TA"
      ],
      "type": "Person"
     },
     {
      "familyNames": [
       "Donelan"
      ],
      "givenNames": [
       "MJ"
      ],
      "type": "Person"
     },
     {
      "familyNames": [
       "Dong"
      ],
      "givenNames": [
       "H-W"
      ],
      "type": "Person"
     },
     {
      "familyNames": [
       "Dougherty"
      ],
      "givenNames": [
       "JG"
      ],
      "type": "Person"
     },
     {
      "familyNames": [
       "Duncan"
      ],
      "givenNames": [
       "BJ"
      ],
      "type": "Person"
     },
     {
      "familyNames": [
       "Ebbert"
      ],
      "givenNames": [
       "AJ"
      ],
      "type": "Person"
     },
     {
      "familyNames": [
       "Eichele"
      ],
      "givenNames": [
       "G"
      ],
      "type": "Person"
     },
     {
      "familyNames": [
       "Estin"
      ],
      "givenNames": [
       "LK"
      ],
      "type": "Person"
     },
     {
      "familyNames": [
       "Faber"
      ],
      "givenNames": [
       "C"
      ],
      "type": "Person"
     },
     {
      "familyNames": [
       "Facer"
      ],
      "givenNames": [
       "BA"
      ],
      "type": "Person"
     },
     {
      "familyNames": [
       "Fields"
      ],
      "givenNames": [
       "R"
      ],
      "type": "Person"
     },
     {
      "familyNames": [
       "Fischer"
      ],
      "givenNames": [
       "SR"
      ],
      "type": "Person"
     },
     {
      "familyNames": [
       "Fliss"
      ],
      "givenNames": [
       "TP"
      ],
      "type": "Person"
     },
     {
      "familyNames": [
       "Frensley"
      ],
      "givenNames": [
       "C"
      ],
      "type": "Person"
     },
     {
      "familyNames": [
       "Gates"
      ],
      "givenNames": [
       "SN"
      ],
      "type": "Person"
     },
     {
      "familyNames": [
       "Glattfelder"
      ],
      "givenNames": [
       "KJ"
      ],
      "type": "Person"
     },
     {
      "familyNames": [
       "Halverson"
      ],
      "givenNames": [
       "KR"
      ],
      "type": "Person"
     },
     {
      "familyNames": [
       "Hart"
      ],
      "givenNames": [
       "MR"
      ],
      "type": "Person"
     },
     {
      "familyNames": [
       "Hohmann"
      ],
      "givenNames": [
       "JG"
      ],
      "type": "Person"
     },
     {
      "familyNames": [
       "Howell"
      ],
      "givenNames": [
       "MP"
      ],
      "type": "Person"
     },
     {
      "familyNames": [
       "Jeung"
      ],
      "givenNames": [
       "DP"
      ],
      "type": "Person"
     },
     {
      "familyNames": [
       "Johnson"
      ],
      "givenNames": [
       "RA"
      ],
      "type": "Person"
     },
     {
      "familyNames": [
       "Karr"
      ],
      "givenNames": [
       "PT"
      ],
      "type": "Person"
     },
     {
      "familyNames": [
       "Kawal"
      ],
      "givenNames": [
       "R"
      ],
      "type": "Person"
     },
     {
      "familyNames": [
       "Kidney"
      ],
      "givenNames": [
       "JM"
      ],
      "type": "Person"
     },
     {
      "familyNames": [
       "Knapik"
      ],
      "givenNames": [
       "RH"
      ],
      "type": "Person"
     },
     {
      "familyNames": [
       "Kuan"
      ],
      "givenNames": [
       "CL"
      ],
      "type": "Person"
     },
     {
      "familyNames": [
       "Lake"
      ],
      "givenNames": [
       "JH"
      ],
      "type": "Person"
     },
     {
      "familyNames": [
       "Laramee"
      ],
      "givenNames": [
       "AR"
      ],
      "type": "Person"
     },
     {
      "familyNames": [
       "Larsen"
      ],
      "givenNames": [
       "KD"
      ],
      "type": "Person"
     },
     {
      "familyNames": [
       "Lau"
      ],
      "givenNames": [
       "C"
      ],
      "type": "Person"
     },
     {
      "familyNames": [
       "Lemon"
      ],
      "givenNames": [
       "TA"
      ],
      "type": "Person"
     },
     {
      "familyNames": [
       "Liang"
      ],
      "givenNames": [
       "AJ"
      ],
      "type": "Person"
     },
     {
      "familyNames": [
       "Liu"
      ],
      "givenNames": [
       "Y"
      ],
      "type": "Person"
     },
     {
      "familyNames": [
       "Luong"
      ],
      "givenNames": [
       "LT"
      ],
      "type": "Person"
     },
     {
      "familyNames": [
       "Michaels"
      ],
      "givenNames": [
       "J"
      ],
      "type": "Person"
     },
     {
      "familyNames": [
       "Morgan"
      ],
      "givenNames": [
       "JJ"
      ],
      "type": "Person"
     },
     {
      "familyNames": [
       "Morgan"
      ],
      "givenNames": [
       "RJ"
      ],
      "type": "Person"
     },
     {
      "familyNames": [
       "Mortrud"
      ],
      "givenNames": [
       "MT"
      ],
      "type": "Person"
     },
     {
      "familyNames": [
       "Mosqueda"
      ],
      "givenNames": [
       "NF"
      ],
      "type": "Person"
     },
     {
      "familyNames": [
       "Ng"
      ],
      "givenNames": [
       "LL"
      ],
      "type": "Person"
     },
     {
      "familyNames": [
       "Ng"
      ],
      "givenNames": [
       "R"
      ],
      "type": "Person"
     },
     {
      "familyNames": [
       "Orta"
      ],
      "givenNames": [
       "GJ"
      ],
      "type": "Person"
     },
     {
      "familyNames": [
       "Overly"
      ],
      "givenNames": [
       "CC"
      ],
      "type": "Person"
     },
     {
      "familyNames": [
       "Pak"
      ],
      "givenNames": [
       "TH"
      ],
      "type": "Person"
     },
     {
      "familyNames": [
       "Parry"
      ],
      "givenNames": [
       "SE"
      ],
      "type": "Person"
     },
     {
      "familyNames": [
       "Pathak"
      ],
      "givenNames": [
       "SD"
      ],
      "type": "Person"
     },
     {
      "familyNames": [
       "Pearson"
      ],
      "givenNames": [
       "OC"
      ],
      "type": "Person"
     },
     {
      "familyNames": [
       "Puchalski"
      ],
      "givenNames": [
       "RB"
      ],
      "type": "Person"
     },
     {
      "familyNames": [
       "Riley"
      ],
      "givenNames": [
       "ZL"
      ],
      "type": "Person"
     },
     {
      "familyNames": [
       "Rockett"
      ],
      "givenNames": [
       "HR"
      ],
      "type": "Person"
     },
     {
      "familyNames": [
       "Rowland"
      ],
      "givenNames": [
       "SA"
      ],
      "type": "Person"
     },
     {
      "familyNames": [
       "Royall"
      ],
      "givenNames": [
       "JJ"
      ],
      "type": "Person"
     },
     {
      "familyNames": [
       "Ruiz"
      ],
      "givenNames": [
       "MJ"
      ],
      "type": "Person"
     },
     {
      "familyNames": [
       "Sarno"
      ],
      "givenNames": [
       "NR"
      ],
      "type": "Person"
     },
     {
      "familyNames": [
       "Schaffnit"
      ],
      "givenNames": [
       "K"
      ],
      "type": "Person"
     },
     {
      "familyNames": [
       "Shapovalova"
      ],
      "givenNames": [
       "NV"
      ],
      "type": "Person"
     },
     {
      "familyNames": [
       "Sivisay"
      ],
      "givenNames": [
       "T"
      ],
      "type": "Person"
     },
     {
      "familyNames": [
       "Slaughterbeck"
      ],
      "givenNames": [
       "CR"
      ],
      "type": "Person"
     },
     {
      "familyNames": [
       "Smith"
      ],
      "givenNames": [
       "SC"
      ],
      "type": "Person"
     },
     {
      "familyNames": [
       "Smith"
      ],
      "givenNames": [
       "KA"
      ],
      "type": "Person"
     },
     {
      "familyNames": [
       "Smith"
      ],
      "givenNames": [
       "BI"
      ],
      "type": "Person"
     },
     {
      "familyNames": [
       "Sodt"
      ],
      "givenNames": [
       "AJ"
      ],
      "type": "Person"
     },
     {
      "familyNames": [
       "Stewart"
      ],
      "givenNames": [
       "NN"
      ],
      "type": "Person"
     },
     {
      "familyNames": [
       "Stumpf"
      ],
      "givenNames": [
       "K-R"
      ],
      "type": "Person"
     },
     {
      "familyNames": [
       "Sunkin"
      ],
      "givenNames": [
       "SM"
      ],
      "type": "Person"
     },
     {
      "familyNames": [
       "Sutram"
      ],
      "givenNames": [
       "M"
      ],
      "type": "Person"
     },
     {
      "familyNames": [
       "Tam"
      ],
      "givenNames": [
       "A"
      ],
      "type": "Person"
     },
     {
      "familyNames": [
       "Teemer"
      ],
      "givenNames": [
       "CD"
      ],
      "type": "Person"
     },
     {
      "familyNames": [
       "Thaller"
      ],
      "givenNames": [
       "C"
      ],
      "type": "Person"
     },
     {
      "familyNames": [
       "Thompson"
      ],
      "givenNames": [
       "CL"
      ],
      "type": "Person"
     },
     {
      "familyNames": [
       "Varnam"
      ],
      "givenNames": [
       "LR"
      ],
      "type": "Person"
     },
     {
      "familyNames": [
       "Visel"
      ],
      "givenNames": [
       "A"
      ],
      "type": "Person"
     },
     {
      "familyNames": [
       "Whitlock"
      ],
      "givenNames": [
       "RM"
      ],
      "type": "Person"
     },
     {
      "familyNames": [
       "Wohnoutka"
      ],
      "givenNames": [
       "PE"
      ],
      "type": "Person"
     },
     {
      "familyNames": [
       "Wolkey"
      ],
      "givenNames": [
       "CK"
      ],
      "type": "Person"
     },
     {
      "familyNames": [
       "Wong"
      ],
      "givenNames": [
       "VY"
      ],
      "type": "Person"
     },
     {
      "familyNames": [
       "Wood"
      ],
      "givenNames": [
       "M"
      ],
      "type": "Person"
     },
     {
      "familyNames": [
       "Yaylaoglu"
      ],
      "givenNames": [
       "MB"
      ],
      "type": "Person"
     },
     {
      "familyNames": [
       "Young"
      ],
      "givenNames": [
       "RC"
      ],
      "type": "Person"
     },
     {
      "familyNames": [
       "Youngstrom"
      ],
      "givenNames": [
       "BL"
      ],
      "type": "Person"
     },
     {
      "familyNames": [
       "Feng",
       "Yuan"
      ],
      "givenNames": [
       "X"
      ],
      "type": "Person"
     },
     {
      "familyNames": [
       "Zhang"
      ],
      "givenNames": [
       "B"
      ],
      "type": "Person"
     },
     {
      "familyNames": [
       "Zwingman"
      ],
      "givenNames": [
       "TA"
      ],
      "type": "Person"
     },
     {
      "familyNames": [
       "Jones"
      ],
      "givenNames": [
       "AR"
      ],
      "type": "Person"
     }
    ],
    "datePublished": {
     "type": "Date",
     "value": "2007"
    },
    "id": "bib60",
    "identifiers": [
     {
      "name": "doi",
      "propertyID": "https://registry.identifiers.org/registry/doi",
      "type": "PropertyValue",
      "value": "10.1038/nature05453"
     }
    ],
    "isPartOf": {
     "isPartOf": {
      "name": "Nature",
      "type": "Periodical"
     },
     "type": "PublicationVolume",
     "volumeNumber": 445
    },
    "pageEnd": 176,
    "pageStart": 168,
    "title": "Genome-wide atlas of gene expression in the adult mouse brain",
    "type": "Article"
   },
   {
    "authors": [
     {
      "familyNames": [
       "Lerner"
      ],
      "givenNames": [
       "Y"
      ],
      "type": "Person"
     },
     {
      "familyNames": [
       "Honey"
      ],
      "givenNames": [
       "CJ"
      ],
      "type": "Person"
     },
     {
      "familyNames": [
       "Silbert"
      ],
      "givenNames": [
       "LJ"
      ],
      "type": "Person"
     },
     {
      "familyNames": [
       "Hasson"
      ],
      "givenNames": [
       "U"
      ],
      "type": "Person"
     }
    ],
    "datePublished": {
     "type": "Date",
     "value": "2011"
    },
    "id": "bib61",
    "identifiers": [
     {
      "name": "doi",
      "propertyID": "https://registry.identifiers.org/registry/doi",
      "type": "PropertyValue",
      "value": "10.1523/JNEUROSCI.3684-10.2011"
     }
    ],
    "isPartOf": {
     "isPartOf": {
      "name": "Journal of Neuroscience",
      "type": "Periodical"
     },
     "type": "PublicationVolume",
     "volumeNumber": 31
    },
    "pageEnd": 2915,
    "pageStart": 2906,
    "title": "Topographic Mapping of a Hierarchy of Temporal Receptive Windows Using a Narrated Story",
    "type": "Article"
   },
   {
    "authors": [
     {
      "familyNames": [
       "Liu"
      ],
      "givenNames": [
       "Y"
      ],
      "type": "Person"
     },
     {
      "familyNames": [
       "Beyer"
      ],
      "givenNames": [
       "A"
      ],
      "type": "Person"
     },
     {
      "familyNames": [
       "Aebersold"
      ],
      "givenNames": [
       "R"
      ],
      "type": "Person"
     }
    ],
    "datePublished": {
     "type": "Date",
     "value": "2016"
    },
    "id": "bib62",
    "identifiers": [
     {
      "name": "doi",
      "propertyID": "https://registry.identifiers.org/registry/doi",
      "type": "PropertyValue",
      "value": "10.1016/j.cell.2016.03.014"
     }
    ],
    "isPartOf": {
     "isPartOf": {
      "name": "Cell",
      "type": "Periodical"
     },
     "type": "PublicationVolume",
     "volumeNumber": 165
    },
    "pageEnd": 550,
    "pageStart": 535,
    "title": "On the Dependency of Cellular Protein Levels on mRNA Abundance",
    "type": "Article"
   },
   {
    "authors": [
     {
      "familyNames": [
       "Mahjoory"
      ],
      "givenNames": [
       "K"
      ],
      "type": "Person"
     },
     {
      "familyNames": [
       "Schoffelen"
      ],
      "givenNames": [
       "JM"
      ],
      "type": "Person"
     },
     {
      "familyNames": [
       "Keitel"
      ],
      "givenNames": [
       "A"
      ],
      "type": "Person"
     },
     {
      "familyNames": [
       "Gross"
      ],
      "givenNames": [
       "J"
      ],
      "type": "Person"
     }
    ],
    "datePublished": {
     "type": "Date",
     "value": "2020"
    },
    "id": "bib63",
    "identifiers": [
     {
      "name": "doi",
      "propertyID": "https://registry.identifiers.org/registry/doi",
      "type": "PropertyValue",
      "value": "10.7554/eLife.53715"
     },
     {
      "name": "pmid",
      "propertyID": "https://registry.identifiers.org/registry/pmid",
      "type": "PropertyValue",
      "value": 32820722
     }
    ],
    "isPartOf": {
     "isPartOf": {
      "name": "eLife",
      "type": "Periodical"
     },
     "type": "PublicationVolume",
     "volumeNumber": 9
    },
    "title": "The frequency gradient of human resting-state brain oscillations follows cortical hierarchies",
    "type": "Article"
   },
   {
    "authors": [
     {
      "familyNames": [
       "Margulies"
      ],
      "givenNames": [
       "DS"
      ],
      "type": "Person"
     },
     {
      "familyNames": [
       "Ghosh"
      ],
      "givenNames": [
       "SS"
      ],
      "type": "Person"
     },
     {
      "familyNames": [
       "Goulas"
      ],
      "givenNames": [
       "A"
      ],
      "type": "Person"
     },
     {
      "familyNames": [
       "Falkiewicz"
      ],
      "givenNames": [
       "M"
      ],
      "type": "Person"
     },
     {
      "familyNames": [
       "Huntenburg"
      ],
      "givenNames": [
       "JM"
      ],
      "type": "Person"
     },
     {
      "familyNames": [
       "Langs"
      ],
      "givenNames": [
       "G"
      ],
      "type": "Person"
     },
     {
      "familyNames": [
       "Bezgin"
      ],
      "givenNames": [
       "G"
      ],
      "type": "Person"
     },
     {
      "familyNames": [
       "Eickhoff"
      ],
      "givenNames": [
       "SB"
      ],
      "type": "Person"
     },
     {
      "familyNames": [
       "Castellanos"
      ],
      "givenNames": [
       "FX"
      ],
      "type": "Person"
     },
     {
      "familyNames": [
       "Petrides"
      ],
      "givenNames": [
       "M"
      ],
      "type": "Person"
     },
     {
      "familyNames": [
       "Jefferies"
      ],
      "givenNames": [
       "E"
      ],
      "type": "Person"
     },
     {
      "familyNames": [
       "Smallwood"
      ],
      "givenNames": [
       "J"
      ],
      "type": "Person"
     }
    ],
    "datePublished": {
     "type": "Date",
     "value": "2016"
    },
    "id": "bib64",
    "identifiers": [
     {
      "name": "doi",
      "propertyID": "https://registry.identifiers.org/registry/doi",
      "type": "PropertyValue",
      "value": "10.1073/pnas.1608282113"
     }
    ],
    "isPartOf": {
     "isPartOf": {
      "name": "PNAS",
      "type": "Periodical"
     },
     "type": "PublicationVolume",
     "volumeNumber": 113
    },
    "pageEnd": 12579,
    "pageStart": 12574,
    "title": "Situating the default-mode network along a principal gradient of macroscale cortical organization",
    "type": "Article"
   },
   {
    "authors": [
     {
      "familyNames": [
       "Miller"
      ],
      "givenNames": [
       "KJ"
      ],
      "type": "Person"
     },
     {
      "familyNames": [
       "Sorensen"
      ],
      "givenNames": [
       "LB"
      ],
      "type": "Person"
     },
     {
      "familyNames": [
       "Ojemann"
      ],
      "givenNames": [
       "JG"
      ],
      "type": "Person"
     },
     {
      "familyNames": [
       "den",
       "Nijs"
      ],
      "givenNames": [
       "M"
      ],
      "type": "Person"
     }
    ],
    "datePublished": {
     "type": "Date",
     "value": "2009"
    },
    "id": "bib65",
    "identifiers": [
     {
      "name": "doi",
      "propertyID": "https://registry.identifiers.org/registry/doi",
      "type": "PropertyValue",
      "value": "10.1371/journal.pcbi.1000609"
     },
     {
      "name": "pmid",
      "propertyID": "https://registry.identifiers.org/registry/pmid",
      "type": "PropertyValue",
      "value": 20019800
     }
    ],
    "isPartOf": {
     "isPartOf": {
      "name": "PLOS Computational Biology",
      "type": "Periodical"
     },
     "type": "PublicationVolume",
     "volumeNumber": 5
    },
    "title": "Power-law scaling in the brain surface electric potential",
    "type": "Article"
   },
   {
    "authors": [
     {
      "familyNames": [
       "Monyer"
      ],
      "givenNames": [
       "H"
      ],
      "type": "Person"
     },
     {
      "familyNames": [
       "Burnashev"
      ],
      "givenNames": [
       "N"
      ],
      "type": "Person"
     },
     {
      "familyNames": [
       "Laurie"
      ],
      "givenNames": [
       "DJ"
      ],
      "type": "Person"
     },
     {
      "familyNames": [
       "Sakmann"
      ],
      "givenNames": [
       "B"
      ],
      "type": "Person"
     },
     {
      "familyNames": [
       "Seeburg"
      ],
      "givenNames": [
       "PH"
      ],
      "type": "Person"
     }
    ],
    "datePublished": {
     "type": "Date",
     "value": "1994"
    },
    "id": "bib66",
    "identifiers": [
     {
      "name": "doi",
      "propertyID": "https://registry.identifiers.org/registry/doi",
      "type": "PropertyValue",
      "value": "10.1016/0896-6273(94)90210-0"
     }
    ],
    "isPartOf": {
     "isPartOf": {
      "name": "Neuron",
      "type": "Periodical"
     },
     "type": "PublicationVolume",
     "volumeNumber": 12
    },
    "pageEnd": 540,
    "pageStart": 529,
    "title": "Developmental and regional expression in the rat brain and functional properties of four NMDA receptors",
    "type": "Article"
   },
   {
    "authors": [
     {
      "familyNames": [
       "Mukamel"
      ],
      "givenNames": [
       "R"
      ],
      "type": "Person"
     },
     {
      "familyNames": [
       "Gelbard"
      ],
      "givenNames": [
       "H"
      ],
      "type": "Person"
     },
     {
      "familyNames": [
       "Arieli"
      ],
      "givenNames": [
       "A"
      ],
      "type": "Person"
     },
     {
      "familyNames": [
       "Hasson"
      ],
      "givenNames": [
       "U"
      ],
      "type": "Person"
     },
     {
      "familyNames": [
       "Fried"
      ],
      "givenNames": [
       "I"
      ],
      "type": "Person"
     },
     {
      "familyNames": [
       "Malach"
      ],
      "givenNames": [
       "R"
      ],
      "type": "Person"
     }
    ],
    "datePublished": {
     "type": "Date",
     "value": "2005"
    },
    "id": "bib67",
    "identifiers": [
     {
      "name": "doi",
      "propertyID": "https://registry.identifiers.org/registry/doi",
      "type": "PropertyValue",
      "value": "10.1126/science.1110913"
     },
     {
      "name": "pmid",
      "propertyID": "https://registry.identifiers.org/registry/pmid",
      "type": "PropertyValue",
      "value": 16081741
     }
    ],
    "isPartOf": {
     "isPartOf": {
      "name": "Science",
      "type": "Periodical"
     },
     "type": "PublicationVolume",
     "volumeNumber": 309
    },
    "pageEnd": 954,
    "pageStart": 951,
    "title": "Coupling between neuronal firing, field potentials, and FMRI in human auditory cortex",
    "type": "Article"
   },
   {
    "authors": [
     {
      "familyNames": [
       "Murray"
      ],
      "givenNames": [
       "JD"
      ],
      "type": "Person"
     },
     {
      "familyNames": [
       "Bernacchia"
      ],
      "givenNames": [
       "A"
      ],
      "type": "Person"
     },
     {
      "familyNames": [
       "Freedman"
      ],
      "givenNames": [
       "DJ"
      ],
      "type": "Person"
     },
     {
      "familyNames": [
       "Romo"
      ],
      "givenNames": [
       "R"
      ],
      "type": "Person"
     },
     {
      "familyNames": [
       "Wallis"
      ],
      "givenNames": [
       "JD"
      ],
      "type": "Person"
     },
     {
      "familyNames": [
       "Cai"
      ],
      "givenNames": [
       "X"
      ],
      "type": "Person"
     },
     {
      "familyNames": [
       "Padoa-Schioppa"
      ],
      "givenNames": [
       "C"
      ],
      "type": "Person"
     },
     {
      "familyNames": [
       "Pasternak"
      ],
      "givenNames": [
       "T"
      ],
      "type": "Person"
     },
     {
      "familyNames": [
       "Seo"
      ],
      "givenNames": [
       "H"
      ],
      "type": "Person"
     },
     {
      "familyNames": [
       "Lee"
      ],
      "givenNames": [
       "D"
      ],
      "type": "Person"
     },
     {
      "familyNames": [
       "Wang"
      ],
      "givenNames": [
       "X-J"
      ],
      "type": "Person"
     }
    ],
    "datePublished": {
     "type": "Date",
     "value": "2014"
    },
    "id": "bib68",
    "identifiers": [
     {
      "name": "doi",
      "propertyID": "https://registry.identifiers.org/registry/doi",
      "type": "PropertyValue",
      "value": "10.1038/nn.3862"
     }
    ],
    "isPartOf": {
     "isPartOf": {
      "name": "Nature Neuroscience",
      "type": "Periodical"
     },
     "type": "PublicationVolume",
     "volumeNumber": 17
    },
    "pageEnd": 1663,
    "pageStart": 1661,
    "title": "A hierarchy of intrinsic timescales across primate cortex",
    "type": "Article"
   },
   {
    "authors": [
     {
      "familyNames": [
       "Nagasaka"
      ],
      "givenNames": [
       "Y"
      ],
      "type": "Person"
     },
     {
      "familyNames": [
       "Shimoda"
      ],
      "givenNames": [
       "K"
      ],
      "type": "Person"
     },
     {
      "familyNames": [
       "Fujii"
      ],
      "givenNames": [
       "N"
      ],
      "type": "Person"
     }
    ],
    "datePublished": {
     "type": "Date",
     "value": "2011"
    },
    "id": "bib69",
    "identifiers": [
     {
      "name": "doi",
      "propertyID": "https://registry.identifiers.org/registry/doi",
      "type": "PropertyValue",
      "value": "10.1371/journal.pone.0022561"
     }
    ],
    "isPartOf": {
     "isPartOf": {
      "name": "PLOS ONE",
      "type": "Periodical"
     },
     "type": "PublicationVolume",
     "volumeNumber": 6
    },
    "title": "Multidimensional Recording (MDR) and Data Sharing: An Ecological Open Research and Educational Platform for Neuroscience",
    "type": "Article"
   },
   {
    "authors": [
     {
      "familyNames": [
       "Ogawa"
      ],
      "givenNames": [
       "T"
      ],
      "type": "Person"
     },
     {
      "familyNames": [
       "Komatsu"
      ],
      "givenNames": [
       "H"
      ],
      "type": "Person"
     }
    ],
    "datePublished": {
     "type": "Date",
     "value": "2010"
    },
    "id": "bib70",
    "identifiers": [
     {
      "name": "doi",
      "propertyID": "https://registry.identifiers.org/registry/doi",
      "type": "PropertyValue",
      "value": "10.1152/jn.01066.2009"
     }
    ],
    "isPartOf": {
     "isPartOf": {
      "name": "Journal of Neurophysiology",
      "type": "Periodical"
     },
     "type": "PublicationVolume",
     "volumeNumber": 103
    },
    "pageEnd": 2445,
    "pageStart": 2433,
    "title": "Differential Temporal Storage Capacity in the Baseline Activity of Neurons in Macaque Frontal Eye Field and Area V4",
    "type": "Article"
   },
   {
    "authors": [
     {
      "familyNames": [
       "Ossmy"
      ],
      "givenNames": [
       "O"
      ],
      "type": "Person"
     },
     {
      "familyNames": [
       "Moran"
      ],
      "givenNames": [
       "R"
      ],
      "type": "Person"
     },
     {
      "familyNames": [
       "Pfeffer"
      ],
      "givenNames": [
       "T"
      ],
      "type": "Person"
     },
     {
      "familyNames": [
       "Tsetsos"
      ],
      "givenNames": [
       "K"
      ],
      "type": "Person"
     },
     {
      "familyNames": [
       "Usher"
      ],
      "givenNames": [
       "M"
      ],
      "type": "Person"
     },
     {
      "familyNames": [
       "Donner"
      ],
      "givenNames": [
       "TH"
      ],
      "type": "Person"
     }
    ],
    "datePublished": {
     "type": "Date",
     "value": "2013"
    },
    "id": "bib71",
    "identifiers": [
     {
      "name": "doi",
      "propertyID": "https://registry.identifiers.org/registry/doi",
      "type": "PropertyValue",
      "value": "10.1016/j.cub.2013.04.039"
     }
    ],
    "isPartOf": {
     "isPartOf": {
      "name": "Current Biology",
      "type": "Periodical"
     },
     "type": "PublicationVolume",
     "volumeNumber": 23
    },
    "pageEnd": 986,
    "pageStart": 981,
    "title": "The Timescale of Perceptual Evidence Integration Can Be Adapted to the Environment",
    "type": "Article"
   },
   {
    "authors": [
     {
      "familyNames": [
       "Pedregosa"
      ],
      "givenNames": [
       "F"
      ],
      "type": "Person"
     }
    ],
    "datePublished": {
     "type": "Date",
     "value": "2011"
    },
    "id": "bib72",
    "isPartOf": {
     "isPartOf": {
      "name": "Journal of Machine Learning Research : JMLR",
      "type": "Periodical"
     },
     "type": "PublicationVolume",
     "volumeNumber": 12
    },
    "pageEnd": 2830,
    "pageStart": 2825,
    "title": "Scikit-learn: machine learning in Python",
    "type": "Article"
   },
   {
    "authors": [
     {
      "familyNames": [
       "Pegasiou"
      ],
      "givenNames": [
       "CM"
      ],
      "type": "Person"
     },
     {
      "familyNames": [
       "Zolnourian"
      ],
      "givenNames": [
       "A"
      ],
      "type": "Person"
     },
     {
      "familyNames": [
       "Gomez-Nicola"
      ],
      "givenNames": [
       "D"
      ],
      "type": "Person"
     },
     {
      "familyNames": [
       "Deinhardt"
      ],
      "givenNames": [
       "K"
      ],
      "type": "Person"
     },
     {
      "familyNames": [
       "Nicoll"
      ],
      "givenNames": [
       "JAR"
      ],
      "type": "Person"
     },
     {
      "familyNames": [
       "Ahmed"
      ],
      "givenNames": [
       "AI"
      ],
      "type": "Person"
     },
     {
      "familyNames": [
       "Vajramani"
      ],
      "givenNames": [
       "G"
      ],
      "type": "Person"
     },
     {
      "familyNames": [
       "Grundy"
      ],
      "givenNames": [
       "P"
      ],
      "type": "Person"
     },
     {
      "familyNames": [
       "Verhoog"
      ],
      "givenNames": [
       "MB"
      ],
      "type": "Person"
     },
     {
      "familyNames": [
       "Mansvelder"
      ],
      "givenNames": [
       "HD"
      ],
      "type": "Person"
     },
     {
      "familyNames": [
       "Perry"
      ],
      "givenNames": [
       "VH"
      ],
      "type": "Person"
     },
     {
      "familyNames": [
       "Bulters"
      ],
      "givenNames": [
       "D"
      ],
      "type": "Person"
     },
     {
      "familyNames": [
       "Vargas-Caballero"
      ],
      "givenNames": [
       "M"
      ],
      "type": "Person"
     }
    ],
    "datePublished": {
     "type": "Date",
     "value": "2020"
    },
    "id": "bib73",
    "identifiers": [
     {
      "name": "doi",
      "propertyID": "https://registry.identifiers.org/registry/doi",
      "type": "PropertyValue",
      "value": "10.1093/cercor/bhaa052"
     }
    ],
    "isPartOf": {
     "isPartOf": {
      "name": "Cerebral Cortex",
      "type": "Periodical"
     },
     "type": "PublicationVolume",
     "volumeNumber": 30
    },
    "pageEnd": 4256,
    "pageStart": 4246,
    "title": "Age-Dependent Changes in Synaptic NMDA Receptor Composition in Adult Human Cortical Neurons",
    "type": "Article"
   },
   {
    "authors": [
     {
      "familyNames": [
       "Pinto"
      ],
      "givenNames": [
       "L"
      ],
      "type": "Person"
     },
     {
      "familyNames": [
       "Rajan"
      ],
      "givenNames": [
       "K"
      ],
      "type": "Person"
     },
     {
      "familyNames": [
       "DePasquale"
      ],
      "givenNames": [
       "B"
      ],
      "type": "Person"
     },
     {
      "familyNames": [
       "Thiberge"
      ],
      "givenNames": [
       "SY"
      ],
      "type": "Person"
     },
     {
      "familyNames": [
       "Tank"
      ],
      "givenNames": [
       "DW"
      ],
      "type": "Person"
     },
     {
      "familyNames": [
       "Brody"
      ],
      "givenNames": [
       "CD"
      ],
      "type": "Person"
     }
    ],
    "datePublished": {
     "type": "Date",
     "value": "2019"
    },
    "id": "bib74",
    "identifiers": [
     {
      "name": "doi",
      "propertyID": "https://registry.identifiers.org/registry/doi",
      "type": "PropertyValue",
      "value": "10.1016/j.neuron.2019.08.025"
     }
    ],
    "isPartOf": {
     "isPartOf": {
      "name": "Neuron",
      "type": "Periodical"
     },
     "type": "PublicationVolume",
     "volumeNumber": 104
    },
    "pageEnd": 824,
    "pageStart": 810,
    "title": "Task-Dependent Changes in the Large-Scale Dynamics and Necessity of Cortical Regions",
    "type": "Article"
   },
   {
    "authors": [
     {
      "familyNames": [
       "Podvalny"
      ],
      "givenNames": [
       "E"
      ],
      "type": "Person"
     },
     {
      "familyNames": [
       "Noy"
      ],
      "givenNames": [
       "N"
      ],
      "type": "Person"
     },
     {
      "familyNames": [
       "Harel"
      ],
      "givenNames": [
       "M"
      ],
      "type": "Person"
     },
     {
      "familyNames": [
       "Bickel"
      ],
      "givenNames": [
       "S"
      ],
      "type": "Person"
     },
     {
      "familyNames": [
       "Chechik"
      ],
      "givenNames": [
       "G"
      ],
      "type": "Person"
     },
     {
      "familyNames": [
       "Schroeder"
      ],
      "givenNames": [
       "CE"
      ],
      "type": "Person"
     },
     {
      "familyNames": [
       "Mehta"
      ],
      "givenNames": [
       "AD"
      ],
      "type": "Person"
     },
     {
      "familyNames": [
       "Tsodyks"
      ],
      "givenNames": [
       "M"
      ],
      "type": "Person"
     },
     {
      "familyNames": [
       "Malach"
      ],
      "givenNames": [
       "R"
      ],
      "type": "Person"
     }
    ],
    "datePublished": {
     "type": "Date",
     "value": "2015"
    },
    "id": "bib75",
    "identifiers": [
     {
      "name": "doi",
      "propertyID": "https://registry.identifiers.org/registry/doi",
      "type": "PropertyValue",
      "value": "10.1152/jn.00943.2014"
     }
    ],
    "isPartOf": {
     "isPartOf": {
      "name": "Journal of Neurophysiology",
      "type": "Periodical"
     },
     "type": "PublicationVolume",
     "volumeNumber": 114
    },
    "pageEnd": 519,
    "pageStart": 505,
    "title": "A unifying principle underlying the extracellular field potential spectral responses in the human cortex",
    "type": "Article"
   },
   {
    "authors": [
     {
      "familyNames": [
       "Runyan"
      ],
      "givenNames": [
       "CA"
      ],
      "type": "Person"
     },
     {
      "familyNames": [
       "Piasini"
      ],
      "givenNames": [
       "E"
      ],
      "type": "Person"
     },
     {
      "familyNames": [
       "Panzeri"
      ],
      "givenNames": [
       "S"
      ],
      "type": "Person"
     },
     {
      "familyNames": [
       "Harvey"
      ],
      "givenNames": [
       "CD"
      ],
      "type": "Person"
     }
    ],
    "datePublished": {
     "type": "Date",
     "value": "2017"
    },
    "id": "bib76",
    "identifiers": [
     {
      "name": "doi",
      "propertyID": "https://registry.identifiers.org/registry/doi",
      "type": "PropertyValue",
      "value": "10.1038/nature23020"
     }
    ],
    "isPartOf": {
     "isPartOf": {
      "name": "Nature",
      "type": "Periodical"
     },
     "type": "PublicationVolume",
     "volumeNumber": 548
    },
    "pageEnd": 96,
    "pageStart": 92,
    "title": "Distinct timescales of population coding across cortex",
    "type": "Article"
   },
   {
    "authors": [
     {
      "familyNames": [
       "Sarafyazd"
      ],
      "givenNames": [
       "M"
      ],
      "type": "Person"
     },
     {
      "familyNames": [
       "Jazayeri"
      ],
      "givenNames": [
       "M"
      ],
      "type": "Person"
     }
    ],
    "datePublished": {
     "type": "Date",
     "value": "2019"
    },
    "id": "bib77",
    "identifiers": [
     {
      "name": "doi",
      "propertyID": "https://registry.identifiers.org/registry/doi",
      "type": "PropertyValue",
      "value": "10.1126/science.aav8911"
     },
     {
      "name": "pmid",
      "propertyID": "https://registry.identifiers.org/registry/pmid",
      "type": "PropertyValue",
      "value": 31097640
     }
    ],
    "isPartOf": {
     "isPartOf": {
      "name": "Science",
      "type": "Periodical"
     },
     "type": "PublicationVolume",
     "volumeNumber": 364
    },
    "title": "Hierarchical reasoning by neural circuits in the frontal cortex",
    "type": "Article"
   },
   {
    "authors": [
     {
      "familyNames": [
       "Savaskan"
      ],
      "givenNames": [
       "NE"
      ],
      "type": "Person"
     },
     {
      "familyNames": [
       "Brauer"
      ],
      "givenNames": [
       "AU"
      ],
      "type": "Person"
     },
     {
      "familyNames": [
       "Nitsch"
      ],
      "givenNames": [
       "R"
      ],
      "type": "Person"
     }
    ],
    "datePublished": {
     "type": "Date",
     "value": "2004"
    },
    "id": "bib78",
    "identifiers": [
     {
      "name": "doi",
      "propertyID": "https://registry.identifiers.org/registry/doi",
      "type": "PropertyValue",
      "value": "10.1046/j.1460-9568.2003.03078.x"
     }
    ],
    "isPartOf": {
     "isPartOf": {
      "name": "European Journal of Neuroscience",
      "type": "Periodical"
     },
     "type": "PublicationVolume",
     "volumeNumber": 19
    },
    "pageEnd": 220,
    "pageStart": 212,
    "title": "Molecular cloning and expression regulation of PRG-3, a new member of the plasticity-related gene family",
    "type": "Article"
   },
   {
    "authors": [
     {
      "familyNames": [
       "Shine"
      ],
      "givenNames": [
       "JM"
      ],
      "type": "Person"
     },
     {
      "familyNames": [
       "Breakspear"
      ],
      "givenNames": [
       "M"
      ],
      "type": "Person"
     },
     {
      "familyNames": [
       "Bell"
      ],
      "givenNames": [
       "PT"
      ],
      "type": "Person"
     },
     {
      "familyNames": [
       "Ehgoetz",
       "Martens"
      ],
      "givenNames": [
       "KA"
      ],
      "type": "Person"
     },
     {
      "familyNames": [
       "Shine"
      ],
      "givenNames": [
       "R"
      ],
      "type": "Person"
     },
     {
      "familyNames": [
       "Koyejo"
      ],
      "givenNames": [
       "O"
      ],
      "type": "Person"
     },
     {
      "familyNames": [
       "Sporns"
      ],
      "givenNames": [
       "O"
      ],
      "type": "Person"
     },
     {
      "familyNames": [
       "Poldrack"
      ],
      "givenNames": [
       "RA"
      ],
      "type": "Person"
     }
    ],
    "datePublished": {
     "type": "Date",
     "value": "2019"
    },
    "id": "bib79",
    "identifiers": [
     {
      "name": "doi",
      "propertyID": "https://registry.identifiers.org/registry/doi",
      "type": "PropertyValue",
      "value": "10.1038/s41593-018-0312-0"
     }
    ],
    "isPartOf": {
     "isPartOf": {
      "name": "Nature Neuroscience",
      "type": "Periodical"
     },
     "type": "PublicationVolume",
     "volumeNumber": 22
    },
    "pageEnd": 296,
    "pageStart": 289,
    "title": "Human cognition involves the dynamic integration of neural activity and neuromodulatory systems",
    "type": "Article"
   },
   {
    "authors": [
     {
      "familyNames": [
       "Teleńczuk"
      ],
      "givenNames": [
       "B"
      ],
      "type": "Person"
     },
     {
      "familyNames": [
       "Dehghani"
      ],
      "givenNames": [
       "N"
      ],
      "type": "Person"
     },
     {
      "familyNames": [
       "Le",
       "Van",
       "Quyen"
      ],
      "givenNames": [
       "M"
      ],
      "type": "Person"
     },
     {
      "familyNames": [
       "Cash"
      ],
      "givenNames": [
       "SS"
      ],
      "type": "Person"
     },
     {
      "familyNames": [
       "Halgren"
      ],
      "givenNames": [
       "E"
      ],
      "type": "Person"
     },
     {
      "familyNames": [
       "Hatsopoulos"
      ],
      "givenNames": [
       "NG"
      ],
      "type": "Person"
     },
     {
      "familyNames": [
       "Destexhe"
      ],
      "givenNames": [
       "A"
      ],
      "type": "Person"
     }
    ],
    "datePublished": {
     "type": "Date",
     "value": "2017"
    },
    "id": "bib80",
    "identifiers": [
     {
      "name": "doi",
      "propertyID": "https://registry.identifiers.org/registry/doi",
      "type": "PropertyValue",
      "value": "10.1038/srep40211"
     }
    ],
    "isPartOf": {
     "isPartOf": {
      "name": "Scientific Reports",
      "type": "Periodical"
     },
     "type": "PublicationVolume",
     "volumeNumber": 7
    },
    "title": "Local field potentials primarily reflect inhibitory neuron activity in human and monkey cortex",
    "type": "Article"
   },
   {
    "authors": [
     {
      "familyNames": [
       "Tripathy"
      ],
      "givenNames": [
       "SJ"
      ],
      "type": "Person"
     },
     {
      "familyNames": [
       "Toker"
      ],
      "givenNames": [
       "L"
      ],
      "type": "Person"
     },
     {
      "familyNames": [
       "Li"
      ],
      "givenNames": [
       "B"
      ],
      "type": "Person"
     },
     {
      "familyNames": [
       "Crichlow"
      ],
      "givenNames": [
       "C-L"
      ],
      "type": "Person"
     },
     {
      "familyNames": [
       "Tebaykin"
      ],
      "givenNames": [
       "D"
      ],
      "type": "Person"
     },
     {
      "familyNames": [
       "Mancarci"
      ],
      "givenNames": [
       "BO"
      ],
      "type": "Person"
     },
     {
      "familyNames": [
       "Pavlidis"
      ],
      "givenNames": [
       "P"
      ],
      "type": "Person"
     }
    ],
    "datePublished": {
     "type": "Date",
     "value": "2017"
    },
    "id": "bib81",
    "identifiers": [
     {
      "name": "doi",
      "propertyID": "https://registry.identifiers.org/registry/doi",
      "type": "PropertyValue",
      "value": "10.1371/journal.pcbi.1005814"
     }
    ],
    "isPartOf": {
     "isPartOf": {
      "name": "PLOS Computational Biology",
      "type": "Periodical"
     },
     "type": "PublicationVolume",
     "volumeNumber": 13
    },
    "title": "Transcriptomic correlates of neuron electrophysiological diversity",
    "type": "Article"
   },
   {
    "authors": [
     {
      "familyNames": [
       "van",
       "den",
       "Brink"
      ],
      "givenNames": [
       "RL"
      ],
      "type": "Person"
     }
    ],
    "datePublished": {
     "type": "Date",
     "value": "2020"
    },
    "id": "bib82",
    "title": "First Release of Surface Projection Code",
    "type": "Article",
    "url": "https://doi.org/10.5281/zenodo.4352385"
   },
   {
    "authors": [
     {
      "familyNames": [
       "van",
       "Vugt"
      ],
      "givenNames": [
       "B"
      ],
      "type": "Person"
     },
     {
      "familyNames": [
       "van",
       "Kerkoerle"
      ],
      "givenNames": [
       "T"
      ],
      "type": "Person"
     },
     {
      "familyNames": [
       "Vartak"
      ],
      "givenNames": [
       "D"
      ],
      "type": "Person"
     },
     {
      "familyNames": [
       "Roelfsema"
      ],
      "givenNames": [
       "PR"
      ],
      "type": "Person"
     }
    ],
    "datePublished": {
     "type": "Date",
     "value": "2020"
    },
    "id": "bib83",
    "identifiers": [
     {
      "name": "doi",
      "propertyID": "https://registry.identifiers.org/registry/doi",
      "type": "PropertyValue",
      "value": "10.1523/JNEUROSCI.2121-19.2020"
     }
    ],
    "isPartOf": {
     "isPartOf": {
      "name": "The Journal of Neuroscience",
      "type": "Periodical"
     },
     "type": "PublicationVolume",
     "volumeNumber": 40
    },
    "pageEnd": 2470,
    "pageStart": 2458,
    "title": "The Contribution of AMPA and NMDA Receptors to Persistent Firing in the Dorsolateral Prefrontal Cortex in Working Memory",
    "type": "Article"
   },
   {
    "authors": [
     {
      "familyNames": [
       "Vértes"
      ],
      "givenNames": [
       "PE"
      ],
      "type": "Person"
     },
     {
      "familyNames": [
       "Rittman"
      ],
      "givenNames": [
       "T"
      ],
      "type": "Person"
     },
     {
      "familyNames": [
       "Whitaker"
      ],
      "givenNames": [
       "KJ"
      ],
      "type": "Person"
     },
     {
      "familyNames": [
       "Romero-Garcia"
      ],
      "givenNames": [
       "R"
      ],
      "type": "Person"
     },
     {
      "familyNames": [
       "Váša"
      ],
      "givenNames": [
       "F"
      ],
      "type": "Person"
     },
     {
      "familyNames": [
       "Kitzbichler"
      ],
      "givenNames": [
       "MG"
      ],
      "type": "Person"
     },
     {
      "familyNames": [
       "Wagstyl"
      ],
      "givenNames": [
       "K"
      ],
      "type": "Person"
     },
     {
      "familyNames": [
       "Fonagy"
      ],
      "givenNames": [
       "P"
      ],
      "type": "Person"
     },
     {
      "familyNames": [
       "Dolan"
      ],
      "givenNames": [
       "RJ"
      ],
      "type": "Person"
     },
     {
      "familyNames": [
       "Jones"
      ],
      "givenNames": [
       "PB"
      ],
      "type": "Person"
     },
     {
      "familyNames": [
       "Goodyer"
      ],
      "givenNames": [
       "IM"
      ],
      "type": "Person"
     },
     {
      "familyNames": [
       "Bullmore"
      ],
      "givenNames": [
       "ET"
      ],
      "type": "Person"
     }
    ],
    "datePublished": {
     "type": "Date",
     "value": "2016"
    },
    "id": "bib84",
    "identifiers": [
     {
      "name": "doi",
      "propertyID": "https://registry.identifiers.org/registry/doi",
      "type": "PropertyValue",
      "value": "10.1098/rstb.2015.0362"
     }
    ],
    "isPartOf": {
     "isPartOf": {
      "name": "Philosophical Transactions of the Royal Society B: Biological Sciences",
      "type": "Periodical"
     },
     "type": "PublicationVolume",
     "volumeNumber": 371
    },
    "title": "Gene transcription profiles associated with inter-modular hubs and connection distance in human functional magnetic resonance imaging networks",
    "type": "Article"
   },
   {
    "authors": [
     {
      "familyNames": [
       "Vezoli"
      ],
      "givenNames": [
       "J"
      ],
      "type": "Person"
     },
     {
      "familyNames": [
       "Magrou"
      ],
      "givenNames": [
       "L"
      ],
      "type": "Person"
     },
     {
      "familyNames": [
       "Wang"
      ],
      "givenNames": [
       "X-J"
      ],
      "type": "Person"
     },
     {
      "familyNames": [
       "Knoblauch"
      ],
      "givenNames": [
       "K"
      ],
      "type": "Person"
     },
     {
      "familyNames": [
       "Vinck"
      ],
      "givenNames": [
       "M"
      ],
      "type": "Person"
     },
     {
      "familyNames": [
       "Kennedy"
      ],
      "givenNames": [
       "H"
      ],
      "type": "Person"
     }
    ],
    "datePublished": {
     "type": "Date",
     "value": "2020"
    },
    "id": "bib85",
    "identifiers": [
     {
      "name": "doi",
      "propertyID": "https://registry.identifiers.org/registry/doi",
      "type": "PropertyValue",
      "value": "10.1101/2020.04.08.032706"
     }
    ],
    "isPartOf": {
     "name": "bioRxiv",
     "type": "Periodical"
    },
    "title": "Cortical hierarchy and the dual counterstream architecture",
    "type": "Article"
   },
   {
    "authors": [
     {
      "familyNames": [
       "Virtanen"
      ],
      "givenNames": [
       "P"
      ],
      "type": "Person"
     },
     {
      "familyNames": [
       "Gommers"
      ],
      "givenNames": [
       "R"
      ],
      "type": "Person"
     },
     {
      "familyNames": [
       "Oliphant"
      ],
      "givenNames": [
       "TE"
      ],
      "type": "Person"
     },
     {
      "familyNames": [
       "Haberland"
      ],
      "givenNames": [
       "M"
      ],
      "type": "Person"
     },
     {
      "familyNames": [
       "Reddy"
      ],
      "givenNames": [
       "T"
      ],
      "type": "Person"
     },
     {
      "familyNames": [
       "Cournapeau"
      ],
      "givenNames": [
       "D"
      ],
      "type": "Person"
     },
     {
      "familyNames": [
       "Burovski"
      ],
      "givenNames": [
       "E"
      ],
      "type": "Person"
     },
     {
      "familyNames": [
       "Peterson"
      ],
      "givenNames": [
       "P"
      ],
      "type": "Person"
     },
     {
      "familyNames": [
       "Weckesser"
      ],
      "givenNames": [
       "W"
      ],
      "type": "Person"
     },
     {
      "familyNames": [
       "Bright"
      ],
      "givenNames": [
       "J"
      ],
      "type": "Person"
     },
     {
      "familyNames": [
       "van",
       "der",
       "Walt"
      ],
      "givenNames": [
       "SJ"
      ],
      "type": "Person"
     },
     {
      "familyNames": [
       "Brett"
      ],
      "givenNames": [
       "M"
      ],
      "type": "Person"
     },
     {
      "familyNames": [
       "Wilson"
      ],
      "givenNames": [
       "J"
      ],
      "type": "Person"
     },
     {
      "familyNames": [
       "Millman"
      ],
      "givenNames": [
       "KJ"
      ],
      "type": "Person"
     },
     {
      "familyNames": [
       "Mayorov"
      ],
      "givenNames": [
       "N"
      ],
      "type": "Person"
     },
     {
      "familyNames": [
       "Nelson"
      ],
      "givenNames": [
       "ARJ"
      ],
      "type": "Person"
     },
     {
      "familyNames": [
       "Jones"
      ],
      "givenNames": [
       "E"
      ],
      "type": "Person"
     },
     {
      "familyNames": [
       "Kern"
      ],
      "givenNames": [
       "R"
      ],
      "type": "Person"
     },
     {
      "familyNames": [
       "Larson"
      ],
      "givenNames": [
       "E"
      ],
      "type": "Person"
     },
     {
      "familyNames": [
       "Carey"
      ],
      "givenNames": [
       "CJ"
      ],
      "type": "Person"
     },
     {
      "familyNames": [
       "Polat"
      ],
      "givenNames": [
       "İ"
      ],
      "type": "Person"
     },
     {
      "familyNames": [
       "Feng"
      ],
      "givenNames": [
       "Y"
      ],
      "type": "Person"
     },
     {
      "familyNames": [
       "Moore"
      ],
      "givenNames": [
       "EW"
      ],
      "type": "Person"
     },
     {
      "familyNames": [
       "VanderPlas"
      ],
      "givenNames": [
       "J"
      ],
      "type": "Person"
     },
     {
      "familyNames": [
       "Laxalde"
      ],
      "givenNames": [
       "D"
      ],
      "type": "Person"
     },
     {
      "familyNames": [
       "Perktold"
      ],
      "givenNames": [
       "J"
      ],
      "type": "Person"
     },
     {
      "familyNames": [
       "Cimrman"
      ],
      "givenNames": [
       "R"
      ],
      "type": "Person"
     },
     {
      "familyNames": [
       "Henriksen"
      ],
      "givenNames": [
       "I"
      ],
      "type": "Person"
     },
     {
      "familyNames": [
       "Quintero"
      ],
      "givenNames": [
       "EA"
      ],
      "type": "Person"
     },
     {
      "familyNames": [
       "Harris"
      ],
      "givenNames": [
       "CR"
      ],
      "type": "Person"
     },
     {
      "familyNames": [
       "Archibald"
      ],
      "givenNames": [
       "AM"
      ],
      "type": "Person"
     },
     {
      "familyNames": [
       "Ribeiro"
      ],
      "givenNames": [
       "AH"
      ],
      "type": "Person"
     },
     {
      "familyNames": [
       "Pedregosa"
      ],
      "givenNames": [
       "F"
      ],
      "type": "Person"
     },
     {
      "familyNames": [
       "van",
       "Mulbregt"
      ],
      "givenNames": [
       "P"
      ],
      "type": "Person"
     },
     {
      "name": "SciPy 1.0 Contributors",
      "type": "Organization"
     }
    ],
    "datePublished": {
     "type": "Date",
     "value": "2020"
    },
    "id": "bib86",
    "identifiers": [
     {
      "name": "doi",
      "propertyID": "https://registry.identifiers.org/registry/doi",
      "type": "PropertyValue",
      "value": "10.1038/s41592-019-0686-2"
     },
     {
      "name": "pmid",
      "propertyID": "https://registry.identifiers.org/registry/pmid",
      "type": "PropertyValue",
      "value": 32015543
     }
    ],
    "isPartOf": {
     "isPartOf": {
      "name": "Nature Methods",
      "type": "Periodical"
     },
     "type": "PublicationVolume",
     "volumeNumber": 17
    },
    "pageEnd": 272,
    "pageStart": 261,
    "title": "SciPy 1.0: fundamental algorithms for scientific computing in Python",
    "type": "Article"
   },
   {
    "authors": [
     {
      "familyNames": [
       "Vos",
       "de",
       "Wael"
      ],
      "givenNames": [
       "R"
      ],
      "type": "Person"
     },
     {
      "familyNames": [
       "Benkarim"
      ],
      "givenNames": [
       "O"
      ],
      "type": "Person"
     },
     {
      "familyNames": [
       "Paquola"
      ],
      "givenNames": [
       "C"
      ],
      "type": "Person"
     },
     {
      "familyNames": [
       "Lariviere"
      ],
      "givenNames": [
       "S"
      ],
      "type": "Person"
     },
     {
      "familyNames": [
       "Royer"
      ],
      "givenNames": [
       "J"
      ],
      "type": "Person"
     },
     {
      "familyNames": [
       "Tavakol"
      ],
      "givenNames": [
       "S"
      ],
      "type": "Person"
     },
     {
      "familyNames": [
       "Xu"
      ],
      "givenNames": [
       "T"
      ],
      "type": "Person"
     },
     {
      "familyNames": [
       "Hong"
      ],
      "givenNames": [
       "SJ"
      ],
      "type": "Person"
     },
     {
      "familyNames": [
       "Langs"
      ],
      "givenNames": [
       "G"
      ],
      "type": "Person"
     },
     {
      "familyNames": [
       "Valk"
      ],
      "givenNames": [
       "S"
      ],
      "type": "Person"
     },
     {
      "familyNames": [
       "Misic"
      ],
      "givenNames": [
       "B"
      ],
      "type": "Person"
     },
     {
      "familyNames": [
       "Milham"
      ],
      "givenNames": [
       "M"
      ],
      "type": "Person"
     },
     {
      "familyNames": [
       "Margulies"
      ],
      "givenNames": [
       "D"
      ],
      "type": "Person"
     },
     {
      "familyNames": [
       "Smallwood"
      ],
      "givenNames": [
       "J"
      ],
      "type": "Person"
     },
     {
      "familyNames": [
       "Bernhardt"
      ],
      "givenNames": [
       "BC"
      ],
      "type": "Person"
     }
    ],
    "datePublished": {
     "type": "Date",
     "value": "2020"
    },
    "id": "bib87",
    "identifiers": [
     {
      "name": "doi",
      "propertyID": "https://registry.identifiers.org/registry/doi",
      "type": "PropertyValue",
      "value": "10.1038/s42003-020-0794-7"
     },
     {
      "name": "pmid",
      "propertyID": "https://registry.identifiers.org/registry/pmid",
      "type": "PropertyValue",
      "value": 32139786
     }
    ],
    "isPartOf": {
     "isPartOf": {
      "name": "Communications Biology",
      "type": "Periodical"
     },
     "type": "PublicationVolume",
     "volumeNumber": 3
    },
    "title": "BrainSpace: a toolbox for the analysis of macroscale gradients in neuroimaging and connectomics datasets",
    "type": "Article"
   },
   {
    "authors": [
     {
      "familyNames": [
       "Voytek"
      ],
      "givenNames": [
       "B"
      ],
      "type": "Person"
     },
     {
      "familyNames": [
       "Kayser"
      ],
      "givenNames": [
       "AS"
      ],
      "type": "Person"
     },
     {
      "familyNames": [
       "Badre"
      ],
      "givenNames": [
       "D"
      ],
      "type": "Person"
     },
     {
      "familyNames": [
       "Fegen"
      ],
      "givenNames": [
       "D"
      ],
      "type": "Person"
     },
     {
      "familyNames": [
       "Chang"
      ],
      "givenNames": [
       "EF"
      ],
      "type": "Person"
     },
     {
      "familyNames": [
       "Crone"
      ],
      "givenNames": [
       "NE"
      ],
      "type": "Person"
     },
     {
      "familyNames": [
       "Parvizi"
      ],
      "givenNames": [
       "J"
      ],
      "type": "Person"
     },
     {
      "familyNames": [
       "Knight"
      ],
      "givenNames": [
       "RT"
      ],
      "type": "Person"
     },
     {
      "familyNames": [
       "D'Esposito"
      ],
      "givenNames": [
       "M"
      ],
      "type": "Person"
     }
    ],
    "datePublished": {
     "type": "Date",
     "value": "2015"
    },
    "id": "bib88",
    "identifiers": [
     {
      "name": "doi",
      "propertyID": "https://registry.identifiers.org/registry/doi",
      "type": "PropertyValue",
      "value": "10.1038/nn.4071"
     }
    ],
    "isPartOf": {
     "isPartOf": {
      "name": "Nature Neuroscience",
      "type": "Periodical"
     },
     "type": "PublicationVolume",
     "volumeNumber": 18
    },
    "pageEnd": 1324,
    "pageStart": 1318,
    "title": "Oscillatory dynamics coordinating human frontal networks in support of goal maintenance",
    "type": "Article"
   },
   {
    "authors": [
     {
      "familyNames": [
       "Voytek"
      ],
      "givenNames": [
       "B"
      ],
      "type": "Person"
     },
     {
      "familyNames": [
       "Kramer"
      ],
      "givenNames": [
       "MA"
      ],
      "type": "Person"
     },
     {
      "familyNames": [
       "Case"
      ],
      "givenNames": [
       "J"
      ],
      "type": "Person"
     },
     {
      "familyNames": [
       "Lepage"
      ],
      "givenNames": [
       "KQ"
      ],
      "type": "Person"
     },
     {
      "familyNames": [
       "Tempesta"
      ],
      "givenNames": [
       "ZR"
      ],
      "type": "Person"
     },
     {
      "familyNames": [
       "Knight"
      ],
      "givenNames": [
       "RT"
      ],
      "type": "Person"
     },
     {
      "familyNames": [
       "Gazzaley"
      ],
      "givenNames": [
       "A"
      ],
      "type": "Person"
     }
    ],
    "datePublished": {
     "type": "Date",
     "value": "2015"
    },
    "id": "bib89",
    "identifiers": [
     {
      "name": "doi",
      "propertyID": "https://registry.identifiers.org/registry/doi",
      "type": "PropertyValue",
      "value": "10.1523/JNEUROSCI.2332-14.2015"
     }
    ],
    "isPartOf": {
     "isPartOf": {
      "name": "Journal of Neuroscience",
      "type": "Periodical"
     },
     "type": "PublicationVolume",
     "volumeNumber": 35
    },
    "pageEnd": 13265,
    "pageStart": 13257,
    "title": "Age-Related Changes in 1/f Neural Electrophysiological Noise",
    "type": "Article"
   },
   {
    "authors": [
     {
      "familyNames": [
       "Voytek"
      ],
      "givenNames": [
       "B"
      ],
      "type": "Person"
     },
     {
      "familyNames": [
       "Knight"
      ],
      "givenNames": [
       "RT"
      ],
      "type": "Person"
     }
    ],
    "datePublished": {
     "type": "Date",
     "value": "2015"
    },
    "id": "bib90",
    "identifiers": [
     {
      "name": "doi",
      "propertyID": "https://registry.identifiers.org/registry/doi",
      "type": "PropertyValue",
      "value": "10.1016/j.biopsych.2015.04.016"
     },
     {
      "name": "pmid",
      "propertyID": "https://registry.identifiers.org/registry/pmid",
      "type": "PropertyValue",
      "value": 26005114
     }
    ],
    "isPartOf": {
     "isPartOf": {
      "name": "Biological Psychiatry",
      "type": "Periodical"
     },
     "type": "PublicationVolume",
     "volumeNumber": 77
    },
    "pageEnd": 1097,
    "pageStart": 1089,
    "title": "Dynamic network communication as a unifying neural basis for cognition, development, aging, and disease",
    "type": "Article"
   },
   {
    "authors": [
     {
      "familyNames": [
       "Vyas"
      ],
      "givenNames": [
       "S"
      ],
      "type": "Person"
     },
     {
      "familyNames": [
       "Golub"
      ],
      "givenNames": [
       "MD"
      ],
      "type": "Person"
     },
     {
      "familyNames": [
       "Sussillo"
      ],
      "givenNames": [
       "D"
      ],
      "type": "Person"
     },
     {
      "familyNames": [
       "Shenoy"
      ],
      "givenNames": [
       "KV"
      ],
      "type": "Person"
     }
    ],
    "datePublished": {
     "type": "Date",
     "value": "2020"
    },
    "id": "bib91",
    "identifiers": [
     {
      "name": "doi",
      "propertyID": "https://registry.identifiers.org/registry/doi",
      "type": "PropertyValue",
      "value": "10.1146/annurev-neuro-092619-094115"
     }
    ],
    "isPartOf": {
     "isPartOf": {
      "name": "Annual Review of Neuroscience",
      "type": "Periodical"
     },
     "type": "PublicationVolume",
     "volumeNumber": 43
    },
    "pageEnd": 275,
    "pageStart": 249,
    "title": "Computation Through Neural Population Dynamics",
    "type": "Article"
   },
   {
    "authors": [
     {
      "familyNames": [
       "Wagner"
      ],
      "givenNames": [
       "HH"
      ],
      "type": "Person"
     },
     {
      "familyNames": [
       "Dray"
      ],
      "givenNames": [
       "S"
      ],
      "type": "Person"
     }
    ],
    "datePublished": {
     "type": "Date",
     "value": "2015"
    },
    "id": "bib92",
    "identifiers": [
     {
      "name": "doi",
      "propertyID": "https://registry.identifiers.org/registry/doi",
      "type": "PropertyValue",
      "value": "10.1111/2041-210X.12407"
     }
    ],
    "isPartOf": {
     "isPartOf": {
      "name": "Methods in Ecology and Evolution",
      "type": "Periodical"
     },
     "type": "PublicationVolume",
     "volumeNumber": 6
    },
    "pageEnd": 1178,
    "pageStart": 1169,
    "title": "Generating spatially constrained null models for irregularly spaced data using Moran spectral randomization methods",
    "type": "Article"
   },
   {
    "authors": [
     {
      "familyNames": [
       "Wang"
      ],
      "givenNames": [
       "XJ"
      ],
      "type": "Person"
     }
    ],
    "datePublished": {
     "type": "Date",
     "value": "1999"
    },
    "id": "bib93",
    "identifiers": [
     {
      "name": "doi",
      "propertyID": "https://registry.identifiers.org/registry/doi",
      "type": "PropertyValue",
      "value": "10.1523/JNEUROSCI.19-21-09587.1999"
     },
     {
      "name": "pmid",
      "propertyID": "https://registry.identifiers.org/registry/pmid",
      "type": "PropertyValue",
      "value": 10531461
     }
    ],
    "isPartOf": {
     "isPartOf": {
      "name": "The Journal of Neuroscience",
      "type": "Periodical"
     },
     "type": "PublicationVolume",
     "volumeNumber": 19
    },
    "pageEnd": 9603,
    "pageStart": 9587,
    "title": "Synaptic basis of cortical persistent activity: the importance of NMDA receptors to working memory",
    "type": "Article"
   },
   {
    "authors": [
     {
      "familyNames": [
       "Wang"
      ],
      "givenNames": [
       "XJ"
      ],
      "type": "Person"
     }
    ],
    "datePublished": {
     "type": "Date",
     "value": "2002"
    },
    "id": "bib94",
    "identifiers": [
     {
      "name": "doi",
      "propertyID": "https://registry.identifiers.org/registry/doi",
      "type": "PropertyValue",
      "value": "10.1016/S0896-6273(02)01092-9"
     },
     {
      "name": "pmid",
      "propertyID": "https://registry.identifiers.org/registry/pmid",
      "type": "PropertyValue",
      "value": 12467598
     }
    ],
    "isPartOf": {
     "isPartOf": {
      "name": "Neuron",
      "type": "Periodical"
     },
     "type": "PublicationVolume",
     "volumeNumber": 36
    },
    "pageEnd": 968,
    "pageStart": 955,
    "title": "Probabilistic decision making by slow reverberation in cortical circuits",
    "type": "Article"
   },
   {
    "authors": [
     {
      "familyNames": [
       "Wang"
      ],
      "givenNames": [
       "XJ"
      ],
      "type": "Person"
     }
    ],
    "datePublished": {
     "type": "Date",
     "value": "2008"
    },
    "id": "bib95",
    "identifiers": [
     {
      "name": "doi",
      "propertyID": "https://registry.identifiers.org/registry/doi",
      "type": "PropertyValue",
      "value": "10.1016/j.neuron.2008.09.034"
     },
     {
      "name": "pmid",
      "propertyID": "https://registry.identifiers.org/registry/pmid",
      "type": "PropertyValue",
      "value": 18957215
     }
    ],
    "isPartOf": {
     "isPartOf": {
      "name": "Neuron",
      "type": "Periodical"
     },
     "type": "PublicationVolume",
     "volumeNumber": 60
    },
    "pageEnd": 234,
    "pageStart": 215,
    "title": "Decision making in recurrent neuronal circuits",
    "type": "Article"
   },
   {
    "authors": [
     {
      "familyNames": [
       "Wang"
      ],
      "givenNames": [
       "M"
      ],
      "type": "Person"
     },
     {
      "familyNames": [
       "Gamo"
      ],
      "givenNames": [
       "NJ"
      ],
      "type": "Person"
     },
     {
      "familyNames": [
       "Yang"
      ],
      "givenNames": [
       "Y"
      ],
      "type": "Person"
     },
     {
      "familyNames": [
       "Jin"
      ],
      "givenNames": [
       "LE"
      ],
      "type": "Person"
     },
     {
      "familyNames": [
       "Wang"
      ],
      "givenNames": [
       "X-J"
      ],
      "type": "Person"
     },
     {
      "familyNames": [
       "Laubach"
      ],
      "givenNames": [
       "M"
      ],
      "type": "Person"
     },
     {
      "familyNames": [
       "Mazer"
      ],
      "givenNames": [
       "JA"
      ],
      "type": "Person"
     },
     {
      "familyNames": [
       "Lee"
      ],
      "givenNames": [
       "D"
      ],
      "type": "Person"
     },
     {
      "familyNames": [
       "Arnsten"
      ],
      "givenNames": [
       "AFT"
      ],
      "type": "Person"
     }
    ],
    "datePublished": {
     "type": "Date",
     "value": "2011"
    },
    "id": "bib96",
    "identifiers": [
     {
      "name": "doi",
      "propertyID": "https://registry.identifiers.org/registry/doi",
      "type": "PropertyValue",
      "value": "10.1038/nature10243"
     }
    ],
    "isPartOf": {
     "isPartOf": {
      "name": "Nature",
      "type": "Periodical"
     },
     "type": "PublicationVolume",
     "volumeNumber": 476
    },
    "pageEnd": 213,
    "pageStart": 210,
    "title": "Neuronal basis of age-related working memory decline",
    "type": "Article"
   },
   {
    "authors": [
     {
      "familyNames": [
       "Wang"
      ],
      "givenNames": [
       "M"
      ],
      "type": "Person"
     },
     {
      "familyNames": [
       "Yang"
      ],
      "givenNames": [
       "Y"
      ],
      "type": "Person"
     },
     {
      "familyNames": [
       "Wang"
      ],
      "givenNames": [
       "CJ"
      ],
      "type": "Person"
     },
     {
      "familyNames": [
       "Gamo"
      ],
      "givenNames": [
       "NJ"
      ],
      "type": "Person"
     },
     {
      "familyNames": [
       "Jin"
      ],
      "givenNames": [
       "LE"
      ],
      "type": "Person"
     },
     {
      "familyNames": [
       "Mazer"
      ],
      "givenNames": [
       "JA"
      ],
      "type": "Person"
     },
     {
      "familyNames": [
       "Morrison"
      ],
      "givenNames": [
       "JH"
      ],
      "type": "Person"
     },
     {
      "familyNames": [
       "Wang"
      ],
      "givenNames": [
       "XJ"
      ],
      "type": "Person"
     },
     {
      "familyNames": [
       "Arnsten"
      ],
      "givenNames": [
       "AF"
      ],
      "type": "Person"
     }
    ],
    "datePublished": {
     "type": "Date",
     "value": "2013"
    },
    "id": "bib97",
    "identifiers": [
     {
      "name": "doi",
      "propertyID": "https://registry.identifiers.org/registry/doi",
      "type": "PropertyValue",
      "value": "10.1016/j.neuron.2012.12.032"
     },
     {
      "name": "pmid",
      "propertyID": "https://registry.identifiers.org/registry/pmid",
      "type": "PropertyValue",
      "value": 23439125
     }
    ],
    "isPartOf": {
     "isPartOf": {
      "name": "Neuron",
      "type": "Periodical"
     },
     "type": "PublicationVolume",
     "volumeNumber": 77
    },
    "pageEnd": 749,
    "pageStart": 736,
    "title": "NMDA receptors subserve persistent neuronal firing during working memory in dorsolateral prefrontal cortex",
    "type": "Article"
   },
   {
    "authors": [
     {
      "familyNames": [
       "Wang"
      ],
      "givenNames": [
       "XJ"
      ],
      "type": "Person"
     }
    ],
    "datePublished": {
     "type": "Date",
     "value": "2020"
    },
    "id": "bib98",
    "identifiers": [
     {
      "name": "doi",
      "propertyID": "https://registry.identifiers.org/registry/doi",
      "type": "PropertyValue",
      "value": "10.1038/s41583-020-0262-x"
     },
     {
      "name": "pmid",
      "propertyID": "https://registry.identifiers.org/registry/pmid",
      "type": "PropertyValue",
      "value": 32029928
     }
    ],
    "isPartOf": {
     "isPartOf": {
      "name": "Nature Reviews Neuroscience",
      "type": "Periodical"
     },
     "type": "PublicationVolume",
     "volumeNumber": 21
    },
    "pageEnd": 178,
    "pageStart": 169,
    "title": "Macroscopic gradients of synaptic excitation and inhibition in the neocortex",
    "type": "Article"
   },
   {
    "authors": [
     {
      "familyNames": [
       "Wasmuht"
      ],
      "givenNames": [
       "DF"
      ],
      "type": "Person"
     },
     {
      "familyNames": [
       "Spaak"
      ],
      "givenNames": [
       "E"
      ],
      "type": "Person"
     },
     {
      "familyNames": [
       "Buschman"
      ],
      "givenNames": [
       "TJ"
      ],
      "type": "Person"
     },
     {
      "familyNames": [
       "Miller"
      ],
      "givenNames": [
       "EK"
      ],
      "type": "Person"
     },
     {
      "familyNames": [
       "Stokes"
      ],
      "givenNames": [
       "MG"
      ],
      "type": "Person"
     }
    ],
    "datePublished": {
     "type": "Date",
     "value": "2018"
    },
    "id": "bib99",
    "identifiers": [
     {
      "name": "doi",
      "propertyID": "https://registry.identifiers.org/registry/doi",
      "type": "PropertyValue",
      "value": "10.1038/s41467-018-05961-4"
     }
    ],
    "isPartOf": {
     "isPartOf": {
      "name": "Nature Communications",
      "type": "Periodical"
     },
     "type": "PublicationVolume",
     "volumeNumber": 9
    },
    "title": "Intrinsic neuronal dynamics predict distinct functional roles during working memory",
    "type": "Article"
   },
   {
    "authors": [
     {
      "familyNames": [
       "Watanabe"
      ],
      "givenNames": [
       "T"
      ],
      "type": "Person"
     },
     {
      "familyNames": [
       "Rees"
      ],
      "givenNames": [
       "G"
      ],
      "type": "Person"
     },
     {
      "familyNames": [
       "Masuda"
      ],
      "givenNames": [
       "N"
      ],
      "type": "Person"
     }
    ],
    "datePublished": {
     "type": "Date",
     "value": "2019"
    },
    "id": "bib100",
    "identifiers": [
     {
      "name": "doi",
      "propertyID": "https://registry.identifiers.org/registry/doi",
      "type": "PropertyValue",
      "value": "10.7554/eLife.42256"
     },
     {
      "name": "pmid",
      "propertyID": "https://registry.identifiers.org/registry/pmid",
      "type": "PropertyValue",
      "value": 30717827
     }
    ],
    "isPartOf": {
     "isPartOf": {
      "name": "eLife",
      "type": "Periodical"
     },
     "type": "PublicationVolume",
     "volumeNumber": 8
    },
    "title": "Atypical intrinsic neural timescale in autism",
    "type": "Article"
   },
   {
    "authors": [
     {
      "familyNames": [
       "Whitaker"
      ],
      "givenNames": [
       "KJ"
      ],
      "type": "Person"
     },
     {
      "familyNames": [
       "Vértes"
      ],
      "givenNames": [
       "PE"
      ],
      "type": "Person"
     },
     {
      "familyNames": [
       "Romero-Garcia"
      ],
      "givenNames": [
       "R"
      ],
      "type": "Person"
     },
     {
      "familyNames": [
       "Váša"
      ],
      "givenNames": [
       "F"
      ],
      "type": "Person"
     },
     {
      "familyNames": [
       "Moutoussis"
      ],
      "givenNames": [
       "M"
      ],
      "type": "Person"
     },
     {
      "familyNames": [
       "Prabhu"
      ],
      "givenNames": [
       "G"
      ],
      "type": "Person"
     },
     {
      "familyNames": [
       "Weiskopf"
      ],
      "givenNames": [
       "N"
      ],
      "type": "Person"
     },
     {
      "familyNames": [
       "Callaghan"
      ],
      "givenNames": [
       "MF"
      ],
      "type": "Person"
     },
     {
      "familyNames": [
       "Wagstyl"
      ],
      "givenNames": [
       "K"
      ],
      "type": "Person"
     },
     {
      "familyNames": [
       "Rittman"
      ],
      "givenNames": [
       "T"
      ],
      "type": "Person"
     },
     {
      "familyNames": [
       "Tait"
      ],
      "givenNames": [
       "R"
      ],
      "type": "Person"
     },
     {
      "familyNames": [
       "Ooi"
      ],
      "givenNames": [
       "C"
      ],
      "type": "Person"
     },
     {
      "familyNames": [
       "Suckling"
      ],
      "givenNames": [
       "J"
      ],
      "type": "Person"
     },
     {
      "familyNames": [
       "Inkster"
      ],
      "givenNames": [
       "B"
      ],
      "type": "Person"
     },
     {
      "familyNames": [
       "Fonagy"
      ],
      "givenNames": [
       "P"
      ],
      "type": "Person"
     },
     {
      "familyNames": [
       "Dolan"
      ],
      "givenNames": [
       "RJ"
      ],
      "type": "Person"
     },
     {
      "familyNames": [
       "Jones"
      ],
      "givenNames": [
       "PB"
      ],
      "type": "Person"
     },
     {
      "familyNames": [
       "Goodyer"
      ],
      "givenNames": [
       "IM"
      ],
      "type": "Person"
     },
     {
      "familyNames": [
       "Bullmore"
      ],
      "givenNames": [
       "ET"
      ],
      "type": "Person"
     }
    ],
    "datePublished": {
     "type": "Date",
     "value": "2016"
    },
    "id": "bib101",
    "identifiers": [
     {
      "name": "doi",
      "propertyID": "https://registry.identifiers.org/registry/doi",
      "type": "PropertyValue",
      "value": "10.1073/pnas.1601745113"
     }
    ],
    "isPartOf": {
     "isPartOf": {
      "name": "PNAS",
      "type": "Periodical"
     },
     "type": "PublicationVolume",
     "volumeNumber": 113
    },
    "pageEnd": 9110,
    "pageStart": 9105,
    "title": "Adolescence is associated with genomically patterned consolidation of the hubs of the human brain connectome",
    "type": "Article"
   },
   {
    "authors": [
     {
      "familyNames": [
       "Wimmer"
      ],
      "givenNames": [
       "K"
      ],
      "type": "Person"
     },
     {
      "familyNames": [
       "Nykamp"
      ],
      "givenNames": [
       "DQ"
      ],
      "type": "Person"
     },
     {
      "familyNames": [
       "Constantinidis"
      ],
      "givenNames": [
       "C"
      ],
      "type": "Person"
     },
     {
      "familyNames": [
       "Compte"
      ],
      "givenNames": [
       "A"
      ],
      "type": "Person"
     }
    ],
    "datePublished": {
     "type": "Date",
     "value": "2014"
    },
    "id": "bib102",
    "identifiers": [
     {
      "name": "doi",
      "propertyID": "https://registry.identifiers.org/registry/doi",
      "type": "PropertyValue",
      "value": "10.1038/nn.3645"
     }
    ],
    "isPartOf": {
     "isPartOf": {
      "name": "Nature Neuroscience",
      "type": "Periodical"
     },
     "type": "PublicationVolume",
     "volumeNumber": 17
    },
    "pageEnd": 439,
    "pageStart": 431,
    "title": "Bump attractor dynamics in prefrontal cortex explains behavioral precision in spatial working memory",
    "type": "Article"
   },
   {
    "authors": [
     {
      "familyNames": [
       "Yanagawa"
      ],
      "givenNames": [
       "T"
      ],
      "type": "Person"
     },
     {
      "familyNames": [
       "Chao"
      ],
      "givenNames": [
       "ZC"
      ],
      "type": "Person"
     },
     {
      "familyNames": [
       "Hasegawa"
      ],
      "givenNames": [
       "N"
      ],
      "type": "Person"
     },
     {
      "familyNames": [
       "Fujii"
      ],
      "givenNames": [
       "N"
      ],
      "type": "Person"
     }
    ],
    "datePublished": {
     "type": "Date",
     "value": "2013"
    },
    "id": "bib103",
    "identifiers": [
     {
      "name": "doi",
      "propertyID": "https://registry.identifiers.org/registry/doi",
      "type": "PropertyValue",
      "value": "10.1371/journal.pone.0080845"
     }
    ],
    "isPartOf": {
     "isPartOf": {
      "name": "PLOS ONE",
      "type": "Periodical"
     },
     "type": "PublicationVolume",
     "volumeNumber": 8
    },
    "title": "Large-Scale Information Flow in Conscious and Unconscious States: an ECoG Study in Monkeys",
    "type": "Article"
   },
   {
    "authors": [
     {
      "familyNames": [
       "Zeraati"
      ],
      "givenNames": [
       "R"
      ],
      "type": "Person"
     },
     {
      "familyNames": [
       "Engel"
      ],
      "givenNames": [
       "TA"
      ],
      "type": "Person"
     },
     {
      "familyNames": [
       "Levina"
      ],
      "givenNames": [
       "A"
      ],
      "type": "Person"
     }
    ],
    "datePublished": {
     "type": "Date",
     "value": "2020"
    },
    "id": "bib104",
    "identifiers": [
     {
      "name": "doi",
      "propertyID": "https://registry.identifiers.org/registry/doi",
      "type": "PropertyValue",
      "value": "10.1101/2020.08.11.245944"
     }
    ],
    "isPartOf": {
     "name": "bioRxiv",
     "type": "Periodical"
    },
    "title": "Estimation of autocorrelation timescales with approximate bayesian computations",
    "type": "Article"
   },
   {
    "authors": [
     {
      "familyNames": [
       "Zylberberg"
      ],
      "givenNames": [
       "J"
      ],
      "type": "Person"
     },
     {
      "familyNames": [
       "Strowbridge"
      ],
      "givenNames": [
       "BW"
      ],
      "type": "Person"
     }
    ],
    "datePublished": {
     "type": "Date",
     "value": "2017"
    },
    "id": "bib105",
    "identifiers": [
     {
      "name": "doi",
      "propertyID": "https://registry.identifiers.org/registry/doi",
      "type": "PropertyValue",
      "value": "10.1146/annurev-neuro-070815-014006"
     }
    ],
    "isPartOf": {
     "isPartOf": {
      "name": "Annual Review of Neuroscience",
      "type": "Periodical"
     },
     "type": "PublicationVolume",
     "volumeNumber": 40
    },
    "pageEnd": 627,
    "pageStart": 603,
    "title": "Mechanisms of Persistent Activity in Cortical Circuits: Possible Neural Substrates for Working Memory",
    "type": "Article"
   }
  ],
  "title": "Neuronal timescales are functionally dynamic and shaped by cortical microarchitecture"
 },
 "nbformat": 4,
 "nbformat_minor": 4
}
